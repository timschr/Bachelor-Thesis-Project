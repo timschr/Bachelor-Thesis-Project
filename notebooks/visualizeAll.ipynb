{
 "cells": [
  {
   "cell_type": "markdown",
   "metadata": {},
   "source": [
    "# Make Combined Dataframe and draw results in Video "
   ]
  },
  {
   "cell_type": "code",
   "execution_count": 33,
   "metadata": {},
   "outputs": [],
   "source": [
    "import detectron2\n",
    "from detectron2.utils.logger import setup_logger\n",
    "setup_logger()\n",
    "\n",
    "# import some common libraries\n",
    "import numpy as np\n",
    "import pandas as pd\n",
    "import cv2\n",
    "import os\n",
    "import random\n",
    "import sys\n",
    "import glob\n",
    "from tqdm.notebook import tqdm\n",
    "import matplotlib.pyplot as plt \n",
    "from pathlib import Path\n",
    "import multiprocessing as mp\n",
    "import tables\n",
    "import scipy.io as sio\n",
    "from scipy.ndimage.measurements import center_of_mass\n",
    "from scipy.spatial.distance import euclidean\n",
    "import imageio\n",
    "from matplotlib.backends.backend_agg import FigureCanvasAgg as FigureCanvas\n",
    "from matplotlib.patches import Rectangle #changed\n",
    "\n",
    "# import some common detectron2 utilities\n",
    "from detectron2 import model_zoo\n",
    "from detectron2.engine import DefaultPredictor\n",
    "from detectron2.config import get_cfg\n",
    "from detectron2.utils.visualizer import Visualizer\n",
    "from detectron2.data import MetadataCatalog\n",
    "\n",
    "from utils.graphic_utils import *\n",
    "from utils.detectron_utils import *\n",
    "from utils.dataframe_utils import *\n"
   ]
  },
  {
   "cell_type": "code",
   "execution_count": 34,
   "metadata": {
    "tags": []
   },
   "outputs": [
    {
     "output_type": "stream",
     "name": "stdout",
     "text": "CODE_DIR:  /Users/timschroder/Documents/Uni/Bachelorarbeit/project_code\nPROJECT_DIR:  /Users/timschroder/Documents/Uni/Bachelorarbeit\nRESULTS_DIR:  /Users/timschroder/Documents/Uni/Bachelorarbeit/project_results.nosync/\nROOT_DIR:  /Users/timschroder/Documents/Uni/Bachelorarbeit/project_code/detectron2/\nHPC: False\n"
    }
   ],
   "source": [
    "DATASET = 'LUEBECK/'\n",
    "hpc = False\n",
    "segmentation = 'panoptic'\n",
    "\n",
    "DIR = Path(os.path.dirname(os.path.realpath('__file__'))).parent\n",
    "if (DIR== Path('/beegfs/home/users/t/tim.schroeder/')):\n",
    "    CODE_DIR = os.path.join(DIR, 'object_rep/project_code/') \n",
    "    hpc = True\n",
    "else: \n",
    "    CODE_DIR = DIR\n",
    "\n",
    "print('CODE_DIR: ', CODE_DIR)\n",
    "PROJECT_DIR = Path(CODE_DIR).parent\n",
    "print('PROJECT_DIR: ', PROJECT_DIR)\n",
    "DATA_DIR = os.path.join(PROJECT_DIR, 'project_data.nosync/')\n",
    "RESULTS_DIR = os.path.join(PROJECT_DIR, 'project_results.nosync/')\n",
    "D_DIR = os.path.join(PROJECT_DIR, 'project_results.nosync/','panoptic-seg/')\n",
    "print('RESULTS_DIR: ', RESULTS_DIR)\n",
    "\n",
    "ROOT_DIR = os.path.join(CODE_DIR, \"detectron2/\")\n",
    "print('ROOT_DIR: ', ROOT_DIR)\n",
    "\n",
    "sys.path.append(ROOT_DIR)\n",
    "from demo.predictor import VisualizationDemo\n",
    "print('HPC:', hpc)"
   ]
  },
  {
   "cell_type": "code",
   "execution_count": 35,
   "metadata": {},
   "outputs": [],
   "source": [
    "def setup_cfg():\n",
    "    cfg = get_cfg()\n",
    "    if segmentation == 'panoptic':\n",
    "        cfg.merge_from_file(model_zoo.get_config_file(\"COCO-PanopticSegmentation/panoptic_fpn_R_101_3x.yaml\"))\n",
    "        cfg.MODEL.WEIGHTS = model_zoo.get_checkpoint_url(\"COCO-PanopticSegmentation/panoptic_fpn_R_101_3x.yaml\")\n",
    "    elif segmentation == 'mrcnn':\n",
    "        cfg.merge_from_file(model_zoo.get_config_file(\"COCO-InstanceSegmentation/mask_rcnn_R_101_FPN_3x.yaml\"))\n",
    "        cfg.MODEL.WEIGHTS = model_zoo.get_checkpoint_url(\"COCO-InstanceSegmentation/mask_rcnn_R_101_FPN_3x.yaml\")\n",
    "    if not hpc: \n",
    "        cfg.MODEL.DEVICE = 'cpu' #only on local device\n",
    "\n",
    "    cfg.freeze()\n",
    "    return cfg"
   ]
  },
  {
   "cell_type": "code",
   "execution_count": 36,
   "metadata": {},
   "outputs": [],
   "source": [
    "def matchScore(x,y,mask):\n",
    "    center = center_of_mass(mask)\n",
    "    distanceFromCenter = euclidean(center,(y,x))\n",
    "    size = np.count_nonzero(mask)\n",
    "    maxDist = 1468\n",
    "    maxSize = 921600\n",
    "    score = (((1/(maxSize**2))*(size-maxSize)**2) + (1-distanceFromCenter/maxDist))/2\n",
    "    return score"
   ]
  },
  {
   "cell_type": "code",
   "execution_count": 37,
   "metadata": {},
   "outputs": [],
   "source": [
    "cfg = setup_cfg() #Define Classifier for Panoptic Segmentation\n",
    "predictor = DefaultPredictor(cfg)\n",
    "demo = VisualizationDemo(cfg)\n",
    "metadata = demo.metadata"
   ]
  },
  {
   "cell_type": "code",
   "execution_count": 21,
   "metadata": {},
   "outputs": [],
   "source": [
    "GAZE_FOLDER_DIR = '/Users/timschroder/Documents/Uni/Bachelorarbeit/project_data.nosync/LUEBECK_GAZE/GazeCom_ground_truth/'\n",
    "gaze_folder_list = [video for video in glob.glob(GAZE_FOLDER_DIR + '/*')]\n",
    "gaze_folder_list.sort()\n",
    "\n",
    "\n",
    "VIDEO_DIR = '/Users/timschroder/Documents/Uni/Bachelorarbeit/project_data.nosync/LUEBECK/'\n",
    "video_path_list = [video for video in glob.glob(VIDEO_DIR + '/*')]\n",
    "video_path_list.sort()\n",
    "\n",
    "\n",
    "detect_path_list = [video for video in glob.glob(RESULTS_DIR + 'detect_video/' + '*.avi')]\n",
    "detect_path_list.sort()\n",
    "\n",
    "data_path_list = [video for video in glob.glob(D_DIR + '*_data.npy')]\n",
    "data_path_list.sort()\n",
    "data_path_list\n",
    "\n",
    "info_path_list = [video for video in glob.glob(D_DIR + '*_deepsort.npy')]\n",
    "info_path_list.sort()\n"
   ]
  },
  {
   "cell_type": "markdown",
   "metadata": {},
   "source": [
    "## Make Dataframe how Gaze Allocation correlates with Panoptic Segmentation, Motion & Proto Object"
   ]
  },
  {
   "cell_type": "code",
   "execution_count": 32,
   "metadata": {
    "tags": []
   },
   "outputs": [
    {
     "output_type": "display_data",
     "data": {
      "text/plain": "HBox(children=(FloatProgress(value=0.0, max=1.0), HTML(value='')))",
      "application/vnd.jupyter.widget-view+json": {
       "version_major": 2,
       "version_minor": 0,
       "model_id": "8ef9ecd05f104d8c948f73d8bc26e934"
      }
     },
     "metadata": {}
    },
    {
     "output_type": "stream",
     "name": "stdout",
     "text": "street\n/Users/timschroder/Documents/Uni/Bachelorarbeit/project_data.nosync/LUEBECK_GAZE/GazeCom_ground_truth/street\n/Users/timschroder/Documents/Uni/Bachelorarbeit/project_results.nosync/panoptic-seg/street_data.npy\n/Users/timschroder/Documents/Uni/Bachelorarbeit/project_results.nosync/panoptic-seg/street_info_deepsort.npy\n"
    },
    {
     "output_type": "display_data",
     "data": {
      "text/plain": "HBox(children=(FloatProgress(value=0.0, description='subjects', max=50.0, style=ProgressStyle(description_widt…",
      "application/vnd.jupyter.widget-view+json": {
       "version_major": 2,
       "version_minor": 0,
       "model_id": "b4c2fe23296f40f1ae703d0231334196"
      }
     },
     "metadata": {}
    },
    {
     "output_type": "stream",
     "name": "stdout",
     "text": "/Users/timschroder/Documents/Uni/Bachelorarbeit/project_data.nosync/LUEBECK_GAZE/GazeCom_ground_truth/street/AAF_street.arff\n"
    },
    {
     "output_type": "display_data",
     "data": {
      "text/plain": "HBox(children=(FloatProgress(value=0.0, description='frames', max=595.0, style=ProgressStyle(description_width…",
      "application/vnd.jupyter.widget-view+json": {
       "version_major": 2,
       "version_minor": 0,
       "model_id": "31385b296e31408faf6b3ae4c9f72233"
      }
     },
     "metadata": {}
    },
    {
     "output_type": "stream",
     "name": "stdout",
     "text": "\n\n\n"
    },
    {
     "output_type": "error",
     "ename": "IndexError",
     "evalue": "list index out of range",
     "traceback": [
      "\u001b[0;31m---------------------------------------------------------------------------\u001b[0m",
      "\u001b[0;31mIndexError\u001b[0m                                Traceback (most recent call last)",
      "\u001b[0;32m<ipython-input-32-bdf8a38a9b40>\u001b[0m in \u001b[0;36m<module>\u001b[0;34m\u001b[0m\n\u001b[1;32m     86\u001b[0m                     \u001b[0mpanoptic_mask\u001b[0m \u001b[0;34m=\u001b[0m \u001b[0mpanoptic_seg\u001b[0m\u001b[0;34m[\u001b[0m\u001b[0mf\u001b[0m\u001b[0;34m]\u001b[0m\u001b[0;34m.\u001b[0m\u001b[0mnumpy\u001b[0m\u001b[0;34m(\u001b[0m\u001b[0;34m)\u001b[0m\u001b[0;34m\u001b[0m\u001b[0;34m\u001b[0m\u001b[0m\n\u001b[1;32m     87\u001b[0m                     \u001b[0msegment_id\u001b[0m \u001b[0;34m=\u001b[0m \u001b[0mpanoptic_mask\u001b[0m\u001b[0;34m[\u001b[0m\u001b[0my_coord\u001b[0m\u001b[0;34m,\u001b[0m\u001b[0mx_coord\u001b[0m\u001b[0;34m]\u001b[0m\u001b[0;34m\u001b[0m\u001b[0;34m\u001b[0m\u001b[0m\n\u001b[0;32m---> 88\u001b[0;31m                     \u001b[0misthing\u001b[0m \u001b[0;34m=\u001b[0m \u001b[0msegments_info\u001b[0m\u001b[0;34m[\u001b[0m\u001b[0mf\u001b[0m\u001b[0;34m]\u001b[0m\u001b[0;34m[\u001b[0m\u001b[0msegment_id\u001b[0m\u001b[0;34m-\u001b[0m\u001b[0;36m1\u001b[0m\u001b[0;34m]\u001b[0m\u001b[0;34m[\u001b[0m\u001b[0;34m'isthing'\u001b[0m\u001b[0;34m]\u001b[0m \u001b[0;31m#-1 because of indexing\u001b[0m\u001b[0;34m\u001b[0m\u001b[0;34m\u001b[0m\u001b[0m\n\u001b[0m\u001b[1;32m     89\u001b[0m                     \u001b[0mcategory_id\u001b[0m \u001b[0;34m=\u001b[0m \u001b[0msegments_info\u001b[0m\u001b[0;34m[\u001b[0m\u001b[0mf\u001b[0m\u001b[0;34m]\u001b[0m\u001b[0;34m[\u001b[0m\u001b[0msegment_id\u001b[0m\u001b[0;34m-\u001b[0m\u001b[0;36m1\u001b[0m\u001b[0;34m]\u001b[0m\u001b[0;34m[\u001b[0m\u001b[0;34m'category_id'\u001b[0m\u001b[0;34m]\u001b[0m\u001b[0;34m\u001b[0m\u001b[0;34m\u001b[0m\u001b[0m\n\u001b[1;32m     90\u001b[0m                     \u001b[0;32mif\u001b[0m \u001b[0;34m'track_id'\u001b[0m \u001b[0;32min\u001b[0m \u001b[0msegments_info\u001b[0m\u001b[0;34m[\u001b[0m\u001b[0mf\u001b[0m\u001b[0;34m]\u001b[0m\u001b[0;34m[\u001b[0m\u001b[0msegment_id\u001b[0m\u001b[0;34m-\u001b[0m\u001b[0;36m1\u001b[0m\u001b[0;34m]\u001b[0m\u001b[0;34m:\u001b[0m\u001b[0;34m\u001b[0m\u001b[0;34m\u001b[0m\u001b[0m\n",
      "\u001b[0;31mIndexError\u001b[0m: list index out of range"
     ]
    }
   ],
   "source": [
    "translate_dict = {'UNKNOWN':0, 'FIX':1, 'SACCADE':2, 'SP':3, 'NOISE':4}\n",
    "\n",
    "radius = 26.7 # 1° of visual angle is equvialent to radius of 13.35 pixel , 2° = 26.7 pixel ...\n",
    "fps=30\n",
    "\n",
    "fourcc = cv2.VideoWriter_fourcc(*'DIVX')\n",
    "\n",
    "videos_run = [17]#[s for s in range(16,17)]\n",
    "\n",
    "num_sal_objects = 5\n",
    "markersize = 50\n",
    "maxframes = 600\n",
    "nframes = 595\n",
    "\n",
    "for v in tqdm(videos_run):#tqdm(range(videos_run), desc=\"videos\"):\n",
    "    for radius in [13.35]: # [13.35,26.7]:\n",
    "        videoloc = detect_path_list[v] #+1  panoptic Segmented Video\n",
    "        #vid = imageio.get_reader(videoloc,  'ffmpeg')\n",
    "        vidlist = []\n",
    "        \n",
    "\n",
    "        video_name = os.path.splitext(os.path.basename(videoloc))[0]\n",
    "        print(video_name)\n",
    "\n",
    "        molinSaliency_path = '/Users/timschroder/Documents/Uni/Bachelorarbeit/project_code/proto-objects/molinSaliency/' + video_name + '.mat'\n",
    "        myData_path = '/Users/timschroder/Documents/Uni/Bachelorarbeit/project_code/proto-objects/myData/' + video_name + '.mat'\n",
    "        waltherData_path = '/Users/timschroder/Documents/Uni/Bachelorarbeit/project_code/proto-objects/waltherData/' + video_name + '.mat'\n",
    "\n",
    "        molinSaliency_raw = sio.loadmat(molinSaliency_path)\n",
    "        myData_raw = sio.loadmat(myData_path)\n",
    "        waltherData_raw = sio.loadmat(waltherData_path)\n",
    "\n",
    "        molinSaliency = np.asarray(molinSaliency_raw['molin_sal_maps'])     #.shape = (450, 800, 596)\n",
    "        myProto = np.asarray(myData_raw['S'])           #.shape = (28, 50, 596)\n",
    "        waltherProto = np.asarray(waltherData_raw['S']) #.shape = (28, 50, 596)\n",
    "        \"\"\"\n",
    "        motion_proto_path = '/Users/timschroder/Documents/Uni/Bachelorarbeit/project_code/proto-objects/mySaliency/' + video_name + '.mat'\n",
    "        motion_proto = sio.loadmat(motion_proto_path)\n",
    "        motion_proto_maps = np.asarray(motion_proto['S'])\n",
    "        \"\"\"\n",
    "        gaze_dir = gaze_folder_list[v] #+1\n",
    "        gaze_path_list = [video for video in glob.glob(gaze_dir + '/*')]\n",
    "        gaze_path_list.sort()\n",
    "        print(gaze_dir)\n",
    "        print(data_path_list[v])\n",
    "        print(info_path_list[v-1])\n",
    "\n",
    "        # load panoptic segmentation results\n",
    "        panoptic_seg = np.load(data_path_list[v], allow_pickle=True) # change storage.py line 134 for this\n",
    "        segments_info = np.load(info_path_list[v-1],allow_pickle=True) ## change back later!! to v\n",
    "        \n",
    "        subjects_run = [s for s in range(len(gaze_path_list))]\n",
    "        for s in tqdm(subjects_run, desc=\"subjects\"):\n",
    "            subject_name = os.path.splitext(os.path.basename(gaze_path_list[s]))[0][0:3]\n",
    "            num_frames = min(maxframes,nframes, len(panoptic_seg))\n",
    "            if not os.path.isdir(RESULTS_DIR +'df2/' + video_name):\n",
    "                os.mkdir(RESULTS_DIR +'df2/' + video_name)\n",
    "\n",
    "            DF_NAME = os.path.join(RESULTS_DIR,'df2/',video_name, video_name + '_' + subject_name + '_' + str(num_frames) + '_r='+str(radius)+'_mostSalient.pkl')\n",
    "        \n",
    "            gaze_path = gaze_path_list[s]\n",
    "            print(gaze_path)\n",
    "        # video_name = os.path.splitext(path_leaf(gaze_path_list[s]))[0]\n",
    "            df = load_df(gaze_path)\n",
    "            \n",
    "            # go to either the full video or only through a certain number of frames\n",
    "            df['class_id'] = ''\n",
    "            df['thing'] = ''\n",
    "            df['panoptic_score'] = np.nan\n",
    "            df['motion_proto_id'] = ''\n",
    "            df['proto_score'] = np.nan\n",
    "            \n",
    "            #df['walther_proto_id'] = ''\n",
    "\n",
    "            \n",
    "            for f in tqdm(range(num_frames), desc=\"frames\"):\n",
    "                dtemp = df[(df['time'] >= 1e3*f/fps) & (df['time'] < 1e3*(f+1)/fps)] # assign data to frames\n",
    "                \n",
    "                for i in dtemp.index:\n",
    "                    \n",
    "                    # PANOPTIC \n",
    "                    x_coord = int(dtemp['x'][i])\n",
    "                    y_coord = int(dtemp['y'][i])\n",
    "                    track_id = -1\n",
    "                    panoptic_score = 0\n",
    "                    panoptic_mask = panoptic_seg[f].numpy()\n",
    "                    segment_id = panoptic_mask[y_coord,x_coord]\n",
    "                    isthing = segments_info[f][segment_id-1]['isthing'] #-1 because of indexing\n",
    "                    category_id = segments_info[f][segment_id-1]['category_id']\n",
    "                    if 'track_id' in segments_info[f][segment_id-1]:\n",
    "                        track_id = segments_info[f][segment_id-1]['track_id']\n",
    "\n",
    "                    if isthing: #if point of interest is thing, label with thing_classes_label\n",
    "                        label = metadata.thing_classes[category_id]\n",
    "                        panoptic_score = matchScore(x_coord,y_coord,(panoptic_mask == segment_id))\n",
    "\n",
    "\n",
    "                    else: #else check if stuff area of size (2*radius)^2 contains any other stuff or objects\n",
    "                        y,x = np.ogrid[-y_coord:720-y_coord, -x_coord:1280-x_coord]\n",
    "                        r=radius\n",
    "                        mask = x*x + y*y <= r*r\n",
    "                        area_of_interest = panoptic_seg[f].numpy()[mask] #circular mask to simulate foveate vision\n",
    "                        aoi_segment_ids = np.unique(area_of_interest)\n",
    "                        if len(aoi_segment_ids)>1: #if there are any other stuff or objects, check if the next most dominant one is stuff or thing\n",
    "                            if segments_info[f][aoi_segment_ids[1]-1]['isthing']: # if the next most dominant one is thing, obtain with thing_class_label\n",
    "                                category_id = segments_info[f][aoi_segment_ids[1]-1]['category_id']\n",
    "                                label = metadata.thing_classes[category_id]\n",
    "                                isthing = True\n",
    "                                panoptic_score = matchScore(x_coord,y_coord,(panoptic_mask == aoi_segment_ids[1]))\n",
    "                            else: # obtain with stuff_class_label\n",
    "                                label = metadata.stuff_classes[category_id]\n",
    "                        else:\n",
    "                            label = metadata.stuff_classes[category_id]\n",
    "\n",
    "\n",
    "\n",
    "                    df.at[i,'class_id'] = label\n",
    "                    df.at[i, 'thing'] = isthing\n",
    "                    df.at[i, 'track_id'] = track_id\n",
    "                    df.at[i, 'panoptic_score'] = panoptic_score\n",
    "                    \n",
    "                    dtemp.at[i, 'class_id'] = label\n",
    "                    dtemp.at[i, 'thing'] = isthing\n",
    "                    dtemp.at[i, 'track_id'] = track_id\n",
    "                    dtemp.at[i, 'panoptic_score'] = panoptic_score\n",
    "\n",
    "                    # MOTION PROTO OBJECT\n",
    "                    proto_score = 0\n",
    "                    motion_proto_id = 0\n",
    "                    for n in range(0,5):\n",
    "                        resized = cv2.resize(myProto[f,:,:,n], (1280,720), interpolation = cv2.INTER_AREA)\n",
    "                        blur = cv2.blur(resized,(20,20))\n",
    "                        if blur[y_coord][x_coord] != 0:\n",
    "                            motion_proto_id = n+1\n",
    "                            proto_score = matchScore(x_coord,y_coord,blur)\n",
    "                            break\n",
    "\n",
    "                        area_of_interest = blur[mask] #same mask as for panoptic\n",
    "                        aoi_segment_ids = np.unique(area_of_interest)\n",
    "                        if len(aoi_segment_ids)>1:\n",
    "                            motion_proto_id = n+1\n",
    "                            proto_score = matchScore(x_coord,y_coord,blur)\n",
    "                            break\n",
    "\n",
    "                    # WALTHER PROTO OBJECT\n",
    "            \n",
    "                    walther_proto_id = 0\n",
    "                    for n in range(0,5):\n",
    "                        resized = cv2.resize(waltherProto[f,:,:,n], (1280,720), interpolation = cv2.INTER_AREA)\n",
    "                        blur = cv2.blur(resized,(20,20))\n",
    "                        if blur[y_coord][x_coord] != 0:\n",
    "                            walther_proto_id = n+1\n",
    "                           # proto_score = matchScore(x_coord,y_coord,blur)\n",
    "                            break\n",
    "\n",
    "                        area_of_interest = blur[mask] #same mask as for panoptic\n",
    "                        aoi_segment_ids = np.unique(area_of_interest)\n",
    "                        if len(aoi_segment_ids)>1:\n",
    "                            walther_proto_id = n+1\n",
    "                           # proto_score = matchScore(x_coord,y_coord,blur)\n",
    "                            break\n",
    "                    \n",
    "                    # Check most salient objects in panoptic segmentation\n",
    "                    if 'molin_salient_object' in segments_info[f][segment_id-1]:\n",
    "                        df.at[i,'molin_salient_object'] = segments_info[f][segment_id-1]['molin_salient_object']\n",
    "                    else:\n",
    "                        df.at[i,'molin_salient_object'] = np.nan\n",
    "                \n",
    "                    df.at[i,'motion_proto_id'] = motion_proto_id\n",
    "                    df.at[i,'proto_score'] = proto_score\n",
    "                    df.at[i,'walther_proto_id'] = walther_proto_id\n",
    "                    \n",
    "                    dtemp.at[i, 'motion_proto_id'] = motion_proto_id\n",
    "                    dtemp.at[i, 'proto_score'] = proto_score\n",
    "                    dtemp.at[i, 'walther_proto_id'] = walther_proto_id\n",
    "                    \n",
    "            df.to_pickle(DF_NAME)   \n",
    "            print('done!')\n"
   ]
  },
  {
   "cell_type": "code",
   "execution_count": 29,
   "metadata": {},
   "outputs": [
    {
     "output_type": "execute_result",
     "data": {
      "text/plain": "16"
     },
     "metadata": {},
     "execution_count": 29
    }
   ],
   "source": [
    "v"
   ]
  },
  {
   "cell_type": "code",
   "execution_count": 21,
   "metadata": {},
   "outputs": [],
   "source": [
    "df = pd.read_pickle(DF_NAME)"
   ]
  },
  {
   "cell_type": "code",
   "execution_count": 55,
   "metadata": {},
   "outputs": [
    {
     "output_type": "execute_result",
     "data": {
      "text/plain": "FIX        2682\nSP         1301\nSACCADE     539\nNOISE       419\nName: handlabeller_final, dtype: int64"
     },
     "metadata": {},
     "execution_count": 55
    }
   ],
   "source": [
    "df.handlabeller_final.value_counts()"
   ]
  },
  {
   "cell_type": "markdown",
   "metadata": {},
   "source": [
    "## Draw both Panoptic Segmentation and Proto Objects in Video"
   ]
  },
  {
   "cell_type": "code",
   "execution_count": 14,
   "metadata": {
    "tags": []
   },
   "outputs": [
    {
     "output_type": "display_data",
     "data": {
      "text/plain": "HBox(children=(FloatProgress(value=0.0, description='videos', max=1.0, style=ProgressStyle(description_width='…",
      "application/vnd.jupyter.widget-view+json": {
       "version_major": 2,
       "version_minor": 0,
       "model_id": "4307d798c11a479c8d09e5689aca7ab9"
      }
     },
     "metadata": {}
    },
    {
     "output_type": "display_data",
     "data": {
      "text/plain": "HBox(children=(FloatProgress(value=0.0, description='subjects', max=1.0, style=ProgressStyle(description_width…",
      "application/vnd.jupyter.widget-view+json": {
       "version_major": 2,
       "version_minor": 0,
       "model_id": "a71c27dddcf9421d92629abc08adf9e9"
      }
     },
     "metadata": {}
    },
    {
     "output_type": "stream",
     "name": "stdout",
     "text": "/Users/timschroder/Documents/Uni/Bachelorarbeit/project_data.nosync/LUEBECK_GAZE/GazeCom_ground_truth/breite_strasse/AAF_breite_strasse.arff\n/Users/timschroder/Documents/Uni/Bachelorarbeit/project_results.nosync/final/breite_strasse/breite_strasse_AAF.AVI\n"
    },
    {
     "output_type": "display_data",
     "data": {
      "text/plain": "HBox(children=(FloatProgress(value=0.0, description='frames', max=596.0, style=ProgressStyle(description_width…",
      "application/vnd.jupyter.widget-view+json": {
       "version_major": 2,
       "version_minor": 0,
       "model_id": "354d15e3e15b4a068b3ef56b62b99cde"
      }
     },
     "metadata": {}
    },
    {
     "output_type": "stream",
     "name": "stdout",
     "text": "\ndone!\n\n\n"
    }
   ],
   "source": [
    "GAZEVID_DIR = '/Users/timschroder/Documents/Uni/Bachelorarbeit/project_results.nosync/LUEBECK/gaze_video/'\n",
    "translate_dict = {'UNKNOWN':0, 'FIX':1, 'SACCADE':2, 'SP':3, 'NOISE':4}\n",
    "\n",
    "radius = 10 \n",
    "\n",
    "fps=30\n",
    "fourcc = cv2.VideoWriter_fourcc(*'DIVX')\n",
    "\n",
    "videos_run = [0]#[s for s in range(3,17)]\n",
    "subjects_run = [0]#[s for s in range(0,17)]\n",
    "\n",
    "markersize = 50\n",
    "maxframes = 600\n",
    "\n",
    "for v in tqdm(videos_run, desc=\"videos\"):#len(video_path_list)\n",
    "    videoloc = detect_path_list[v] #video_path_list[v]\n",
    "    #print('Video: %s' % videoloc)\n",
    "    vid = imageio.get_reader(videoloc,  'ffmpeg')\n",
    "    vidlist = []\n",
    "\n",
    "    video_name = os.path.splitext(os.path.basename(videoloc))[0]\n",
    "    video_dir = os.path.join(RESULTS_DIR,'final/',video_name)\n",
    "    if not os.path.isdir(video_dir):\n",
    "        os.mkdir(video_dir)    #make results directory\n",
    "    \n",
    "    df_dir = os.path.join(RESULTS_DIR,'df/',video_name)\n",
    "\n",
    "    gaze_dir = gaze_folder_list[v]\n",
    "    gaze_path_list = [video for video in glob.glob(gaze_dir + '/*')]\n",
    "    gaze_path_list.sort()\n",
    "\n",
    "    for image in vid.iter_data():\n",
    "        vidlist.append(np.array(image))\n",
    "        \n",
    "    \n",
    "    for s in tqdm(subjects_run, desc=\"subjects\"):\n",
    "        subject_name = os.path.splitext(os.path.basename(gaze_path_list[s]))[0][0:3]\n",
    "\n",
    "        nframes = len(vidlist)\n",
    "        gaze_path = gaze_path_list[s]\n",
    "        print(gaze_path)\n",
    "       # video_name = os.path.splitext(path_leaf(gaze_path_list[s]))[0]\n",
    "        DF_NAME = os.path.join(df_dir,video_name+'_'+subject_name+'_595.pkl')\n",
    "        if not os.path.isfile(DF_NAME):\n",
    "            print('cannot find dataframe for subject!')\n",
    "            break\n",
    "        \n",
    "        df = pd.read_pickle(DF_NAME) #LOAD PICKLE\n",
    "        \n",
    "        vid_path = os.path.join(video_dir,video_name+'_'+subject_name+'.AVI')\n",
    "        print(vid_path)\n",
    "        # 10 fps, output format due to additional plot, usually (640,360)\n",
    "        video = cv2.VideoWriter(vid_path, fourcc, 10, (1200,800))\n",
    "        \n",
    "        # go to either the full video or only through a certain number of frames\n",
    "        num_frames = min(maxframes,len(vidlist))\n",
    "        for f in tqdm(range(num_frames), total=num_frames, desc=\"frames\"):\n",
    "            dtemp = df[(df['time'] >= 1e3*f/fps) & (df['time'] < 1e3*(f+1)/fps)] # assign data to frames\n",
    "            if len(dtemp)>0:\n",
    "                poi_label = dtemp['class_id'].value_counts().index[0]\n",
    "                proto_id = dtemp['motion_proto_id'].value_counts().index[0]\n",
    "                if len(dtemp['track_id'].value_counts())>0:\n",
    "                    track_id = dtemp['track_id'].value_counts().index[0]\n",
    "            else:\n",
    "                poi_label = \"\"\n",
    "                track_id = -1\n",
    "                proto_id = \"\"\n",
    "\n",
    "\n",
    "            fig, axs = plt.subplots(2, gridspec_kw={'height_ratios': [5, 1], 'wspace':0, 'hspace':0.05}, dpi=200)\n",
    "            fig.suptitle(f'Video {v:03}, Subject {s:02}, Frame {f+1:04}, Object: ' + poi_label + ', Track: ' + str(int(track_id)) + ', Proto: '+ str(proto_id))\n",
    "            image = vidlist[f]\n",
    "            #draw proto object contours\n",
    "            for i in range (0,5):\n",
    "                resized = cv2.resize(motion_proto_maps[f,:,:,i], (1280,720), interpolation = cv2.INTER_AREA)\n",
    "                blur = cv2.blur(resized,(20,20))\n",
    "                contours, hierarchy = cv2.findContours(blur, cv2.RETR_EXTERNAL, cv2.CHAIN_APPROX_NONE)\n",
    "                cv2.drawContours(image, contours, -1, (255, 0, 0), 3) \n",
    "                # loop over the contours\n",
    "                for c in contours:\n",
    "                    # compute the center of the contour\n",
    "                    M = cv2.moments(c)\n",
    "                    cX = int(M[\"m10\"] / M[\"m00\"])\n",
    "                    cY = int(M[\"m01\"] / M[\"m00\"])\n",
    "                    # draw the contour and center of the shape on the image\n",
    "                    cv2.putText(image, str(i+1), (cX, cY),\n",
    "                    cv2.FONT_HERSHEY_SIMPLEX, 0.7, (255, 0, 0), 2)\n",
    "\n",
    "\n",
    "            axs[0].imshow(image)\n",
    "            # filter the df for different events to plot them in different colors\n",
    "           \n",
    "            dfix = dtemp[dtemp['handlabeller_final']=='FIX']\n",
    "            dfix.plot.scatter(x='x', y='y', c='red', ax=axs[0], s=markersize, alpha=.3, marker='o')\n",
    "            dsp = dtemp[dtemp['handlabeller_final']=='SP']\n",
    "            dsp.plot.scatter(x='x', y='y', c='DarkBlue', ax=axs[0], s=markersize, alpha=.3, marker='o')\n",
    "            dsac = dtemp[dtemp['handlabeller_final']=='SACCADE']\n",
    "            dsac.plot.scatter(x='x', y='y', c='DarkGreen', ax=axs[0], s=markersize, alpha=.8, marker='x')\n",
    "            dnoise = dtemp[dtemp['handlabeller_final']=='NOISE']\n",
    "            dnoise.plot.scatter(x='x', y='y', c='white', ax=axs[0], s=markersize, alpha=.8, marker='x')\n",
    "            axs[0].axis('off')\n",
    "            # plot where in the event-timeline we currently are\n",
    "            #axs[1].plot(event_num)\n",
    "            axs[1].plot(df['handlabeller_final'])\n",
    "            axs[1].set_yticks([0,1,2,3,4]); axs[1].set_yticklabels(translate_dict.keys())\n",
    "            axs[1].axvline(250/fps*f, color='red')\n",
    "            axs[1].set_xticks([], [])\n",
    "\n",
    "            canvas = FigureCanvas(fig)\n",
    "            canvas.draw()\n",
    "            width, height = fig.get_size_inches() * fig.get_dpi()\n",
    "            temp = np.frombuffer(canvas.tostring_rgb(), dtype='uint8').reshape(int(height), int(width), 3)  \n",
    "            temp = cv2.cvtColor(temp,cv2.COLOR_RGB2BGR)\n",
    "\n",
    "            video.write(temp)\n",
    "            plt.close('all'); del temp\n",
    "        \n",
    "        #hist_path = os.path.splitext(vid_path)[0] + '_hist.png'\n",
    "        #make_histgramms(df, hist_path)\n",
    "        video.release(); del video\n",
    "        print('done!')"
   ]
  },
  {
   "cell_type": "markdown",
   "metadata": {},
   "source": [
    "## Post-Saccdic Behavior - Still needed?"
   ]
  },
  {
   "cell_type": "code",
   "execution_count": 15,
   "metadata": {},
   "outputs": [],
   "source": [
    " DF_NAME = '/Users/timschroder/Documents/Uni/Bachelorarbeit/project_results.nosync/df/breite_strasse/breite_strasse_AAF_595.pkl'\n",
    " df = pd.read_pickle(DF_NAME) #LOAD PICKLE"
   ]
  },
  {
   "cell_type": "code",
   "execution_count": 31,
   "metadata": {},
   "outputs": [],
   "source": [
    "d_sacc = merge_related_dp(df, 'SACCADE')"
   ]
  },
  {
   "cell_type": "code",
   "execution_count": 45,
   "metadata": {},
   "outputs": [],
   "source": [
    "df_post_saccade = pd.DataFrame()\n",
    "for n in (d_sacc.SACCADE_id.unique()):  \n",
    "    post_saccade_index = int((d_sacc[d_sacc.SACCADE_id == n].tail(1).index + 1).values)\n",
    "    for i in range (post_saccade_index,post_saccade_index+9):\n",
    "         if (df.loc[i].handlabeller_final != 'SACCADE'):\n",
    "             df_post_saccade = df_post_saccade.append(df.loc[i])"
   ]
  },
  {
   "cell_type": "code",
   "execution_count": 47,
   "metadata": {},
   "outputs": [],
   "source": [
    "df['post_saccade_state'] = ''\n",
    "for n in (d_sacc.SACCADE_id.unique()):  \n",
    "    post_saccade_index = int((d_sacc[d_sacc.SACCADE_id == n].tail(1).index + 1).values)\n",
    "    for i in range (post_saccade_index,post_saccade_index+3):\n",
    "        if (df.loc[i].handlabeller_final != 'SACCADE'):\n",
    "            if ((df.loc[i].thing==True) & (df.loc[i].motion_proto_id != 0)):\n",
    "                df.at[i,'post_saccade_state'] = 'thing&proto'\n",
    "            elif ((df.loc[i].thing==True) & (df.loc[i].motion_proto_id == 0)):\n",
    "                df.at[i,'post_saccade_state'] = 'just thing'\n",
    "            elif ((df.loc[i].thing==False) & (df.loc[i].motion_proto_id != 0)):\n",
    "                df.at[i,'post_saccade_state'] = 'just proto'\n",
    "            else:\n",
    "                df.at[i,'post_saccade_state'] = 'nothing'\n",
    "        else:\n",
    "            df.at[i,'post_saccade_state'] = 4"
   ]
  },
  {
   "cell_type": "code",
   "execution_count": 53,
   "metadata": {},
   "outputs": [
    {
     "output_type": "execute_result",
     "data": {
      "text/plain": "<bound method Series.mean of 96      0.944253\n97      0.944253\n98      0.944253\n99      0.944068\n100     0.944162\n          ...   \n4947         NaN\n4948         NaN\n4949         NaN\n4950         NaN\n4951         NaN\nName: proto_score, Length: 441, dtype: float64>"
     },
     "metadata": {},
     "execution_count": 53
    }
   ],
   "source": [
    "df_post_saccade.proto_score.mean"
   ]
  },
  {
   "cell_type": "markdown",
   "metadata": {},
   "source": [
    "## Most Salient Objects based on bottom-up saliency"
   ]
  },
  {
   "cell_type": "code",
   "execution_count": 232,
   "metadata": {
    "tags": []
   },
   "outputs": [
    {
     "output_type": "display_data",
     "data": {
      "text/plain": "HBox(children=(FloatProgress(value=0.0, description='videos', max=11.0, style=ProgressStyle(description_width=…",
      "application/vnd.jupyter.widget-view+json": {
       "version_major": 2,
       "version_minor": 0,
       "model_id": "62ffde3013264af19537d1a7090f3a9b"
      }
     },
     "metadata": {}
    },
    {
     "output_type": "stream",
     "name": "stdout",
     "text": "beach\n/Users/timschroder/Documents/Uni/Bachelorarbeit/project_results.nosync/most-salient-objects/beach_salient_bottom-up_objects.npy\n/Users/timschroder/Documents/Uni/Bachelorarbeit/project_results.nosync/panoptic-seg/beach_data.npy\n"
    },
    {
     "output_type": "display_data",
     "data": {
      "text/plain": "HBox(children=(FloatProgress(value=0.0, max=595.0), HTML(value='')))",
      "application/vnd.jupyter.widget-view+json": {
       "version_major": 2,
       "version_minor": 0,
       "model_id": "2df03ec26a194d99ac4eddf3213485e3"
      }
     },
     "metadata": {}
    },
    {
     "output_type": "stream",
     "name": "stdout",
     "text": "\nbreite_strasse\n/Users/timschroder/Documents/Uni/Bachelorarbeit/project_results.nosync/most-salient-objects/breite_strasse_salient_bottom-up_objects.npy\n/Users/timschroder/Documents/Uni/Bachelorarbeit/project_results.nosync/panoptic-seg/breite_strasse_data.npy\n"
    },
    {
     "output_type": "display_data",
     "data": {
      "text/plain": "HBox(children=(FloatProgress(value=0.0, max=595.0), HTML(value='')))",
      "application/vnd.jupyter.widget-view+json": {
       "version_major": 2,
       "version_minor": 0,
       "model_id": "7d61ab5f438447ada337694688498cb1"
      }
     },
     "metadata": {}
    },
    {
     "output_type": "stream",
     "name": "stdout",
     "text": "\nbridge_1\n/Users/timschroder/Documents/Uni/Bachelorarbeit/project_results.nosync/most-salient-objects/bridge_1_salient_bottom-up_objects.npy\n/Users/timschroder/Documents/Uni/Bachelorarbeit/project_results.nosync/panoptic-seg/bridge_1_data.npy\n"
    },
    {
     "output_type": "display_data",
     "data": {
      "text/plain": "HBox(children=(FloatProgress(value=0.0, max=595.0), HTML(value='')))",
      "application/vnd.jupyter.widget-view+json": {
       "version_major": 2,
       "version_minor": 0,
       "model_id": "ce0b220b380142f49bdde9dd9db7665f"
      }
     },
     "metadata": {}
    },
    {
     "output_type": "stream",
     "name": "stdout",
     "text": "\nbridge_2\n/Users/timschroder/Documents/Uni/Bachelorarbeit/project_results.nosync/most-salient-objects/bridge_2_salient_bottom-up_objects.npy\n/Users/timschroder/Documents/Uni/Bachelorarbeit/project_results.nosync/panoptic-seg/bridge_2_data.npy\n"
    },
    {
     "output_type": "display_data",
     "data": {
      "text/plain": "HBox(children=(FloatProgress(value=0.0, max=595.0), HTML(value='')))",
      "application/vnd.jupyter.widget-view+json": {
       "version_major": 2,
       "version_minor": 0,
       "model_id": "b086ba5e19aa41ff85964243fa767731"
      }
     },
     "metadata": {}
    },
    {
     "output_type": "stream",
     "name": "stdout",
     "text": "\nbumblebee\n/Users/timschroder/Documents/Uni/Bachelorarbeit/project_results.nosync/most-salient-objects/bumblebee_salient_bottom-up_objects.npy\n/Users/timschroder/Documents/Uni/Bachelorarbeit/project_results.nosync/panoptic-seg/bumblebee_data.npy\n"
    },
    {
     "output_type": "display_data",
     "data": {
      "text/plain": "HBox(children=(FloatProgress(value=0.0, max=250.0), HTML(value='')))",
      "application/vnd.jupyter.widget-view+json": {
       "version_major": 2,
       "version_minor": 0,
       "model_id": "cb0836597854488fa0774023e3dfaafe"
      }
     },
     "metadata": {}
    },
    {
     "output_type": "stream",
     "name": "stdout",
     "text": "\ndoves\n/Users/timschroder/Documents/Uni/Bachelorarbeit/project_results.nosync/most-salient-objects/doves_salient_bottom-up_objects.npy\n/Users/timschroder/Documents/Uni/Bachelorarbeit/project_results.nosync/panoptic-seg/doves_data.npy\n"
    },
    {
     "output_type": "display_data",
     "data": {
      "text/plain": "HBox(children=(FloatProgress(value=0.0, max=595.0), HTML(value='')))",
      "application/vnd.jupyter.widget-view+json": {
       "version_major": 2,
       "version_minor": 0,
       "model_id": "d2d7239923804e7ba9ef68662c802a4f"
      }
     },
     "metadata": {}
    },
    {
     "output_type": "stream",
     "name": "stdout",
     "text": "\nducks_boat\n/Users/timschroder/Documents/Uni/Bachelorarbeit/project_results.nosync/most-salient-objects/ducks_boat_salient_bottom-up_objects.npy\n/Users/timschroder/Documents/Uni/Bachelorarbeit/project_results.nosync/panoptic-seg/ducks_boat_data.npy\n"
    },
    {
     "output_type": "display_data",
     "data": {
      "text/plain": "HBox(children=(FloatProgress(value=0.0, max=595.0), HTML(value='')))",
      "application/vnd.jupyter.widget-view+json": {
       "version_major": 2,
       "version_minor": 0,
       "model_id": "368e15c05bb14c94984925d51be0b045"
      }
     },
     "metadata": {}
    },
    {
     "output_type": "stream",
     "name": "stdout",
     "text": "\nducks_children\n/Users/timschroder/Documents/Uni/Bachelorarbeit/project_results.nosync/most-salient-objects/ducks_children_salient_bottom-up_objects.npy\n/Users/timschroder/Documents/Uni/Bachelorarbeit/project_results.nosync/panoptic-seg/ducks_children_data.npy\n"
    },
    {
     "output_type": "display_data",
     "data": {
      "text/plain": "HBox(children=(FloatProgress(value=0.0, max=595.0), HTML(value='')))",
      "application/vnd.jupyter.widget-view+json": {
       "version_major": 2,
       "version_minor": 0,
       "model_id": "1a6776e295414ad49f8869d550293012"
      }
     },
     "metadata": {}
    },
    {
     "output_type": "stream",
     "name": "stdout",
     "text": "\ngolf\n/Users/timschroder/Documents/Uni/Bachelorarbeit/project_results.nosync/most-salient-objects/golf_salient_bottom-up_objects.npy\n/Users/timschroder/Documents/Uni/Bachelorarbeit/project_results.nosync/panoptic-seg/golf_data.npy\n"
    },
    {
     "output_type": "display_data",
     "data": {
      "text/plain": "HBox(children=(FloatProgress(value=0.0, max=595.0), HTML(value='')))",
      "application/vnd.jupyter.widget-view+json": {
       "version_major": 2,
       "version_minor": 0,
       "model_id": "4a8839b3410c420197f8dd528b4edc95"
      }
     },
     "metadata": {}
    },
    {
     "output_type": "stream",
     "name": "stdout",
     "text": "\nholsten_gate\n/Users/timschroder/Documents/Uni/Bachelorarbeit/project_results.nosync/most-salient-objects/holsten_gate_salient_bottom-up_objects.npy\n/Users/timschroder/Documents/Uni/Bachelorarbeit/project_results.nosync/panoptic-seg/holsten_gate_data.npy\n"
    },
    {
     "output_type": "display_data",
     "data": {
      "text/plain": "HBox(children=(FloatProgress(value=0.0, max=595.0), HTML(value='')))",
      "application/vnd.jupyter.widget-view+json": {
       "version_major": 2,
       "version_minor": 0,
       "model_id": "98e50f4d4439446d80ed2ca487f06747"
      }
     },
     "metadata": {}
    },
    {
     "output_type": "stream",
     "name": "stdout",
     "text": "\nkoenigstrasse\n/Users/timschroder/Documents/Uni/Bachelorarbeit/project_results.nosync/most-salient-objects/koenigstrasse_salient_bottom-up_objects.npy\n/Users/timschroder/Documents/Uni/Bachelorarbeit/project_results.nosync/panoptic-seg/koenigstrasse_data.npy\n"
    },
    {
     "output_type": "display_data",
     "data": {
      "text/plain": "HBox(children=(FloatProgress(value=0.0, max=569.0), HTML(value='')))",
      "application/vnd.jupyter.widget-view+json": {
       "version_major": 2,
       "version_minor": 0,
       "model_id": "371f65b5b17f4e3fa47abed8a685f1e2"
      }
     },
     "metadata": {}
    },
    {
     "output_type": "stream",
     "name": "stdout",
     "text": "\n\n"
    }
   ],
   "source": [
    "videos_run =[s for s in range(0,11)]\n",
    "num_frames = 595\n",
    "for v in tqdm(videos_run, desc=\"videos\"):#len(video_path_list)\n",
    "    videoloc = data_path_list[v] #video_path_list[v]\n",
    "    video_name = os.path.splitext(os.path.basename(videoloc))[0][:-5]\n",
    "    #print('Video: %s' % videoloc)\n",
    "    #vid = imageio.get_reader(videoloc,  'ffmpeg')\n",
    "\n",
    "    most_salient_objects_path = '/Users/timschroder/Documents/Uni/Bachelorarbeit/project_results.nosync/most-salient-objects/'\n",
    "    save_path = '/Users/timschroder/Documents/Uni/Bachelorarbeit/project_results.nosync/most-salient-objects/' + video_name + '_salient_bottom-up_objects.npy'\n",
    "    \n",
    "    print(video_name)\n",
    "    print(save_path)\n",
    "    saliency_map_path = '/Users/timschroder/Documents/Uni/Bachelorarbeit/project_code/proto-objects/molinSaliency/' + video_name + '.mat'\n",
    "    saliency_map_file = sio.loadmat(saliency_map_path)\n",
    "    saliency_maps = np.asarray(saliency_map_file['molin_sal_maps'])#np.asarray(saliency_map_file['video_saliency'])\n",
    "    saliency_maps = np.moveaxis(saliency_maps, 2, 0)\n",
    "    panoptic_seg = np.load(data_path_list[v], allow_pickle=True) # change storage.py line 134 for this\n",
    "    segments_info = np.load(info_path_list[v],allow_pickle=True) ## change back later!! to v\n",
    "    # Load bottom-up saliency and panoptic segmentation, update segments_info, for 'most salient'\n",
    "    print(data_path_list[v])\n",
    "    num_sal_objects = 5\n",
    "    max_sal_things = np.zeros((num_frames,num_sal_objects))\n",
    "\n",
    "    \n",
    "    salient_object_ids = []\n",
    "\n",
    "    for f in tqdm(range(min(num_frames,len(panoptic_seg)))):\n",
    "        resized = cv2.resize(saliency_maps[f,:,:], (1280,720), interpolation = cv2.INTER_AREA)\n",
    "        blur = cv2.blur(resized,(20,20))\n",
    "        panoptic_mask = panoptic_seg[f].numpy()\n",
    "    \n",
    "\n",
    "        for segment in segments_info[f]:\n",
    "            if not segment['isthing']:\n",
    "                first_stuff_id = (segment['id']) # instance_id?\n",
    "                break\n",
    "            \n",
    "        labeled_thing_map = np.where(panoptic_mask<first_stuff_id,panoptic_mask,0) #All things to segment_id, stuff is 0\n",
    "\n",
    "        mean_thing_saliency = []\n",
    "        mean_thing_saliency.append(0) #for 0 segment, as it is excluded in for loop \n",
    "        saliency_map = cv2.resize(molinSaliency[:,:,f], (1280,720), interpolation = cv2.INTER_AREA)\n",
    "        salient_object_mask = np.zeros((720,1280))\n",
    "        for things_id in range(1,first_stuff_id-1): # exclude segment 0\n",
    "            single_thing_saliency = np.where(labeled_thing_map==things_id,1,0)*saliency_map\n",
    "            mean_thing_saliency.append(np.mean(single_thing_saliency))\n",
    "        mean_thing_saliency = np.asarray(mean_thing_saliency)\n",
    "        max_sal_things = mean_thing_saliency.argsort()[-min(num_sal_objects,(first_stuff_id-2)):][::-1] # List with the ids of the most salient panoptic object (-2 instead of -1, cause we added 0 fro segment id 0 in the beginning)\n",
    "        salient_object_ids.append(max_sal_things) \n",
    "        count = 1\n",
    "        for segment in max_sal_things:\n",
    "            segments_info[f][segment].update( {'molin_salient_object' : count} )\n",
    "            count = count + 1\n",
    "\n",
    "        \n",
    "    np.save(save_path,salient_object_ids)     #includes panoptic ids of salient object of each frame\n",
    "    np.save(info_path_list[v],segments_info) \n"
   ]
  },
  {
   "cell_type": "markdown",
   "metadata": {},
   "source": [
    "## Clear up segments_info"
   ]
  },
  {
   "cell_type": "code",
   "execution_count": 62,
   "metadata": {
    "tags": []
   },
   "outputs": [
    {
     "output_type": "display_data",
     "data": {
      "text/plain": "HBox(children=(FloatProgress(value=0.0, description='videos', max=17.0, style=ProgressStyle(description_width=…",
      "application/vnd.jupyter.widget-view+json": {
       "version_major": 2,
       "version_minor": 0,
       "model_id": "053592eed200467eb5bf3f6d921c0f90"
      }
     },
     "metadata": {}
    },
    {
     "output_type": "stream",
     "name": "stdout",
     "text": "\n"
    }
   ],
   "source": [
    "videos_run =[s for s in range(0,17)]\n",
    "for v in tqdm(videos_run, desc=\"videos\"):\n",
    "    segments_info = np.load(info_path_list[v],allow_pickle=True)\n",
    "    for f in range(len(segments_info)):\n",
    "        for segment in segments_info[f]:\n",
    "            try:\n",
    "                segment.pop('molin_salient_object')\n",
    "                segment.pop('most_salient')\n",
    "            except KeyError:\n",
    "                continue\n",
    "    np.save(info_path_list[v],segments_info)"
   ]
  },
  {
   "cell_type": "code",
   "execution_count": 206,
   "metadata": {},
   "outputs": [
    {
     "output_type": "execute_result",
     "data": {
      "text/plain": "<matplotlib.colorbar.Colorbar at 0x18b20f048>"
     },
     "metadata": {},
     "execution_count": 206
    },
    {
     "output_type": "display_data",
     "data": {
      "text/plain": "<Figure size 432x288 with 2 Axes>",
      "image/svg+xml": "<?xml version=\"1.0\" encoding=\"utf-8\" standalone=\"no\"?>\n<!DOCTYPE svg PUBLIC \"-//W3C//DTD SVG 1.1//EN\"\n  \"http://www.w3.org/Graphics/SVG/1.1/DTD/svg11.dtd\">\n<!-- Created with matplotlib (https://matplotlib.org/) -->\n<svg height=\"241.518125pt\" version=\"1.1\" viewBox=\"0 0 355.6645 241.518125\" width=\"355.6645pt\" xmlns=\"http://www.w3.org/2000/svg\" xmlns:xlink=\"http://www.w3.org/1999/xlink\">\n <defs>\n  <style type=\"text/css\">\n*{stroke-linecap:butt;stroke-linejoin:round;}\n  </style>\n </defs>\n <g id=\"figure_1\">\n  <g id=\"patch_1\">\n   <path d=\"M 0 241.518125 \nL 355.6645 241.518125 \nL 355.6645 0 \nL 0 0 \nz\n\" style=\"fill:none;\"/>\n  </g>\n  <g id=\"axes_1\">\n   <g id=\"patch_2\">\n    <path d=\"M 33.2875 195.049219 \nL 301.1275 195.049219 \nL 301.1275 44.389219 \nL 33.2875 44.389219 \nz\n\" style=\"fill:#ffffff;\"/>\n   </g>\n   <g clip-path=\"url(#p87a69941eb)\">\n    <image height=\"151\" id=\"imageaa359a2be7\" transform=\"scale(1 -1)translate(0 -151)\" width=\"268\" x=\"33.2875\" xlink:href=\"data:image/png;base64,\niVBORw0KGgoAAAANSUhEUgAAAQwAAACXCAYAAADgWmWnAAAABHNCSVQICAgIfAhkiAAAIABJREFUeJzsvXeYJFW5+P85p6q6ezpMzjubM8vuknNGQFRARQUMCComEBHwqvzuvehXr1dFBEwYQZGrIghKVEAEJS8sYdnE5jy7k6dzVzi/P3p2Zno6TPdMz84u1Od59nl2uqurTlWdeus9bxSd21sVLi4uLkUgJ3sALi4uBw6uwHBxcSkaV2C4uLgUjSswXFxcisYVGC4uLkXjCgwXF5eicQWGi4tL0bgCw8XFpWhcgeHi4lI0rsBwcXEpGldguLi4FI0rMFxcXIrGFRguLi5F4woMFxeXonEFhouLS9G4AsPFxaVoXIHh4uJSNK7AcHFxKRpXYLi4uBSNKzBcXFyKxhUYLi4uReMKDBcXl6JxBYYLNoqNls69kVlElTPZw3HZj3EFhgt39C3mugs+yZ9PWcKJD1+dc5uHY1NZZfr28chc9jdcgeHC5kQd4rU3sXfvYcrjApPM3lYJ5fCjb36Qj9/7+Ukaocv+gj7ZA3DZvxB29mc2YEQVbUt27/PxuOxfuBqGSwaBzRG2WUbGZz4h2H6W4hfz/2+SRuWyv+AKDBde756CMi0A5M4OlsVnZnx/b2QuUx4TdNvZNgwbRbfj0O24xtK3A+6SxIUtmxqY52wGwN7TwXefeReLT/85m80GHupcwrpfLaD+kdf4j09/gDNbVrMq3EJHIsj6dS3UvKZR/3ocpQvWf1Tn4TNuoVmb3PNxmTiE2739wGCnLbj8zYvY0VnNKbPXcVnjk8zQUxiIce3XRPHu66+l9rbnBj+ToRBMn4Ls6sXu7EaZKQC06ioAnEgU5ShwMg0ewvAQe/chOJ/t5LaFv6NBjm9sLvsfrsDYjzBRPBydyTN9c2n19eKXKd4Tep1Xk2388FsfouaPL6PMVPqBnjmFjiNriE5NP5S2R+FZ0I8m00uDk9vW89G6Z2mQSRwg7BiEpEmVFGjDhMwT8WZuO+tUrE1bynYewusldvZS5n9tJd9rfaxs+3WZfFyBMQ5MFLZS+ER5TEGnv3IpDd/yoIUTiKSJ6u4hedgcPJ1RnNfXlLQvGQohprYQm1GFlnDw7ImSagrQucRL8Kx2rp71OIu9uzjn+c8x46KVWdpCOdDmz+G4u9/g8prlZd+3y+TgCowxElYOp//+yzS+7NB+vOCCk5/l83XPEhij8NhiaXzpc1dQsaln6MNde7D7+8s04iGErqO1NGO11KBv3YPVPnHu0l3XHMfjV90w7qWTy/6Ba/QcI9fvPJu5312DCAaoWhXgpbsP45xDTyDWpLBnJfjSoY/z4dDaovcXVQZ63Mr8sMIHEyAwlGVhbdsO27Zjjb75uGh+PkbYUdS69oy3BK7AGCNPvbCIBY2dOBUeALRoiuanU+A4yEiCPx7yLk78wTqmasW5G3dYNQgrU9kT8i3g9VauAvtW4i0wI/c9UeVQs1KgBoRFBlLiVPoJbIpw3uNX0F6kaeDl6Ez03nh5B7of0DfbT8jVLt4yvC0FRlg52Iz9zdft6AR3FpYEQinm3xrn3Gc/X9SxNN6agU+JOuHaL95CvK2WJO02vOfpy2m7y6B7vk7NGbu4etZjnOzbU9J+AsLCDI4ua4WtmHqbxn/PPZ3/aX6i4LaGtFGaQAw3KmgHeASU1LBP6pvsUbiUkf1aw7BRWZmTAN/pPI6jf3cNR951NcuSVUXta51lcOFN1zL/mh0EntvA1N+sJXhxlJ9c+gHuCs8taVy1UrLn8OLemt7OOP++6zASo9SZ+PuOhYjkCBOkcWDL8+j7j+C2Q38z2cNwKSP75Yz8Sc9h3P7EKXg7JN4emHrBRn47614AlqdCvPL5pcxZ9yYAX95+GX/50veoHsVAeOEDV7Dg9+tg+INr2xgrt/DrjcdzwdJ1JY2x9qBOlPAgijDq6UWYJsJxL7UqAWJIEClNgtQmJEZiQhGC6PuP4tr//T/m6uZkj8aljOR8yvK92Ytlhenn4xvfzw2dxxAusYKTjeLPvziNaY9YNL5iUr0hRe8PprFuIINyTbIVY9dQrELbXRs575XLCu4zqhymPEmmsNiLx2B+bWlLEoA51Z1F62ex1jEGd0mJ9Bijb7c/IQS7rj6Wb9/w85KXei77P1mzeFmyihNuv5Yzvv9lTn/lUpYlq0oyELbb8B//9Vms96d47dxpvPfbX+Z9qz/Mma9dwo1dRxe1L9sLSku/aZUmUFKwIjEVgPOCq9lxbtvgtso0af6eh7/HpuTd33qzksDWaPYXmsbar87iO20PFn1+e0k5GsXaKVM1+TWEdZZBt+MQD+eoZiUEIuBHb5uCdtC8ksc4GZhnHM6tl/+YxUZssofiMgFkCIxttuS/r/8ks3+9nbZ7t9LyxQTf/9iHOfqpK4oWGmvNRvy7Tax5UzHb6mh4NYr3vyup/ZaPp792DHf2Lxp1H2Yg828t5fBs3xwAAkISOzbz4dfX7eRbt19Eb54U6zXJFmRvtsAIHz+TP733hyVHZz4cm8qaB+ch7OKWCqHWcM7POxzFBY99nssuu4p5tyRybiN8PjZ+cjoX3/cYvRcfi/B6SxrrvkQuXcjh33mZg4zc5zKRjMfr5VI8GU+KqSSBdhOcgYtv2Rjbu5h7U4q7wguK3qnSh3arhBj85+lNcesbJxX8rQOIHPfeVEP7bKgJw/CHXDlM/91mTvv7l3JOnJfDMxCR7Dfe9rMcZumlxTq+kKzh1194H203v1zU9kqXnDRlY87vnojOQ8Q1vM+tRb22BnIJPEPH8SjO8u/gd9/8Pmt/sjidfLafoTc3UXfrLq5reGafH/vjG9/PsX+4lqcSjfv82G83MgRGk5YiXp+9ZtY6+7l1TeEHfS/NWh+pUJ43thQsbC6ct9Bua/h3FX5bnNq8DjFiba+SSRbe0MUVW8/J+Rs10jipacyYVfoa+ytvvB/jsZdRqVS2VyP3gdFltiayPBXiu/9+F8KB1JHzkBW5C+wqQ0cNeFcbpODZM29myxcXlzzuCUUIVl83g5unPrTPD73OMkhc18ycr7/GzVdexArTv8/H8HaiOF3cUUT3BEbfDmjT48Qa8sQPOAqPVvgh+3dsLv7OEQ+Ygo199YN/zvHtRlXkUM17+tj5vTm8lgqOOKwY0pqGjaW9t7LgWHKRMvV0uLNSiNjoqrdI2qScbGfUtW98EC2s4dsjiTUZ2EvnIKwcSxwhcIZdTp+QHH/Oa0jf/lPBO3Xm4fzuPbdmpM3vK1YkpmJsTgt+/zNr+e/17834fjzG+8lGCoEU+1fQ24glCUh7fBc4ICSxKbn3YVfonFz7ZsHfJ50cXgEBrcGhAKCTKzYSObgh5++Dz27i0kc/lbE0qdBMhD5CiCmHRF/p9gBtWG6IiuQwpI5EQpu3J+MjG0Xv7hB2rYWeAATEm3yQyzUsBFoy86NjKjcgAn6kz4fW1Ij0T95bVRge9nw6Pil2i5Eoy2LHKy2Df9sojv/Dtbx/zUX7vY1DCoEhJIaQeIVOUHoJCi9VsoJK6cMr9P1CgGTM0LVmHcEt47dum5W5jY+xJoMT/YXjHe7fuQSZzL65Pi3Tnx+eoiNCwaztUA4Lbu3nZz2HD350ZvUKnLrqrE21vtLDUK5Y8CR6S3P6UPH4qMlVZq2fE4KZWasdtiC43kBIhTWgKNgegcoTqFW9lowGQ7M9e6CxDtnUANWViCnNk6ZxRM47lPuO+MWkHBvgEN9W7Na6wb9b/20PGr9325LpDyfxX2px6kuX7bdCwxCSoPASlD6C0odfejCEhjZgp9OExC89VMkKqmQFQenFK3S8QscQclCItNuMGiA4XjIExlazDpEcf6BNRWsk5+emXxAShZckXVE/WZqtgq3h2sE/t9lBPP2K1JSaTOPnAGJnB4/+90ksT6WNg+uTzYhEMmu74ObSYyPeFVxL96kz0sOyLBhFI4tM8TBLz7weyxLTqNiT/t1eW66S4ARzazw1q8M8HB1yq7bqYcy6AGqvHUdKZGvzPvegaDU1tF61flJL8TVpKcIzh5bLgTe7WJ5sBWCHVYlnTwSnu4dpX+jjgrUXTdYwC+IVxqBwKAZDaPilB7/0EJQ+qmQFvY7DZdd8ibO//x/8Pjx/wsaaMconu+cjw+PPmIzlsXdEpjNqRGZsS267wo7OIQ1hVWIKnoiDFTQQgYqc2wef2cTVP/4M3Y7Dv7rm5vSSjIWQkFR9ahvC8KBse1TXat9cmeG2jSqHm988nXiDQJkSX/eAwBGQqst9LrI3ys/WnZjxmePVMpYwytDRGupH/nRC2fmxhdwy7a/79JgjCQhJrGHYnOoLsyWVvg7/iiyAPV0AON09yK/X8myyNtduJo30UmT8OUNPxOZQ+dhqmn74LA+dfwynv3LphGhUGU/v8xtm5nbtSYGnpvg1qkzkFgpqxMftNtzYdXRmifpc5yjg6Bmbc+7PrsvjYlQOU36/nrPuuZYND81OawMj8PapMalwV017HDl9StrwWUgjU4pEc+Zxb+o4iZ6dVUSn2mi9Ot6+oRO2Pfm8S5L+SKYwybntSDvNBKJPbeOTn3mobOUJy4ZlsTKS1jAcJTKWjPprG/jd7uMma2Q52WRKOu0ibGGjEJBJGNAw7dXrqLvRT2wCapEM3m0TRdWLvmxvAoCmcfS0zUXvVDQVJ1w+sfpj/Pm+EznrmSsIKwcTReWGHBNQwavtQ5GcfbZ/MIcjVeNDGHnCp22bed9czdRfrMz5dXB7irDKr07f2HU0J730qay30nS9B6thQBMyCy+xqluGKmatNb08vHERwmdDpZUVb+J4BORS74VA2zgkMGKOjshxn5SupXNPJhohWHNNGxdVrpr4Y5WIiid4cn06mbAjFco9n/cj3v/glRz1jyvHvZ+zAzvpPX12+g8h2H5yBfUyR72WcSK7HYc7+xfylR3vpOHl3JLObK7iww0v5N2JOSL3pCoUy7ZD5PhN+7ZahAOe1X5+3XM0KaWQqdw3OJEYEgr/7pozuJ3jkajKHMbPvQiZ086R/i7/z6LK4U+rDyO2uZIrnvgYT8SbB78LSYdE04C9wCxs8xHDpMIdXceTjOa/iQVkF75OMagNvZqcim9XDjuRlIh9kOEqDl/ED9/zm0lxo+ZkxJTRt6QNwE9vnYVKZtuu9ida53bQ2twz+oajUCUruOi/HkEdtxRxyEH8/JKfDnpWyol+e8+xvHLeDBACw+7KuVF4RgUHebrIF7ax0fSxxw5xoq8TgFNa1/O6XIIowUX7xwdP4tAPbSGwO7dNwDGHjv3mrkZah31nV1WgdeW56Fp+ldm7s5/liTbO8u/I+u6FRCtmjxehKURC8mD3Uk6b0g7ATttLcF0fNuRc6gwiBLFEWkB0Ow7/3j4r42ur0iYV1PBEhhlApcyZndrwaoK1ZiVLPWlBoTQNMbIip+MMdjCbMIRg/ZcMjvN2T+xxxsFewTsejdxG0ZdHO+mwK9hgNnKcb8uoNrnReGDRnVRKH+WoNPGFmi2c9Yefss6s4yQf6X2WWcHS14Sb0pM0V9DQAP3TJaECa9X5RpJaLcGd/Qfxf1uO5LCG7aMeeLPlwegcehvWrVBcF7+Y1v4EVkW2Wu3Z4sVGpUPH1/th2MPiVOhpK3OJ9gjRH+WxnkVZAsNE8cvtJyKsIenclRwy5D4bmws72os6RvDvQXYeJbin7yii/ZmuT+Gz6Z+tUf/a3g9EdhGdAYzuGI/0L2Fp/bPpD/LcDm3WNOz6EDz/elHjKxW5eD63HP2HCdl32Ri4bSNfrsLnY5Z/9ArpvY7D2b/9Mk3LbGxv9hvaCNt4O+N876QqfnvlTUzXx15+ICi9JXlIRmOeEWDesJgYA43kKKWebRSmUmgDF6xQhTT5+tNzCwoLpCBxUGHPiY3iXfdcwyOnzKP243387bmlOfNBAjsYTHfvtf0YkaGBJSsF0777EjKZeyyB7en4hQ5bEhihEKgxuvVUymR7NDs+44HIbN5cOZQRi4Qz6lcP/vlQ+2Ls/tyu45E0PtXOBbdew5/WH5pzzTE8KEvYCmHmPn+RtPjz6kMA+OPOI5Hx3EuhTR9p4X23/YPEe47KfmLGidB11lwR2q+1i0JYc1o5v/qlUbdbnmxlxgMRjIiFtzv7nzQVZpWPpheiXPnmhWMeTzpQa99WVbNRhJVDu51ONt1mS7ZYBttsL5stD5stD9tsSbudTo6MjngJy5n3FZ74yu/jo0teLLhNQinaHrexOzqwOzpY8I11OY1NnrAi6uSWpqkqgSxgi/B3OjwVm8sT0QUE9kxscMqfdh4BzrCHLWRyVnDIwLd+Y3PxRW2kpO3GF3Fey10ZTEsMHUdLqoJGurpHKmi3YePz08DOfQ2SsxJcEFrHNTfdSfT8o4obY5FE3ns4fz3zR2Xd50jWWQa/6lvM7X0Hs9Mem8Dz7xRpbdTJ/H1kegWtWmrU3x/t28naz3ix/IUfZmVIdr7RNKYxpqM5Jz7Ybq/WYJN++HfaGu22l7AySCiNhNKwR2gUCaURVga9jofdtmfQIWGi0PUdXblDkgewavycGlyd9bmNGjR6rTcr8a/vYu8jlM9rUbkpwW3dx+fMaLQ9IKry53ZocYfvPns2RjBFa3LiBEaHo1i3vTEjZXbe1N0ZwUmePcMMi6PU3VQeAzQtp8YFmdW4pFn4vOqe382Hb7iWGctHd8Od6Ouk/ZsP8JfVJ4JlI2IJnN4+VDyOsu2iFvhCH4jt8BggBMde92LRbROGk1AONoxaRmCnLbj0l1+kep2NkoLf1b8T/zntnNmyhk/WvFh0GYLqjSZhRyHWZsYD9U+XRbmBA0Ky/Kwfcvfxc7jljvfS/EJuw6kSAmGWLtSkEHjFvil2F3ZS7LYlptJIjcFOYiNot9MGfg8O+qZLZjDzjq15fxCd4mOW0c/wRfMxz34W7fUgv/nULczVTUIygVM5LE4gjyosTJu14SZogEqZwKpQaKmBbSWYLdXY3jwPoIC5t1uYIW9WPMd4ECOe5Cei8yA8JPCUofhE29MZ28hhk0R4PIXtSppA5onAVArEXimrwAiPEmUrJS2P7S641FDDjMPvDLzJT858L55ehVAgrTb0hEJLKvTYkIYkLQe9N73uVVJi1vhQElJVOqmgBAFaSvGF+t8DkqhyWGtWsdjTP2pF8H8n6vnSAxejdMUz772x4AN7xboL0WMQmaINXpPII83cp5q5/4yDefyQ3wBpAXTW8suI9PqZN62dphcyCw0HVu7mvvCSrKVrRUf6LVlsFfMPBtez48Kn+PfLx2b1jBkrUgh8Qi+r3SIfprLZaae1iHKQQqJ7Rynq3DtHwz9sgkaVQ/PvfPgeeo4L532Gl0/7Ma1aikSTn9ECk5UmkQOPV7/jyzLc2b7CJ5aqyq25jOdmymECw0Txm83HZlTSmjFnN6dU7GSvJS2sHBpesYbvoPABhMivOSU1PP3p40sbtP4iXICF7BJC0PawxrZ3SKZqDhKwfOAhbT6xDYFtCAgBjLzWhdVjLal4MjaDOj3C1279BG0P7GbTh5t47BPfy/vmv7n7SO7/+cm07LaJNUg6ztULaihb1jQTUgy5u/d6O4DEs/VElzoEhGRFqgbn+Rq0GkXHs9NoXJNp4HX2dPLgVafSvG57RlG04E6LhFIYJdh2Tg+t5InACXj6xud98ksDWykMoe0Tu4WtHLZacRKqvOkCsuWONwofuEJl+Nt9QtA3K53iLfcMDWa44VHlM6IKBmtDPNy3FD2aeePi9UbBWIR8aAmrZA9JLtaZFezeVjP0gYSL2pZlvJGu33k2wX8ONUZW3tGDY1SwIud5aRGJNNMCQ485iPG6RKUk9Mwmzvv7FwaWjGD5y/NmDK3t44/vP40fXXA+Ux7rJjqvjml/i3BH7+E5t08ohz88fBLBdhuh0kuvzeYoYdmhPOcvQI/BdiutxWrCIVWpUBLCM0E2ZofEe59djdORGSYgUw6JEifYLD2SGXo+kmLrujomSWWRVPumKPIOO0aXU/7cIjnaG9KIiEGDyRZL4w/9B6EkJN99JI4nPRl9QtK9cNiaLF+wjILlG6cBsKxjWtbSwvaKjGpdRZ9EbHRDVj4iqaGL+qs9JyNSw/IzAhYnVqwf/NtEsfyuxYMNkoWuDyWAFUAZGt7e7M89fXLQtmFEyhM/IfwVHPS/u/lZz+E8FZ+a13ZSKpF5VdhBL8kGP12H1hBr0EjWeekaWU9xgHVWkKphiclGzOHR3sKFf6pr8xvglQ6pAa3IEDZWYCgHp1hvkG9zF2tSucsiFCTP7pUU2N4BDXE/SD3fi60cuu2heekoiVOmdbzMGwU5QGiLQ9hR/LLnaH7QfgYv9M1k0QdX03zdBlTQGswDyShjUSBrUqXSN31KsC/rRjha4WjH3DsEER9jNJ9y6Hmshahy6HUc/r1hTkagy7xpu2kepj0+GW+l7b6hGBNRUQFaEQOWkorOTA1IKTCGlfosJcitEMrQcdr38Pevn8zPrv4AFbvLM4kTVZLuRUEiLfqgoDcDGnaeV6yptCH7DOkl18PPHVKwoM1B9bvzPpypKkWdTFuI/xk+CD1W+nmpcJSn+osvNQngEYJ4w+jHcoqMEjOVg6kmtm1EUlkZBs7rN53HR++7HHPAluEoSczx5hUiptLotf08HZ3Psvgsws7QcnVUU21oS4yfdZ/ArkTl4AGkUEgUFRs93BteyqeqVmT8RhRQ02te1mk/A5ZvmcbIrZI1gsAeSopOE4pR8zkKMfV36zm1/stosyI4PcNGJOAdTZneof9dfTaNW4ZqW8iqSpwi3yreXhtlSkRcYvRJUi0mRnQC8hyEAE3Df+8L6C3NxOpnltVIPJy+mZLOZIGw/BE0vii487TFXFqVexm8INjOCnFQzvvv6xC8mmyj1b+NtZEmhtvxio3DUYkEOxLZcTeFMBAkmvM/4N4uOWifSKri5mHESRKU3n0WgxExPcy9o4+V72ojIJN8/b4PMeUpi10n6Ii5EawtQYyoINFoIUxJRbsktTiGvsaPWelQvUbwqavv57CKzaOvwPRdPbz+8QWs6c72Nxsx+NPmw+l1HOpWDV0sFcpfAar+9RgX/79rqHoq28g2lomtJWxUauxLEhWLM+9HWzBeCmUYO5Xf5qxgZtJa/4bqIXekEKg8qfW58O2OEVxnUL1K0rjcQe8y0CaoSJXwDWQttjVMmLBQGtg+eGn71KJ/Y8QUP3r+tDEdT48pfrM9nWm6K1Z6aUUAbJuXtkwr6ScJ5RDYmv/BDuxQyP2sgaAmBNowqes3TFi3hT997p38+BsfZPZ/LsP3xOtUrofUrgCO32H6g/3M+/yLzP3i80x9rB9Nt5FL+/DODGPEFD8fKK8w+pk6ChFLokasFRwl0BKK2TWd3BdeQvDpDUC6ZJsTKGBsUdDw0AYcvTyqstEThyLL/edC6Drt75lOtC1zH1pvpvKVUA51rw0LsqquRvmKbzIkbEXTiwlC2238f32JebfuQDMnMJNSCBKNExcYZPsEjqGwrNLekr5tnrwlBaZ5OslR/hRI2zBiP2tlrell89aGMRnHAexI6Y2hZAE7pVAQUylMip+DUgjkBCbumcrOCMZav6mJ+KmLSFXr7DkSZDCAnNpK1xEOyuugNIVZNfTMOl4dKYfmZqJa0r+xmjqZLFI0ahoJM/NOxiwPnn7FVS2Pcfu6Y7C70uHCMlAxquFSNdSOms1aFApkb3Eh2nnxGCRqswdTtVZwX99hg39/btP51P81He2p1dWipjSVHHpt9Cbwb+5Hq6pEhSMZqrftLe9bSlZUkKyaGJVXqAGbiwA7bJTU3c7TR96SAjMKCAxHE1T9cz1X/M8VVGwaR9q2LE1Ir7OC+HcXPr+kcoq2YQATHoex285cGnl2GWw9UyP6yV78M/qhsR6zuQqlDY051jgs9mjE7Uk0QnBmH7ONYHECQySSBO+uZHd8qFjNiq3pfNHpepxIt38gCklAaxNqlAfJrvTmnRiloCdsVI7Se6UgpMTJMf+kBRti9dgo/hqdQc8N07H7+tGaGlFtTTAGb0560BI1tQkRzPQuOPmK54wRWVWZjrmYADxhB32ggJlvh8E2q/gixP7dDjfvOZ3fh+dzZ/9C1pre4it7K4W/08YMjV0zE9HSJt63N7+bwK6xL3lzMZFGz11WJMudKgeSKKUAj26RmFaN7c+8DmZgWKxVmy8roDHoSz9nslD69yCOovaprYRvn0JsoMep6vFQu6yD5al6ql9JP3FaVSV2ZXFqsB4fvzpudMTGtRyBdMyIZ8DlKWyBcAQogRLw+u8P5tjfX8tdF5xO4F9r0ObMRLXUjz+pS0rs2sx1uO2VoweBlYCqrZoQ+4VQEFrfjxlMj9UThv/Z8p6s7VYl2tBy1DbxRBw2X9TCL289h/s/cyqfu/ELnD5QoLfDqiRHCxcgbTOx5k+l/Rgt47y0uIBw8RWrqtYN/bjDUdzac2hGrZORrH95WklG+L3u1ahyWGX6cnbjs1HYE1CsNx3Zmf32azhuF2h73b/pl5MezdRC4g1isPhSpDX/xNGFXqTElZLa+1exsfZgwjMcKjdJrIYQGoraVUmErhelXQCg0olo8abMbUuJGZCWQvb0jz/dXzmIgXtX96rA32HhGILgul7Y3YkwDFRVCDVzSlmzP4VSSFthD7hlHZ28tTDGglU1MfYLaSr6FlQRH2gy5hiw9pVpMCdzu9s3HIM/TzEkunqRVjMyZSMcRc1vgpz08pep6FDo+ggX/QBKQucSf5ZmqiXJH/eTg6YXwly/+2QuqH2By359BbVrbX57qOSXF93KvyIL6DSDXN/4LyAd1VuzmoLL52S1ICgMup0Uf40sBOC2Dcci76uj7vUwHYeFCJ8a48dH/p4jB8KqHaVwhMqKtR0vhtColvEsDaPWF2N7MFNA6B1hUHVD0bTDBmOGMo2bSoA28HCWpJ+JgJ+W21fQnEqhUil23ruQVr0Poz+J1tSIWVW818ATdtKzYNjNkCkh8VyFAAAgAElEQVSKluZa0kalyhc1J1OCqs0J9L705FMeHaY2T1hheqWJzLXiQDvJsogkR2FWlr88G4BjCHoWMijdrQpwKjLflj/sPoLA7dX5HzRdR2mC8MwAVoUguKqTir9uRKusZNdHD879GwGJBsHICeJvVyXNA7FyAxveU8vX53yCukabHeeZeDb7uOSBz0J1CqkrLql9hnv6juDP957IjBe7STXmb+IVa1F4hc5J93+BBdetRilFk7eL1d+tRPtAgiW1W1j+x8Vc949P8av/72Y2W3W06j0c7pmY5eJsI0iTk+CFZIDnonO5qvZVXls9Hb1yxLKqpx+ZaMi6d7lwvIpzpqTD70tb0Ok6sroKLAtrdweRXUE+9uTVNL/8HGrurNF/PwyRw0gkSni56l3xsoSD78XTJ9F74gUzd8vNcI1KWqro5s4FUQpsGzNQ/vOQ1oDre9hcd3RFxQ6dfyfq0YTDv8IL+Ntvj6OygNdABCqwvRCenq4IlbPjWw5JPdIYJxyoWl96lXu7qwfZvhvvqYchDYdUtcOC/1pFx/mL6F0AV1x7JeqyDupW2YhRhFFos8BB4WvXBiOAiWpUbPJw4TEvEbO9bF6dwvvkCr762qfQ9vRitdRw9q//xVU1m0seezHc2HUY/7zueCKtOv/5jTVoYQ1v49B5WH4JyWTG86Z0EJqGcuysa6+AKi19ncc2q3Qd6fMy/SFF6z+7QamiQqRHQxabRKZAFtGmsBSERdkLzhQ+noMeG6Va+liR6cpd5cYbtsmybwoIblf89ML38Y1vXcob50yh4bVEXu1CmmqwYFOWs2SvDUelhZOWUhn/xIj3g6dPYKzNLq84GkKT6ZKUXTHUQM0MlUoRaxaEFnajpRQLqvcQadVglBqpffPSgwpuG3YDHZtEQ/pzU2l4+lKoZBK1bAXWlm3w/Ov85IGzBze3yxj9+WLS5PmPLcH70DKkmd6343MwtKH9R1qzF0PJGgc5cyoIQaBAb+Mx+yqExyBep9OxpJa2MlWDG9kSMO+xFVCu5YimYXvB15WudqU8+6ZOgZIS2zckr/W4U54K10qB4cHKUVpuvHj6LJILdTKkm4C+OeDtCxL4yE4SW5tJVee/ho4u0vU1hv3erq9E7PRCU0P6TadIV0UfcTmGCwxhQ/PzSVR0DCX6pUToBmadHyGdwcNYfkWNxyRRoxHQk/QtSdH83ChLO10hESTqh6639PlonJuubxvSEnQcGqDh+cyf1b2hiDkpdtsptliV2AgCIkVIpghJm/qBRkWlYCuHX3ecxJ5ja6hqzJ0UCGlBrSwLmRKDeqDyOrx5WSNtT9amTQN5GLvequt0HwRXX3wv+qwZY97NIAr0RAkPTJl6LghdxwyB5Rd5q1hNCJKMJssjrdZjRVg2wlfemiGQzgXRIyZ2LluqgGiTZEqgj/4ZhSe54xGkWofCs5WAHaeEsI5dRP/BdUPjznF7hwdQ+XcLvMvXZ29UJEKTJKvTecjKbyMb6knVpR+fgXoxaH4Lp4D7XCiFSAo0Ifne536NPDidp5I6fhHvaE2nEEjhYJ7Zl9WVzvQLnktWsNasI6o8JJRBlxNgs1XDilQ9zyUreDmZYpcVyZnh+mjMYPY/LuWs1e/hj+Eajn3tfI75z8t5+i+H0nThFsyQjq/H5k0zgRbLPgcnHscIZ75U7JDNjhP13Pd4gHFNK6vO4pLKnWx7b+vY4xIGEDY53XD5f1CeN6gKVGBXKMziUyLKjrBBD5epHL5SmNPqyy4wfD02tk/PCPYZjuUXnFv/Com60e+LMmRGWLySkKw1BtPIlSDnkkbYA9qHgsbl8fEZvaXE02+hAOmziC5pobI1jC4d7Pf0UKkn0DQHVSg+RkHjMog4CU6viNF/UDUIwaZzDeqHZRYubtyFHNYHWHi9xM6IkFBGVnm8vSSUQbtdyfJUPU8nfKxOxYg4CZLKJOIk+OqNn2LOxa8i3tXB7848gapzt1F7+3OkqhQeadM/Q8P/0HKuuvCz1KwGfVgdEj2uQCmMHDGPdsDB16MyI7sF7Eilyz6MfVoJyfzZO9GEJLI0Maa09KxdFqmSKwnKVx4vgF0bwPEoEg0O4YPqRv9BmVCGNmhnMKJOWXraAmA7xBvLXwchsLGPWIs3r20iMtvmjIpd2TaOHNheLct16utKZcRg5HLPC5u05qHA6Bh/tzBPVxzlCKSm2H24QYUnfQ9m1qTraGiag1MoTklAzatd3BOZhkSQCqSrq7XO35Ox2e54CJUc0vOTpy7hK4v/XvQ4E8pgo1XL04kqnor7uScyDSMKW//rWNbeupj4/CaUmUKGQjitCRp8ERx9oAXG869nxDzFUwaNL6bdu8O77g2iILg1Rio5dIOsKpsHty4CytEMAfCtn5zO4eUg3uxDyfRrq+NQiV0xfuNtMShNDhr9tIRdtg5dqsKbEbVXDjRTwc49xHOE0KcPCgct2kqN5seaP3oP20StlhFdK2zwbOsZyt4V5J+Zg9W4xn+OYls7dKSFq68L9nRmBtOZG/O04RxAifQy9qcbTkYTkr554KRMdmyry0gd37ilEScy9DrffbhBg96fa5cFsRGYaPiESfXHtzH7tE0smrWDbacZSJ+P5NHzeMf8NXilNVjJbSSx7UHUyvxLOU+vRFuzBdWR+dLpezNd/GjMAkME/ZzemK48FZ9WprdjKXNglOK7xR1P0j91yECXqlKEZxYfSzIebJ82dL5ljPB0Qr6yJfbtxRN2cMLhvN87OlzZ9jgAh0/fWjAxTNgKsyIzBsWIKJz2PVStiw7aLka6byEd0LV3uZJqyB8bUSxOf4SqtXu1PIV3Q/rFp0uHzbE6GpeNbtOyawP0rqjHVg6BHQIcm4U3dPNEZ7qDuqNkOhJ6r81NaiTmj8/DF9LivKd5BVHTg6MEs4/ainX0Qrx7ouyIVeMg0vVXhED6/RhRZ+h9VG0iB7Kss7ySClqeMbF7+6h8U2Z9B+MQGGZrDe8Jputg+DeO/62sNLB8xQ+nlEzRfAifl3jjcIu/omuxwKoqv0o/kuHNmsr2gCuFWe0bcyZnPvzboyjLwhPOowVNi3OCL71E+GzzkyQrC3Sb6zap6HYGY1CEky550H3+UnoWBgcN30qmg9sGIxGlwKwc+E5A72zvuLUMWVtN5OQYUnPoXgSzT90EwHE1G3hm7Wx8XaMbou0KnerVYGGz6MOrSL3zSNSOdqxrarnlxdO5fd0xtPxtFwiBVllJx2eO4qtH/m1c4waY5d1NNOVhfXsDvb+eiv7Smzgr1rL2hRm0x0NUvt6BddphhB6tQI/ZJM308xIIJaAhvfQObcqMYQlu1PE+kXZ5tty9juSmAQ1LqkGb2JgFxp7D/MwzyrgUEWD5ip8A5XB/2o1VQ6XeBrACDpEpEyswlBDpxst7j1khC7Z0LG3fZdnNINICuaUdpEZFp5VVh9X2wHeOuHfQBXi8z6TnoDz7MhXrP65x2f/+mcjctFbq7VHIZavpONrh4q8+mHatD9wSR09HlipdIByVzvMZINomMgyJY6HznbN59oSf8h9LHuXJC27gl7Pu5quzHuHjlasIrixuDighMOKKLVaKO2c8yV2/vJm2J2D91R58W7xEt1ay9Xt++h+exYx/pPiPq/7IFGP8jaA0FF+Z+3fMXi+R88PpgEqlmHl/nJX/moPa0c6mjytum/EQiTqd0N0hujpDRHYHB4PRjE3tyMTQvKtbaaLMtK3F7uhg+iMmSgn0oIlTmRaeY37q+g5LDqboqjKFLpgBgR63c7ZKHImMJIYyZMdIqsaH0nO/NYVpo4wJqoikiQytQmkCJSVivG5dlR3cNF78HRZ2dy/6tClcdMv9fOuB89MeDpm2PbzzlOWcHxxajxtC4+CjNtLx4oysRLJwm8aD77iFRZ4KOPE+vrP5Q5hBwYZvHc41pz3I5dXbeOzSjWy5e/ZgzoiS6X+aDf6dir50Y3Ysv8JproP+/EulQsiaag69/FXqtQCfrGoH0sKnRU8CfpJ1xduUpKXoHTDKNGoBfjn1GZj6DJw6tE1SmTyd8JFQ5bORHefbyabzfoGtHD7955N4ct2hGJt8eLsFa248mKdO+QFBGeSL//NHvvrIRcz5pY2+Yh3WQESq3dOLp0eSaHHAAaPfhGOWoK3ajN3fj29jJ6lkLQiF9KVv5pgedVXh5QNLlw/+XS4bhlUB3o0d2AuaCkYqCmdAw5jSiNjVNeYQ8XijQZbDXwIf62BbaxNtj+eo3FsGHI+WEYPhaKC82virhiuF0Z+ErOKHY0M44F+xA8uxScxu4APBrbx4yis88fBhKKFItljc1PosI1sW3Dn7r5x2ycewHqgf7FInHMW8j65NCwvg/cHtmB+9l8W+bRzlHXqIfj/7AZZM/2LaHjAMPQ5VmxL0z/YNCpFN76tm1k+D6doiJbLnzOnc1XovedsrzIhR7OPh6bN4qP8QjmpYmXcbHY1mLcI2qzqvK7UUbATrrCC1molXGPx62tMw7ekRW6WF4IeCfXzogz/jmXMcPvXyx/E/FqR2bQItalL9pkNHUEPacNiPXuWquqe5o+9Qfr3yWNgYwDFTTGvt4quzHhk4jzGQnFrNZXVPA2nD09EHbaBHbyv8oxFYFTLbqOWBVdc3UbHBQ+MruYWQ5ZekLu3mWwvvIup4+cpNl9Hyp3UlCw2h6/TNljA850HCIUs2cuesh/hG81G8+q/FyFT5axfYFXp5CgiNYNAtnZ2jNSY8EQc8BvLgBXRfGSUofVzX9DiPTD0YkpI/nP6znHUpg9LHi4fezame87BuTaeOO7rgtNo1Gduk3+yZb1y/9FA5vxtnW11mGntSsfPKFM4272C3sXmnbGTbnjk03/5qSeclmxs58vOvFGxVePzMjWwV84q+jvYogS+akCwwvPQ6cXqd4uuHFCLs+FidSrLY4xRVkOd4n2T18b+D46HTjmIqhQ2sStVwkKeHNj0IBPlK3Tq+ctI6OCmtGUmGesCOaeHcucTLbH3Im3BJ0zOkqktb99s5svXi8xOsPPOnzDlzY94HasfZNs8dchfH+yRn+k2++6VfEj5xVt72jDlRivAx00nUDwkZ5VG879hl3DnrIfzSw3UNz7HrhMJutbFiBrMfMlUGG0ZsXgOX/f5+uk5JlkUg9czT+PDfnuYHD97GS0f8HoA2PchT77iZv7/rJo4ZpfHUOS0rBov42B5BY5GuxPOmr0BLKPRY+p+nX9E7V3L7Yb9Ju8AHqPNG+fE1P6b9E4cUvTS1DpuHcXucn055vuB2tUa0JHvQmvDoPVY1IamWZQrQG6DdrmSzNboreyT1WoAWPUibHuRMvzkgLLLxCiPjpTCGJiCC/kWpDIl2RkWczR9UJbkHzYrMbZUGH166DL/08ObuhrySPVgbyzj2mX6Tn/3gZsQfBPEjisiYVQoRCtJ+jJaRLhpqDvO95pcGjXdVsoIZ520sS0DacIRpI0dGtApI1o3fgLzjFJ3zg/08c8oP6Tp8/MaM0Il7+Eioi4Uef8Y1n6YHmWeM7tb8dPUq2r6wjh2ngveSds6sKM7Y9+W6V7He1UvlFpOGVyIk6gW/uuTHLPVA2/w9KE1RtaCLm9se5Xif5PZrbqLjoiXphkb52nR6vXR8eClf/s3/8Ze5owdNnVG1ctROfIP7dhQr21uK2jaUr0LQGLERbLaq9lmDpJKXJCpQweeP+WfGZ5qQLD/zhxyWuoo5/5catceGNG20EeenDgpzXf3LgKdgYdnI7mxJuMhTwYPzHuHPP6zklv+4cLAgcc7fnzAH0y+x/EMPlHAEsagvS627ZcY9fGT2tVStLT3IJh/dh9Tg7XPSAnHY3E5VaXhqA+jdY4tgVD6Dd5z+CgAtepA/vuvHfKz3SirHmm4hYFFt+xh/nCYoffxp1j9g1j8GPinOtuKXHl476g/sOixCryOZY+wtyS/526K7+NfsEEs9XVTJ9Fw4xOvlsetv5KmvNHLdby9m+k2vZeQaCV1n9Q2zWX7WjdRoxS0HarUIVoUYLEVYLkJCoqHKYscACMkEC4woXjH+uJRiKPn12XlUXVYfEoAazc+b596K9v86sAK55ZDSBNE2H54bO+k8MzHsc7jq4CfwSw+2cpBbxhY8dX6wn3f+v6egNn/viR0nSyJTMk9bGYqvHfZI1rYzjSDd50eLqyJWBFbQw4e+9igX33A/XUsEzjDDrpIQnVqBVTe2G995WDVfb/7H4N9HeQ2++6HfDRSdKR0lYXFo++gbTiAtepCFHn+GSuyXHt7pT9IyQoWu0fy8NxDhR5f+HOZOz/hOKcWiOTuKFhYAc3WTZHX5a4qUu2v73ojSfaVhSGUWfyCnNsRRly/Pe+ENoXHvvPvoXJrDniEFWy5X/PB7P+L+uX/j+Nkb0mm2ApKzElwQGuqrJ1MFJnme5Ke9XFn7GpGFeXJClCKwXTKymfXcBTu4pHJnzp/cceRtJFrKZKSa4ePSqjf4ZFU7T3/0+xx8+QoStUOT0tEh2laBXULlMjTJlvMb+a/rfkujlils3huI8M3L7sgqhVgMZkhwRmD16BvuZ5xeYbPhwqrMD22blZtaS9pPpfQRKb7lClLuw0znYUSVh2XJOp6K+1mZitNjl1klGoHc8ukFRQUNOTVBNnzVwy2tzxXczi89JBoyH2qlCTZ8TvDCCbdy+EBXtO9OeZjQ0R0sOuNNnjzlh4NCSBOSGSduyd3NSsDSeVtHHWuhTljxJoV9RBhk2tCpNyT4wey781qZD/VI2o8pw1tBKXaf4AyeZ6MW4NfTnuaLV9xDeGqm0IhM96O8xR1z+9n1/PNzN3BuIPdEeW8gwqc+9jBmqDSh0T/XYoEx8RGvE4FZm+2eDq3wllR4VxMSNb+45aGjCU6f/mZR2/Y5qbItR4ZjorHZquGFZA177PEn5uVDPvK577Hqa00ob34vgzmtnvj3E6w+6fZR3TcxJ4V/hA+9d14FT530owzNpEUP8uKhd3PP7MeZNkK9vH3OXew4VRJr1NHjNkbUAgXtRxn87/T7Rj2pvFmvuk7T0t28etxt/PLsX3HPWT9m2Yk/G4wNyIUhND75/kexQuN7eJShcfGxz2R9fknlHm777C30zB8mNAxBvC00qhE5NruGz3/yr1maxUi+UL2R1vdtztKsCrF00ZYJ7Z2xr6ncamOV0GwI4IPzX8EpplWDFEzJ1W07B/l6spQLG0GHPXH3TU7Tgzx19k3E5tbnHkBTNfY3unny4L8UNYGSyiK0I/PGdB5j5XXb5KJFD7L6wp/wi+tvpv/aMJs+Dad+5xme+8T3WegpvDwwhEYqmHuc1qwWvj/vbrzC4PQKm8O9Hqrk6Or/5dWr2X3U+JLSEg0VfKT6xZzfHeU1mHXS5ozPklVa4aWJFPR9Jsxnq0cvUacJyZ/m3kvvqflL5w3HDAq+MJBMdiBiVCazvCVKipJbGl5a8xzRltHd9b2zDD5S9UpR+4yVoyHPKETLFXqdAwkwRfPTcUjuC7P2ci+PLvxL0TuslD52nDpU5Fd5JB844qWSB2YIjUO8Xl489G7Wn3o71zesKspo5RUGvedFsyocISTbzgyMGjuQC7/0cP1n7qTn4DH29AT6Z+hM1/N7Cfz6iLpoApwCoenK0Lhw1stFHz8ofTxx4o/S7tZRhEb46Din+PaNEW0iuHrJP0gevxBmTUM21MHc6ew6SZXc/Hi2EaRzFPe0YwhaL9xc1AvRVg7RMoaG56PX9rPLihBxEmXvf6JD+g2ULwchVBMrSTXVhOShc27i/V3X0vbPODuPq+CexmeBfZM2DvDCcb/gA3d8iK575tG4LIzSJesv8PPg+74PjM2AeX6wn+evfoFXv3TIYCuColGK3mOSeEWJk6XMmuU0PchD776JcyPXUL2WnLEuVoXgy4c9ekAvRz5bvYPzfnUzHY7OmlQTiz27aNUFY5mDnznlCR55+BS0ZPYDonTB1nfqvDbnPvKGmA9gK4c3zQRhp6bkMZSKicbyVD0aiql6b8Eld6nokO6Y5O3NMXt0jZOmbCx5pws9fpZ96ge8cbHBHCNBldw3PuK9VMkKHlv4AOZ/2qw3k3iEw2wjyFiFxV6+3fQS8y48knm3WyWFjNtBL189qnBKs+VMUKLbCBZ6/Pzzohs4a9ln8DxRhR4buu9KA985u7msahtll1b7mBY9SAuwxNPHeO77pdWv8qep76B6fbYGuOlCWHbGjQRHmd8xJ8WbpqLdrpkQg2c+bETZlyc6QKcdp3JLjsQnIWge6NZUKkHp4xgf7M03mQwMoY1q8yh1fyvO+SGfXfpO1v9kATUriwvosr0aS7zbGJmkNZyOePZ1sg3JRCiwbXqQV4+5g0eWhLij/The3daG2u3j3Se+zLeb/40mDtwKauUm6ij0HK1Peud4ePC0H1A/isE55qR4KeUh7EzONY05Xkxllrwcy0dB8aO8Bo1G+aIc3woEpY87ZzzJn65/hRu/+WFqV4xNoI7k5Kb1/ENrQg6LktUShbUYOY5cdkNonBuIce7sx2H28G9cYTGcLVYlnmj2ddbO7SxK1V9vOZMmLCAdp7HajLHEUx6BIQHqtQo6Dx7xLpOCvsV1nBMozr/8duNDwT7++/rbWf/hKqxg4ZBnLW7xfHx2wW2urn+OnkVgGwLLK+ibJYm1+vI2m45PCXFWMH86tUt5eDo6DyOSeQ+ULjh3ana080j6nDjddvk03LGy06qis0yxGTqk3zYXX/J3Hnn1FCrW7cGpCbHrpGo+/7m/ZIXgugzxbn+CMz/yYz554qns/NocjN7ctRplymJbohbYnHdf9VqApz/yff4WnY5PmpxRsYvvdB7Hq59ZjNY3QifWNdovTbDE42oDE82qcEtWbpQZ1HhHcCWFlpjbrQirUjWYZW+5XDo2gu2WTn0ZhjJo2fpy7Qbed8vjrP12PcffsZwXvnILn67KHS7tMoQhNH469VF65hUO7Ermakk+gkYtwMWVnXwo2EeN5ue7Ta9y8K0rCS/KDHXfeXod/zr2Z+Mat0txHFq1NauYU89cjYM9+d3OESex3wiLveyxg0Sc8bcXzTCFf6FmC+tPvZ3/rF9TugvwbUxQ+uifk/97YSse2zh/TPu+sWU5n/3fe1hzZR073tXImivquO6K/xs1utOlPJwcWEOkdehZSFXpLDl3dd7iO6ayWWVq+5WwgLSr9bWUZ9xxGfumkejbAG1G4TJxVmrsE+gjoS4+8r6fY6viKiu5lI+jvAZnf+lfPPrdE9GSiiOue5kbm19kpNvZVg577BjrrCBhZ/8U5mGnghWpfmo1kyqpERTekueTsHfNKWff8Lct3+g4iGc+eyRaPLeqmvp+hH8cdP8+HpVLuXgyLumyg7w30JvzIVuZipetXue+QENRq0U42FAlNX12X1dl4sral+helMcirhSLa1x70IHMKRUO5wf7cwqLpDJpt4MHjLCAvUlqIV5M+thlFV9E2RUYZaJG85N8d19WawKlCXadXMPn65+apJG5TDTbrWRZ2wfsS6LKw2upOjaYkaLsG+6SpIz0OXHe9cZHiPy9mbqVKboO8uA/azd3LfptVgq/y1uH1akYG63ayR7GuNBQVMsYDVqcek3Lm8XtCowJwFQ2W604bbrX9Ta9DdhqRViRyl0e4kDEwOZIb1/O7HB3STIBGEJjthF0hcXbhLfaQ2SisdHK7UB9q52ri4tLGeiyA/Q52Vl3rsBwcXHJwkTjhUQlLyZNTDWUS+MKDBcXl5yYaHTYIXqGhZS7AsPFZZxMToOBfUd4WFFtV2C4uAwj5qQyVPBC2MphuxVhs/XWdpmHhyVOurkkLi6kXeF9ToI+R6XjEETh4jimsnkl5dBhv3Xcqfnocvx02v3UawFXYLi8PUgqkz5nqC5nQmWGH9mqtKVFj5Ogw87TYe8tRkIZvJEKcaLPcgWGy9uDPieVsRYvhFlEiHSV9BCSiUktvzcZuDYMl7cFKVV8QHMxmoZXGDTIie1juj/RqofRhHQ1DJe3B+PxZNjKod9JIIXAQEMTAh2NZCm9Jw9gNBR7e4a7AsPFZRR22THeSKXtFXJA9HiETULtu+Zck4lfJqkaqDDmCgwXlxEYA3UtbOWw1YqxzhxqQGQPlN4z3ybaBUClSGKIdM1aV2C4vOWxlYNdQk62HGjkvMGKs9GsO6AK40wEUgxdPFdguBzw2MrBydEodm8AVkSZJdkwksphjx2l3Q687YUFgDHs6rkCw+WApc+JE3ZsHEqPoyjETkun3a50hcUA26wqWvV+qmSFKzBcDlxijk1yAso/RZXhCothmGi8lAwyVe934zBcDlyqSqh2XSwpJYk6hZtSvR0xlU7M0V0Nw+XAxS89GE4Ks4xahonEcd+jgxjYLPD0EBKSSulzBYbLgUvMSZXk/SgGU0l3OTKAhuIgTw9twwpYFxQYprJx8piS3HqVLpNJujO6/ZavRTGZTNV7M4QFDBMYtnKIqCR9jk2vo9NuhYipIKk8ASpHencw03hr1wFw2T/psWN0OxMjKrQc7tm3K1Uyuy7IoMBYllRsMNuwVXHqmOFqbS77GFs59Dhx+orMOh0LXmGjodxlCRB2sm05OqRvRLtdVbSw0IQiJN8+obEuk0uPHSOqHMwyxlrkQxMKQ1jY+3kns4BIEVXl9xINZ5tVRbOW2Z9kTOZgDQefcO2lLhOLPRBx2e04JPeBsID0kmR/X5aEZAK/TE74WE00XksFSaqhBuNy6D+u+chl/yGpTHbZsaKL3pSTBi2KT5ijbzhJaDj02n5sxIQvnaLKw247Ofi3BNCEpFIm8v7IxWVf0ufE2WklJySKsxh8wqZBi+63mkbYqcBk35kEOmzPYKNmN0LFZb+ix47RuR+4SwPColaL7JdCo1StYu85jHUJ02GH2GOnq4u5hgiX/YY9dnRSliD5qJYpem1nsAbGgYhPmDRrEWzEoLDYYVWWpEpUSxIAAAPNSURBVKHYCNZZQeo12xUYLi75sJU44MPEAyKFT2TGU/ikiemMLjCGayMxx0un3TUkMPZnI4/L24P97dE097sRFUZDIXEytId+x0dIpoXGXi2jUiQJk13tPCQT+IRJtUxRLcErMs8/KPxDAiMkU1k7cHHZV0ScxKQsR3odDzaCapnKeKPaCLoHPBEHCoawCMkEHXZo8DMTjS6ngmYtSoddQUCYJFT2wsLA5ghPCr/0APljUIZpGMW1h3NxKSe2cuhy4pNmuzCVRq/jJyR60IaVotsfjZ2F0FBUy/igFjFc0MUcL93Y2Ej22EFMNAxsHIYS7TThYIjRlymDOof/wBGkLm8RIk5i0mIt9uITFjYiZ8uAA2mZHpLxQS0pJONZ2lKXEyDs+AaXK5pw8Mtkvt3lZVBghKSOp0gtQ4rJdnq5HOj0OXF229akxVrsZa96Hs0RCl4lkweM0Ag7FfQ6HkLSJFDEmBPKIOEYg+dnKp2IM7oAGRbpWbyBJyCT6Aewq8llcok4CbrtyV8C2wgSA4LCHLau36ume4RDtYxPythKxUbQYYcIOwYhaRIaZdwBkaJRiwwGqNkIVpk+Yk5hW+aglPAKvSQVRRMHlgXZZf+gz4nTYVuTHpjV5XjZbFYPJnAllEG77afDrmCnFSKl0vP7QOo/sldo7LCDo5YZ9AkTv7QyPut1/LxhisFq67kYFKt7w8N7bX/ejV1cxkrMSdHtpCZ9CbIXU2kZ7kcbQa8zNPd32iE01KAGUggDe6ATmoEhLEylT5p3xUYU1SC61/ETVR7sERXGOuwQb5o9LPLk7uqW4V9p0KJsNWtHPdiBZkF2mTz2RQ2LsWCMYq9LKGPUeb7XwFgrE2hCYSqJIRx2WqEJTz0fLzYibwr/NquaNr2XKpktNDLWFdN1gU+ObjBp0MJjHKbL24mYk2KXHdvvhAWkc0UKCQSfMJmq99Kq9+XdrlrGaNZieIRDr+NBouh1PEVpJfszNoKdVu5zzhAYQeljhtFZcGeVWoI5xuQbrFz2X2zl0GlH2WXvP0uQUtFQ+IRNeCCwKxd7tRQbgU/YJJVGtx08oIK98tGXxwaSZbmcq5tZ7lVNKDzCZsH/P/bnDG6c77A2VUbBKICBt4OwC4IOmIjsVvOirQBFiP9g4GKEDBoyM/xn4Gb8w/DhH+ewKCwYGHCv/MZYIyrIzMXgzvWU4QPSIavcTIwMXIzMDDxMhAdTRsEo4GJkZvjKMPAzIZSAH/9Z4VOUosyfGV785UORF2D6wcCGtB7pLwMjzgOzhxpgZvjPIMWMvUAFAFqGAavEuvoSAAAAAElFTkSuQmCC\" y=\"-44.049219\"/>\n   </g>\n   <g id=\"matplotlib.axis_1\">\n    <g id=\"xtick_1\">\n     <g id=\"line2d_1\">\n      <defs>\n       <path d=\"M 0 0 \nL 0 3.5 \n\" id=\"m3845a87588\" style=\"stroke:#000000;stroke-width:0.8;\"/>\n      </defs>\n      <g>\n       <use style=\"stroke:#000000;stroke-width:0.8;\" x=\"33.392125\" xlink:href=\"#m3845a87588\" y=\"195.049219\"/>\n      </g>\n     </g>\n     <g id=\"text_1\">\n      <!-- 0 -->\n      <defs>\n       <path d=\"M 31.78125 66.40625 \nQ 24.171875 66.40625 20.328125 58.90625 \nQ 16.5 51.421875 16.5 36.375 \nQ 16.5 21.390625 20.328125 13.890625 \nQ 24.171875 6.390625 31.78125 6.390625 \nQ 39.453125 6.390625 43.28125 13.890625 \nQ 47.125 21.390625 47.125 36.375 \nQ 47.125 51.421875 43.28125 58.90625 \nQ 39.453125 66.40625 31.78125 66.40625 \nz\nM 31.78125 74.21875 \nQ 44.046875 74.21875 50.515625 64.515625 \nQ 56.984375 54.828125 56.984375 36.375 \nQ 56.984375 17.96875 50.515625 8.265625 \nQ 44.046875 -1.421875 31.78125 -1.421875 \nQ 19.53125 -1.421875 13.0625 8.265625 \nQ 6.59375 17.96875 6.59375 36.375 \nQ 6.59375 54.828125 13.0625 64.515625 \nQ 19.53125 74.21875 31.78125 74.21875 \nz\n\" id=\"DejaVuSans-48\"/>\n      </defs>\n      <g transform=\"translate(30.210875 209.647656)scale(0.1 -0.1)\">\n       <use xlink:href=\"#DejaVuSans-48\"/>\n      </g>\n     </g>\n    </g>\n    <g id=\"xtick_2\">\n     <g id=\"line2d_2\">\n      <g>\n       <use style=\"stroke:#000000;stroke-width:0.8;\" x=\"75.242125\" xlink:href=\"#m3845a87588\" y=\"195.049219\"/>\n      </g>\n     </g>\n     <g id=\"text_2\">\n      <!-- 200 -->\n      <defs>\n       <path d=\"M 19.1875 8.296875 \nL 53.609375 8.296875 \nL 53.609375 0 \nL 7.328125 0 \nL 7.328125 8.296875 \nQ 12.9375 14.109375 22.625 23.890625 \nQ 32.328125 33.6875 34.8125 36.53125 \nQ 39.546875 41.84375 41.421875 45.53125 \nQ 43.3125 49.21875 43.3125 52.78125 \nQ 43.3125 58.59375 39.234375 62.25 \nQ 35.15625 65.921875 28.609375 65.921875 \nQ 23.96875 65.921875 18.8125 64.3125 \nQ 13.671875 62.703125 7.8125 59.421875 \nL 7.8125 69.390625 \nQ 13.765625 71.78125 18.9375 73 \nQ 24.125 74.21875 28.421875 74.21875 \nQ 39.75 74.21875 46.484375 68.546875 \nQ 53.21875 62.890625 53.21875 53.421875 \nQ 53.21875 48.921875 51.53125 44.890625 \nQ 49.859375 40.875 45.40625 35.40625 \nQ 44.1875 33.984375 37.640625 27.21875 \nQ 31.109375 20.453125 19.1875 8.296875 \nz\n\" id=\"DejaVuSans-50\"/>\n      </defs>\n      <g transform=\"translate(65.698375 209.647656)scale(0.1 -0.1)\">\n       <use xlink:href=\"#DejaVuSans-50\"/>\n       <use x=\"63.623047\" xlink:href=\"#DejaVuSans-48\"/>\n       <use x=\"127.246094\" xlink:href=\"#DejaVuSans-48\"/>\n      </g>\n     </g>\n    </g>\n    <g id=\"xtick_3\">\n     <g id=\"line2d_3\">\n      <g>\n       <use style=\"stroke:#000000;stroke-width:0.8;\" x=\"117.092125\" xlink:href=\"#m3845a87588\" y=\"195.049219\"/>\n      </g>\n     </g>\n     <g id=\"text_3\">\n      <!-- 400 -->\n      <defs>\n       <path d=\"M 37.796875 64.3125 \nL 12.890625 25.390625 \nL 37.796875 25.390625 \nz\nM 35.203125 72.90625 \nL 47.609375 72.90625 \nL 47.609375 25.390625 \nL 58.015625 25.390625 \nL 58.015625 17.1875 \nL 47.609375 17.1875 \nL 47.609375 0 \nL 37.796875 0 \nL 37.796875 17.1875 \nL 4.890625 17.1875 \nL 4.890625 26.703125 \nz\n\" id=\"DejaVuSans-52\"/>\n      </defs>\n      <g transform=\"translate(107.548375 209.647656)scale(0.1 -0.1)\">\n       <use xlink:href=\"#DejaVuSans-52\"/>\n       <use x=\"63.623047\" xlink:href=\"#DejaVuSans-48\"/>\n       <use x=\"127.246094\" xlink:href=\"#DejaVuSans-48\"/>\n      </g>\n     </g>\n    </g>\n    <g id=\"xtick_4\">\n     <g id=\"line2d_4\">\n      <g>\n       <use style=\"stroke:#000000;stroke-width:0.8;\" x=\"158.942125\" xlink:href=\"#m3845a87588\" y=\"195.049219\"/>\n      </g>\n     </g>\n     <g id=\"text_4\">\n      <!-- 600 -->\n      <defs>\n       <path d=\"M 33.015625 40.375 \nQ 26.375 40.375 22.484375 35.828125 \nQ 18.609375 31.296875 18.609375 23.390625 \nQ 18.609375 15.53125 22.484375 10.953125 \nQ 26.375 6.390625 33.015625 6.390625 \nQ 39.65625 6.390625 43.53125 10.953125 \nQ 47.40625 15.53125 47.40625 23.390625 \nQ 47.40625 31.296875 43.53125 35.828125 \nQ 39.65625 40.375 33.015625 40.375 \nz\nM 52.59375 71.296875 \nL 52.59375 62.3125 \nQ 48.875 64.0625 45.09375 64.984375 \nQ 41.3125 65.921875 37.59375 65.921875 \nQ 27.828125 65.921875 22.671875 59.328125 \nQ 17.53125 52.734375 16.796875 39.40625 \nQ 19.671875 43.65625 24.015625 45.921875 \nQ 28.375 48.1875 33.59375 48.1875 \nQ 44.578125 48.1875 50.953125 41.515625 \nQ 57.328125 34.859375 57.328125 23.390625 \nQ 57.328125 12.15625 50.6875 5.359375 \nQ 44.046875 -1.421875 33.015625 -1.421875 \nQ 20.359375 -1.421875 13.671875 8.265625 \nQ 6.984375 17.96875 6.984375 36.375 \nQ 6.984375 53.65625 15.1875 63.9375 \nQ 23.390625 74.21875 37.203125 74.21875 \nQ 40.921875 74.21875 44.703125 73.484375 \nQ 48.484375 72.75 52.59375 71.296875 \nz\n\" id=\"DejaVuSans-54\"/>\n      </defs>\n      <g transform=\"translate(149.398375 209.647656)scale(0.1 -0.1)\">\n       <use xlink:href=\"#DejaVuSans-54\"/>\n       <use x=\"63.623047\" xlink:href=\"#DejaVuSans-48\"/>\n       <use x=\"127.246094\" xlink:href=\"#DejaVuSans-48\"/>\n      </g>\n     </g>\n    </g>\n    <g id=\"xtick_5\">\n     <g id=\"line2d_5\">\n      <g>\n       <use style=\"stroke:#000000;stroke-width:0.8;\" x=\"200.792125\" xlink:href=\"#m3845a87588\" y=\"195.049219\"/>\n      </g>\n     </g>\n     <g id=\"text_5\">\n      <!-- 800 -->\n      <defs>\n       <path d=\"M 31.78125 34.625 \nQ 24.75 34.625 20.71875 30.859375 \nQ 16.703125 27.09375 16.703125 20.515625 \nQ 16.703125 13.921875 20.71875 10.15625 \nQ 24.75 6.390625 31.78125 6.390625 \nQ 38.8125 6.390625 42.859375 10.171875 \nQ 46.921875 13.96875 46.921875 20.515625 \nQ 46.921875 27.09375 42.890625 30.859375 \nQ 38.875 34.625 31.78125 34.625 \nz\nM 21.921875 38.8125 \nQ 15.578125 40.375 12.03125 44.71875 \nQ 8.5 49.078125 8.5 55.328125 \nQ 8.5 64.0625 14.71875 69.140625 \nQ 20.953125 74.21875 31.78125 74.21875 \nQ 42.671875 74.21875 48.875 69.140625 \nQ 55.078125 64.0625 55.078125 55.328125 \nQ 55.078125 49.078125 51.53125 44.71875 \nQ 48 40.375 41.703125 38.8125 \nQ 48.828125 37.15625 52.796875 32.3125 \nQ 56.78125 27.484375 56.78125 20.515625 \nQ 56.78125 9.90625 50.3125 4.234375 \nQ 43.84375 -1.421875 31.78125 -1.421875 \nQ 19.734375 -1.421875 13.25 4.234375 \nQ 6.78125 9.90625 6.78125 20.515625 \nQ 6.78125 27.484375 10.78125 32.3125 \nQ 14.796875 37.15625 21.921875 38.8125 \nz\nM 18.3125 54.390625 \nQ 18.3125 48.734375 21.84375 45.5625 \nQ 25.390625 42.390625 31.78125 42.390625 \nQ 38.140625 42.390625 41.71875 45.5625 \nQ 45.3125 48.734375 45.3125 54.390625 \nQ 45.3125 60.0625 41.71875 63.234375 \nQ 38.140625 66.40625 31.78125 66.40625 \nQ 25.390625 66.40625 21.84375 63.234375 \nQ 18.3125 60.0625 18.3125 54.390625 \nz\n\" id=\"DejaVuSans-56\"/>\n      </defs>\n      <g transform=\"translate(191.248375 209.647656)scale(0.1 -0.1)\">\n       <use xlink:href=\"#DejaVuSans-56\"/>\n       <use x=\"63.623047\" xlink:href=\"#DejaVuSans-48\"/>\n       <use x=\"127.246094\" xlink:href=\"#DejaVuSans-48\"/>\n      </g>\n     </g>\n    </g>\n    <g id=\"xtick_6\">\n     <g id=\"line2d_6\">\n      <g>\n       <use style=\"stroke:#000000;stroke-width:0.8;\" x=\"242.642125\" xlink:href=\"#m3845a87588\" y=\"195.049219\"/>\n      </g>\n     </g>\n     <g id=\"text_6\">\n      <!-- 1000 -->\n      <defs>\n       <path d=\"M 12.40625 8.296875 \nL 28.515625 8.296875 \nL 28.515625 63.921875 \nL 10.984375 60.40625 \nL 10.984375 69.390625 \nL 28.421875 72.90625 \nL 38.28125 72.90625 \nL 38.28125 8.296875 \nL 54.390625 8.296875 \nL 54.390625 0 \nL 12.40625 0 \nz\n\" id=\"DejaVuSans-49\"/>\n      </defs>\n      <g transform=\"translate(229.917125 209.647656)scale(0.1 -0.1)\">\n       <use xlink:href=\"#DejaVuSans-49\"/>\n       <use x=\"63.623047\" xlink:href=\"#DejaVuSans-48\"/>\n       <use x=\"127.246094\" xlink:href=\"#DejaVuSans-48\"/>\n       <use x=\"190.869141\" xlink:href=\"#DejaVuSans-48\"/>\n      </g>\n     </g>\n    </g>\n    <g id=\"xtick_7\">\n     <g id=\"line2d_7\">\n      <g>\n       <use style=\"stroke:#000000;stroke-width:0.8;\" x=\"284.492125\" xlink:href=\"#m3845a87588\" y=\"195.049219\"/>\n      </g>\n     </g>\n     <g id=\"text_7\">\n      <!-- 1200 -->\n      <g transform=\"translate(271.767125 209.647656)scale(0.1 -0.1)\">\n       <use xlink:href=\"#DejaVuSans-49\"/>\n       <use x=\"63.623047\" xlink:href=\"#DejaVuSans-50\"/>\n       <use x=\"127.246094\" xlink:href=\"#DejaVuSans-48\"/>\n       <use x=\"190.869141\" xlink:href=\"#DejaVuSans-48\"/>\n      </g>\n     </g>\n    </g>\n   </g>\n   <g id=\"matplotlib.axis_2\">\n    <g id=\"ytick_1\">\n     <g id=\"line2d_8\">\n      <defs>\n       <path d=\"M 0 0 \nL -3.5 0 \n\" id=\"ma5809e7251\" style=\"stroke:#000000;stroke-width:0.8;\"/>\n      </defs>\n      <g>\n       <use style=\"stroke:#000000;stroke-width:0.8;\" x=\"33.2875\" xlink:href=\"#ma5809e7251\" y=\"44.493844\"/>\n      </g>\n     </g>\n     <g id=\"text_8\">\n      <!-- 0 -->\n      <g transform=\"translate(19.925 48.293062)scale(0.1 -0.1)\">\n       <use xlink:href=\"#DejaVuSans-48\"/>\n      </g>\n     </g>\n    </g>\n    <g id=\"ytick_2\">\n     <g id=\"line2d_9\">\n      <g>\n       <use style=\"stroke:#000000;stroke-width:0.8;\" x=\"33.2875\" xlink:href=\"#ma5809e7251\" y=\"86.343844\"/>\n      </g>\n     </g>\n     <g id=\"text_9\">\n      <!-- 200 -->\n      <g transform=\"translate(7.2 90.143062)scale(0.1 -0.1)\">\n       <use xlink:href=\"#DejaVuSans-50\"/>\n       <use x=\"63.623047\" xlink:href=\"#DejaVuSans-48\"/>\n       <use x=\"127.246094\" xlink:href=\"#DejaVuSans-48\"/>\n      </g>\n     </g>\n    </g>\n    <g id=\"ytick_3\">\n     <g id=\"line2d_10\">\n      <g>\n       <use style=\"stroke:#000000;stroke-width:0.8;\" x=\"33.2875\" xlink:href=\"#ma5809e7251\" y=\"128.193844\"/>\n      </g>\n     </g>\n     <g id=\"text_10\">\n      <!-- 400 -->\n      <g transform=\"translate(7.2 131.993063)scale(0.1 -0.1)\">\n       <use xlink:href=\"#DejaVuSans-52\"/>\n       <use x=\"63.623047\" xlink:href=\"#DejaVuSans-48\"/>\n       <use x=\"127.246094\" xlink:href=\"#DejaVuSans-48\"/>\n      </g>\n     </g>\n    </g>\n    <g id=\"ytick_4\">\n     <g id=\"line2d_11\">\n      <g>\n       <use style=\"stroke:#000000;stroke-width:0.8;\" x=\"33.2875\" xlink:href=\"#ma5809e7251\" y=\"170.043844\"/>\n      </g>\n     </g>\n     <g id=\"text_11\">\n      <!-- 600 -->\n      <g transform=\"translate(7.2 173.843063)scale(0.1 -0.1)\">\n       <use xlink:href=\"#DejaVuSans-54\"/>\n       <use x=\"63.623047\" xlink:href=\"#DejaVuSans-48\"/>\n       <use x=\"127.246094\" xlink:href=\"#DejaVuSans-48\"/>\n      </g>\n     </g>\n    </g>\n   </g>\n   <g id=\"patch_3\">\n    <path d=\"M 33.2875 195.049219 \nL 33.2875 44.389219 \n\" style=\"fill:none;stroke:#000000;stroke-linecap:square;stroke-linejoin:miter;stroke-width:0.8;\"/>\n   </g>\n   <g id=\"patch_4\">\n    <path d=\"M 301.1275 195.049219 \nL 301.1275 44.389219 \n\" style=\"fill:none;stroke:#000000;stroke-linecap:square;stroke-linejoin:miter;stroke-width:0.8;\"/>\n   </g>\n   <g id=\"patch_5\">\n    <path d=\"M 33.2875 195.049219 \nL 301.1275 195.049219 \n\" style=\"fill:none;stroke:#000000;stroke-linecap:square;stroke-linejoin:miter;stroke-width:0.8;\"/>\n   </g>\n   <g id=\"patch_6\">\n    <path d=\"M 33.2875 44.389219 \nL 301.1275 44.389219 \n\" style=\"fill:none;stroke:#000000;stroke-linecap:square;stroke-linejoin:miter;stroke-width:0.8;\"/>\n   </g>\n  </g>\n  <g id=\"axes_2\">\n   <g id=\"patch_7\">\n    <path clip-path=\"url(#pc1f66758ec)\" d=\"M 317.8675 228.439219 \nL 317.8675 227.589844 \nL 317.8675 11.848594 \nL 317.8675 10.999219 \nL 328.7395 10.999219 \nL 328.7395 11.848594 \nL 328.7395 227.589844 \nL 328.7395 228.439219 \nz\n\" style=\"fill:#ffffff;stroke:#ffffff;stroke-linejoin:miter;stroke-width:0.01;\"/>\n   </g>\n   <image height=\"218\" id=\"image8c9b33205b\" transform=\"scale(1 -1)translate(0 -218)\" width=\"11\" x=\"318\" xlink:href=\"data:image/png;base64,\niVBORw0KGgoAAAANSUhEUgAAAAsAAADaCAYAAABwzrisAAAABHNCSVQICAgIfAhkiAAAAVZJREFUaIHtmkGOwkAMBMf2ZF/GG/j/Q4Bw3pvrUJJHgrPValf3BEgSj3zeq/nZkdGdXXtF9oc95UWUo4rYIJ6TeGbKMxYcQgMNl2fDquiJNG7Wjfas2bopnj3OpSn3Z+mCGuebnUFgwysSUhbRsbjJMAkF2TiRBlxQ6zNDR5RnXDeGJHhkN7xLgVbRIaFModGfVT3PoDHE84nlH4Lut+A/5eyf7zPRsdMt0QAm5sTtJYg4w2udpQx+XZoLepxD82wqk+H8WMoz0KUWN6Jh2gDDRS4FjPM6D12R8iMbkIbV5z1jQabs0QiNhqescb7yrdmwaBSxscmCxULxFrSUr0A0kA0wjBJEymzBGQkyzgTdFS9iw6so6gZCp9FAC5JQUNzopMAFre8UlqBm449VtD1LPfeF1wbPmdcu8H9pX+QZUBJlZIMpE897gdd1irxzkuAmFbqd9QUoCIBqMoUuSwAAAABJRU5ErkJggg==\" y=\"-10\"/>\n   <g id=\"matplotlib.axis_3\"/>\n   <g id=\"matplotlib.axis_4\">\n    <g id=\"ytick_5\">\n     <g id=\"line2d_12\">\n      <defs>\n       <path d=\"M 0 0 \nL 3.5 0 \n\" id=\"mf760328349\" style=\"stroke:#000000;stroke-width:0.8;\"/>\n      </defs>\n      <g>\n       <use style=\"stroke:#000000;stroke-width:0.8;\" x=\"328.7395\" xlink:href=\"#mf760328349\" y=\"228.439219\"/>\n      </g>\n     </g>\n     <g id=\"text_12\">\n      <!-- 0 -->\n      <g transform=\"translate(335.7395 232.238437)scale(0.1 -0.1)\">\n       <use xlink:href=\"#DejaVuSans-48\"/>\n      </g>\n     </g>\n    </g>\n    <g id=\"ytick_6\">\n     <g id=\"line2d_13\">\n      <g>\n       <use style=\"stroke:#000000;stroke-width:0.8;\" x=\"328.7395\" xlink:href=\"#mf760328349\" y=\"197.376362\"/>\n      </g>\n     </g>\n     <g id=\"text_13\">\n      <!-- 5 -->\n      <defs>\n       <path d=\"M 10.796875 72.90625 \nL 49.515625 72.90625 \nL 49.515625 64.59375 \nL 19.828125 64.59375 \nL 19.828125 46.734375 \nQ 21.96875 47.46875 24.109375 47.828125 \nQ 26.265625 48.1875 28.421875 48.1875 \nQ 40.625 48.1875 47.75 41.5 \nQ 54.890625 34.8125 54.890625 23.390625 \nQ 54.890625 11.625 47.5625 5.09375 \nQ 40.234375 -1.421875 26.90625 -1.421875 \nQ 22.3125 -1.421875 17.546875 -0.640625 \nQ 12.796875 0.140625 7.71875 1.703125 \nL 7.71875 11.625 \nQ 12.109375 9.234375 16.796875 8.0625 \nQ 21.484375 6.890625 26.703125 6.890625 \nQ 35.15625 6.890625 40.078125 11.328125 \nQ 45.015625 15.765625 45.015625 23.390625 \nQ 45.015625 31 40.078125 35.4375 \nQ 35.15625 39.890625 26.703125 39.890625 \nQ 22.75 39.890625 18.8125 39.015625 \nQ 14.890625 38.140625 10.796875 36.28125 \nz\n\" id=\"DejaVuSans-53\"/>\n      </defs>\n      <g transform=\"translate(335.7395 201.17558)scale(0.1 -0.1)\">\n       <use xlink:href=\"#DejaVuSans-53\"/>\n      </g>\n     </g>\n    </g>\n    <g id=\"ytick_7\">\n     <g id=\"line2d_14\">\n      <g>\n       <use style=\"stroke:#000000;stroke-width:0.8;\" x=\"328.7395\" xlink:href=\"#mf760328349\" y=\"166.313504\"/>\n      </g>\n     </g>\n     <g id=\"text_14\">\n      <!-- 10 -->\n      <g transform=\"translate(335.7395 170.112723)scale(0.1 -0.1)\">\n       <use xlink:href=\"#DejaVuSans-49\"/>\n       <use x=\"63.623047\" xlink:href=\"#DejaVuSans-48\"/>\n      </g>\n     </g>\n    </g>\n    <g id=\"ytick_8\">\n     <g id=\"line2d_15\">\n      <g>\n       <use style=\"stroke:#000000;stroke-width:0.8;\" x=\"328.7395\" xlink:href=\"#mf760328349\" y=\"135.250647\"/>\n      </g>\n     </g>\n     <g id=\"text_15\">\n      <!-- 15 -->\n      <g transform=\"translate(335.7395 139.049866)scale(0.1 -0.1)\">\n       <use xlink:href=\"#DejaVuSans-49\"/>\n       <use x=\"63.623047\" xlink:href=\"#DejaVuSans-53\"/>\n      </g>\n     </g>\n    </g>\n    <g id=\"ytick_9\">\n     <g id=\"line2d_16\">\n      <g>\n       <use style=\"stroke:#000000;stroke-width:0.8;\" x=\"328.7395\" xlink:href=\"#mf760328349\" y=\"104.18779\"/>\n      </g>\n     </g>\n     <g id=\"text_16\">\n      <!-- 20 -->\n      <g transform=\"translate(335.7395 107.987009)scale(0.1 -0.1)\">\n       <use xlink:href=\"#DejaVuSans-50\"/>\n       <use x=\"63.623047\" xlink:href=\"#DejaVuSans-48\"/>\n      </g>\n     </g>\n    </g>\n    <g id=\"ytick_10\">\n     <g id=\"line2d_17\">\n      <g>\n       <use style=\"stroke:#000000;stroke-width:0.8;\" x=\"328.7395\" xlink:href=\"#mf760328349\" y=\"73.124933\"/>\n      </g>\n     </g>\n     <g id=\"text_17\">\n      <!-- 25 -->\n      <g transform=\"translate(335.7395 76.924152)scale(0.1 -0.1)\">\n       <use xlink:href=\"#DejaVuSans-50\"/>\n       <use x=\"63.623047\" xlink:href=\"#DejaVuSans-53\"/>\n      </g>\n     </g>\n    </g>\n    <g id=\"ytick_11\">\n     <g id=\"line2d_18\">\n      <g>\n       <use style=\"stroke:#000000;stroke-width:0.8;\" x=\"328.7395\" xlink:href=\"#mf760328349\" y=\"42.062076\"/>\n      </g>\n     </g>\n     <g id=\"text_18\">\n      <!-- 30 -->\n      <defs>\n       <path d=\"M 40.578125 39.3125 \nQ 47.65625 37.796875 51.625 33 \nQ 55.609375 28.21875 55.609375 21.1875 \nQ 55.609375 10.40625 48.1875 4.484375 \nQ 40.765625 -1.421875 27.09375 -1.421875 \nQ 22.515625 -1.421875 17.65625 -0.515625 \nQ 12.796875 0.390625 7.625 2.203125 \nL 7.625 11.71875 \nQ 11.71875 9.328125 16.59375 8.109375 \nQ 21.484375 6.890625 26.8125 6.890625 \nQ 36.078125 6.890625 40.9375 10.546875 \nQ 45.796875 14.203125 45.796875 21.1875 \nQ 45.796875 27.640625 41.28125 31.265625 \nQ 36.765625 34.90625 28.71875 34.90625 \nL 20.21875 34.90625 \nL 20.21875 43.015625 \nL 29.109375 43.015625 \nQ 36.375 43.015625 40.234375 45.921875 \nQ 44.09375 48.828125 44.09375 54.296875 \nQ 44.09375 59.90625 40.109375 62.90625 \nQ 36.140625 65.921875 28.71875 65.921875 \nQ 24.65625 65.921875 20.015625 65.03125 \nQ 15.375 64.15625 9.8125 62.3125 \nL 9.8125 71.09375 \nQ 15.4375 72.65625 20.34375 73.4375 \nQ 25.25 74.21875 29.59375 74.21875 \nQ 40.828125 74.21875 47.359375 69.109375 \nQ 53.90625 64.015625 53.90625 55.328125 \nQ 53.90625 49.265625 50.4375 45.09375 \nQ 46.96875 40.921875 40.578125 39.3125 \nz\n\" id=\"DejaVuSans-51\"/>\n      </defs>\n      <g transform=\"translate(335.7395 45.861295)scale(0.1 -0.1)\">\n       <use xlink:href=\"#DejaVuSans-51\"/>\n       <use x=\"63.623047\" xlink:href=\"#DejaVuSans-48\"/>\n      </g>\n     </g>\n    </g>\n    <g id=\"ytick_12\">\n     <g id=\"line2d_19\">\n      <g>\n       <use style=\"stroke:#000000;stroke-width:0.8;\" x=\"328.7395\" xlink:href=\"#mf760328349\" y=\"10.999219\"/>\n      </g>\n     </g>\n     <g id=\"text_19\">\n      <!-- 35 -->\n      <g transform=\"translate(335.7395 14.798437)scale(0.1 -0.1)\">\n       <use xlink:href=\"#DejaVuSans-51\"/>\n       <use x=\"63.623047\" xlink:href=\"#DejaVuSans-53\"/>\n      </g>\n     </g>\n    </g>\n   </g>\n   <g id=\"patch_8\">\n    <path d=\"M 317.8675 228.439219 \nL 317.8675 227.589844 \nL 317.8675 11.848594 \nL 317.8675 10.999219 \nL 328.7395 10.999219 \nL 328.7395 11.848594 \nL 328.7395 227.589844 \nL 328.7395 228.439219 \nz\n\" style=\"fill:none;stroke:#000000;stroke-linejoin:miter;stroke-width:0.8;\"/>\n   </g>\n  </g>\n </g>\n <defs>\n  <clipPath id=\"p87a69941eb\">\n   <rect height=\"150.66\" width=\"267.84\" x=\"33.2875\" y=\"44.389219\"/>\n  </clipPath>\n  <clipPath id=\"pc1f66758ec\">\n   <rect height=\"217.44\" width=\"10.872\" x=\"317.8675\" y=\"10.999219\"/>\n  </clipPath>\n </defs>\n</svg>\n",
      "image/png": "[encoded data removed]"
     },
     "metadata": {
      "needs_background": "light"
     }
    }
   ],
   "source": [
    "plt.imshow(panoptic_seg[10])\n",
    "plt.colorbar()"
   ]
  },
  {
   "cell_type": "code",
   "execution_count": 229,
   "metadata": {},
   "outputs": [
    {
     "output_type": "execute_result",
     "data": {
      "text/plain": "<matplotlib.image.AxesImage at 0x187a09470>"
     },
     "metadata": {},
     "execution_count": 229
    },
    {
     "output_type": "display_data",
     "data": {
      "text/plain": "<Figure size 432x288 with 1 Axes>",
      "image/svg+xml": "<?xml version=\"1.0\" encoding=\"utf-8\" standalone=\"no\"?>\n<!DOCTYPE svg PUBLIC \"-//W3C//DTD SVG 1.1//EN\"\n  \"http://www.w3.org/Graphics/SVG/1.1/DTD/svg11.dtd\">\n<!-- Created with matplotlib (https://matplotlib.org/) -->\n<svg height=\"223.071563pt\" version=\"1.1\" viewBox=\"0 0 375.2875 223.071563\" width=\"375.2875pt\" xmlns=\"http://www.w3.org/2000/svg\" xmlns:xlink=\"http://www.w3.org/1999/xlink\">\n <defs>\n  <style type=\"text/css\">\n*{stroke-linecap:butt;stroke-linejoin:round;}\n  </style>\n </defs>\n <g id=\"figure_1\">\n  <g id=\"patch_1\">\n   <path d=\"M 0 223.071563 \nL 375.2875 223.071563 \nL 375.2875 0 \nL 0 0 \nz\n\" style=\"fill:none;\"/>\n  </g>\n  <g id=\"axes_1\">\n   <g id=\"patch_2\">\n    <path d=\"M 33.2875 199.193438 \nL 368.0875 199.193438 \nL 368.0875 10.868437 \nL 33.2875 10.868437 \nz\n\" style=\"fill:#ffffff;\"/>\n   </g>\n   <g clip-path=\"url(#pf402584292)\">\n    <image height=\"189\" id=\"image5b35926910\" transform=\"scale(1 -1)translate(0 -189)\" width=\"335\" x=\"33.2875\" xlink:href=\"data:image/png;base64,\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\" y=\"-10.193438\"/>\n   </g>\n   <g id=\"matplotlib.axis_1\">\n    <g id=\"xtick_1\">\n     <g id=\"line2d_1\">\n      <defs>\n       <path d=\"M 0 0 \nL 0 3.5 \n\" id=\"mac1071e540\" style=\"stroke:#000000;stroke-width:0.8;\"/>\n      </defs>\n      <g>\n       <use style=\"stroke:#000000;stroke-width:0.8;\" x=\"33.418281\" xlink:href=\"#mac1071e540\" y=\"199.193438\"/>\n      </g>\n     </g>\n     <g id=\"text_1\">\n      <!-- 0 -->\n      <defs>\n       <path d=\"M 31.78125 66.40625 \nQ 24.171875 66.40625 20.328125 58.90625 \nQ 16.5 51.421875 16.5 36.375 \nQ 16.5 21.390625 20.328125 13.890625 \nQ 24.171875 6.390625 31.78125 6.390625 \nQ 39.453125 6.390625 43.28125 13.890625 \nQ 47.125 21.390625 47.125 36.375 \nQ 47.125 51.421875 43.28125 58.90625 \nQ 39.453125 66.40625 31.78125 66.40625 \nz\nM 31.78125 74.21875 \nQ 44.046875 74.21875 50.515625 64.515625 \nQ 56.984375 54.828125 56.984375 36.375 \nQ 56.984375 17.96875 50.515625 8.265625 \nQ 44.046875 -1.421875 31.78125 -1.421875 \nQ 19.53125 -1.421875 13.0625 8.265625 \nQ 6.59375 17.96875 6.59375 36.375 \nQ 6.59375 54.828125 13.0625 64.515625 \nQ 19.53125 74.21875 31.78125 74.21875 \nz\n\" id=\"DejaVuSans-48\"/>\n      </defs>\n      <g transform=\"translate(30.237031 213.791875)scale(0.1 -0.1)\">\n       <use xlink:href=\"#DejaVuSans-48\"/>\n      </g>\n     </g>\n    </g>\n    <g id=\"xtick_2\">\n     <g id=\"line2d_2\">\n      <g>\n       <use style=\"stroke:#000000;stroke-width:0.8;\" x=\"85.730781\" xlink:href=\"#mac1071e540\" y=\"199.193438\"/>\n      </g>\n     </g>\n     <g id=\"text_2\">\n      <!-- 200 -->\n      <defs>\n       <path d=\"M 19.1875 8.296875 \nL 53.609375 8.296875 \nL 53.609375 0 \nL 7.328125 0 \nL 7.328125 8.296875 \nQ 12.9375 14.109375 22.625 23.890625 \nQ 32.328125 33.6875 34.8125 36.53125 \nQ 39.546875 41.84375 41.421875 45.53125 \nQ 43.3125 49.21875 43.3125 52.78125 \nQ 43.3125 58.59375 39.234375 62.25 \nQ 35.15625 65.921875 28.609375 65.921875 \nQ 23.96875 65.921875 18.8125 64.3125 \nQ 13.671875 62.703125 7.8125 59.421875 \nL 7.8125 69.390625 \nQ 13.765625 71.78125 18.9375 73 \nQ 24.125 74.21875 28.421875 74.21875 \nQ 39.75 74.21875 46.484375 68.546875 \nQ 53.21875 62.890625 53.21875 53.421875 \nQ 53.21875 48.921875 51.53125 44.890625 \nQ 49.859375 40.875 45.40625 35.40625 \nQ 44.1875 33.984375 37.640625 27.21875 \nQ 31.109375 20.453125 19.1875 8.296875 \nz\n\" id=\"DejaVuSans-50\"/>\n      </defs>\n      <g transform=\"translate(76.187031 213.791875)scale(0.1 -0.1)\">\n       <use xlink:href=\"#DejaVuSans-50\"/>\n       <use x=\"63.623047\" xlink:href=\"#DejaVuSans-48\"/>\n       <use x=\"127.246094\" xlink:href=\"#DejaVuSans-48\"/>\n      </g>\n     </g>\n    </g>\n    <g id=\"xtick_3\">\n     <g id=\"line2d_3\">\n      <g>\n       <use style=\"stroke:#000000;stroke-width:0.8;\" x=\"138.043281\" xlink:href=\"#mac1071e540\" y=\"199.193438\"/>\n      </g>\n     </g>\n     <g id=\"text_3\">\n      <!-- 400 -->\n      <defs>\n       <path d=\"M 37.796875 64.3125 \nL 12.890625 25.390625 \nL 37.796875 25.390625 \nz\nM 35.203125 72.90625 \nL 47.609375 72.90625 \nL 47.609375 25.390625 \nL 58.015625 25.390625 \nL 58.015625 17.1875 \nL 47.609375 17.1875 \nL 47.609375 0 \nL 37.796875 0 \nL 37.796875 17.1875 \nL 4.890625 17.1875 \nL 4.890625 26.703125 \nz\n\" id=\"DejaVuSans-52\"/>\n      </defs>\n      <g transform=\"translate(128.499531 213.791875)scale(0.1 -0.1)\">\n       <use xlink:href=\"#DejaVuSans-52\"/>\n       <use x=\"63.623047\" xlink:href=\"#DejaVuSans-48\"/>\n       <use x=\"127.246094\" xlink:href=\"#DejaVuSans-48\"/>\n      </g>\n     </g>\n    </g>\n    <g id=\"xtick_4\">\n     <g id=\"line2d_4\">\n      <g>\n       <use style=\"stroke:#000000;stroke-width:0.8;\" x=\"190.355781\" xlink:href=\"#mac1071e540\" y=\"199.193438\"/>\n      </g>\n     </g>\n     <g id=\"text_4\">\n      <!-- 600 -->\n      <defs>\n       <path d=\"M 33.015625 40.375 \nQ 26.375 40.375 22.484375 35.828125 \nQ 18.609375 31.296875 18.609375 23.390625 \nQ 18.609375 15.53125 22.484375 10.953125 \nQ 26.375 6.390625 33.015625 6.390625 \nQ 39.65625 6.390625 43.53125 10.953125 \nQ 47.40625 15.53125 47.40625 23.390625 \nQ 47.40625 31.296875 43.53125 35.828125 \nQ 39.65625 40.375 33.015625 40.375 \nz\nM 52.59375 71.296875 \nL 52.59375 62.3125 \nQ 48.875 64.0625 45.09375 64.984375 \nQ 41.3125 65.921875 37.59375 65.921875 \nQ 27.828125 65.921875 22.671875 59.328125 \nQ 17.53125 52.734375 16.796875 39.40625 \nQ 19.671875 43.65625 24.015625 45.921875 \nQ 28.375 48.1875 33.59375 48.1875 \nQ 44.578125 48.1875 50.953125 41.515625 \nQ 57.328125 34.859375 57.328125 23.390625 \nQ 57.328125 12.15625 50.6875 5.359375 \nQ 44.046875 -1.421875 33.015625 -1.421875 \nQ 20.359375 -1.421875 13.671875 8.265625 \nQ 6.984375 17.96875 6.984375 36.375 \nQ 6.984375 53.65625 15.1875 63.9375 \nQ 23.390625 74.21875 37.203125 74.21875 \nQ 40.921875 74.21875 44.703125 73.484375 \nQ 48.484375 72.75 52.59375 71.296875 \nz\n\" id=\"DejaVuSans-54\"/>\n      </defs>\n      <g transform=\"translate(180.812031 213.791875)scale(0.1 -0.1)\">\n       <use xlink:href=\"#DejaVuSans-54\"/>\n       <use x=\"63.623047\" xlink:href=\"#DejaVuSans-48\"/>\n       <use x=\"127.246094\" xlink:href=\"#DejaVuSans-48\"/>\n      </g>\n     </g>\n    </g>\n    <g id=\"xtick_5\">\n     <g id=\"line2d_5\">\n      <g>\n       <use style=\"stroke:#000000;stroke-width:0.8;\" x=\"242.668281\" xlink:href=\"#mac1071e540\" y=\"199.193438\"/>\n      </g>\n     </g>\n     <g id=\"text_5\">\n      <!-- 800 -->\n      <defs>\n       <path d=\"M 31.78125 34.625 \nQ 24.75 34.625 20.71875 30.859375 \nQ 16.703125 27.09375 16.703125 20.515625 \nQ 16.703125 13.921875 20.71875 10.15625 \nQ 24.75 6.390625 31.78125 6.390625 \nQ 38.8125 6.390625 42.859375 10.171875 \nQ 46.921875 13.96875 46.921875 20.515625 \nQ 46.921875 27.09375 42.890625 30.859375 \nQ 38.875 34.625 31.78125 34.625 \nz\nM 21.921875 38.8125 \nQ 15.578125 40.375 12.03125 44.71875 \nQ 8.5 49.078125 8.5 55.328125 \nQ 8.5 64.0625 14.71875 69.140625 \nQ 20.953125 74.21875 31.78125 74.21875 \nQ 42.671875 74.21875 48.875 69.140625 \nQ 55.078125 64.0625 55.078125 55.328125 \nQ 55.078125 49.078125 51.53125 44.71875 \nQ 48 40.375 41.703125 38.8125 \nQ 48.828125 37.15625 52.796875 32.3125 \nQ 56.78125 27.484375 56.78125 20.515625 \nQ 56.78125 9.90625 50.3125 4.234375 \nQ 43.84375 -1.421875 31.78125 -1.421875 \nQ 19.734375 -1.421875 13.25 4.234375 \nQ 6.78125 9.90625 6.78125 20.515625 \nQ 6.78125 27.484375 10.78125 32.3125 \nQ 14.796875 37.15625 21.921875 38.8125 \nz\nM 18.3125 54.390625 \nQ 18.3125 48.734375 21.84375 45.5625 \nQ 25.390625 42.390625 31.78125 42.390625 \nQ 38.140625 42.390625 41.71875 45.5625 \nQ 45.3125 48.734375 45.3125 54.390625 \nQ 45.3125 60.0625 41.71875 63.234375 \nQ 38.140625 66.40625 31.78125 66.40625 \nQ 25.390625 66.40625 21.84375 63.234375 \nQ 18.3125 60.0625 18.3125 54.390625 \nz\n\" id=\"DejaVuSans-56\"/>\n      </defs>\n      <g transform=\"translate(233.124531 213.791875)scale(0.1 -0.1)\">\n       <use xlink:href=\"#DejaVuSans-56\"/>\n       <use x=\"63.623047\" xlink:href=\"#DejaVuSans-48\"/>\n       <use x=\"127.246094\" xlink:href=\"#DejaVuSans-48\"/>\n      </g>\n     </g>\n    </g>\n    <g id=\"xtick_6\">\n     <g id=\"line2d_6\">\n      <g>\n       <use style=\"stroke:#000000;stroke-width:0.8;\" x=\"294.980781\" xlink:href=\"#mac1071e540\" y=\"199.193438\"/>\n      </g>\n     </g>\n     <g id=\"text_6\">\n      <!-- 1000 -->\n      <defs>\n       <path d=\"M 12.40625 8.296875 \nL 28.515625 8.296875 \nL 28.515625 63.921875 \nL 10.984375 60.40625 \nL 10.984375 69.390625 \nL 28.421875 72.90625 \nL 38.28125 72.90625 \nL 38.28125 8.296875 \nL 54.390625 8.296875 \nL 54.390625 0 \nL 12.40625 0 \nz\n\" id=\"DejaVuSans-49\"/>\n      </defs>\n      <g transform=\"translate(282.255781 213.791875)scale(0.1 -0.1)\">\n       <use xlink:href=\"#DejaVuSans-49\"/>\n       <use x=\"63.623047\" xlink:href=\"#DejaVuSans-48\"/>\n       <use x=\"127.246094\" xlink:href=\"#DejaVuSans-48\"/>\n       <use x=\"190.869141\" xlink:href=\"#DejaVuSans-48\"/>\n      </g>\n     </g>\n    </g>\n    <g id=\"xtick_7\">\n     <g id=\"line2d_7\">\n      <g>\n       <use style=\"stroke:#000000;stroke-width:0.8;\" x=\"347.293281\" xlink:href=\"#mac1071e540\" y=\"199.193438\"/>\n      </g>\n     </g>\n     <g id=\"text_7\">\n      <!-- 1200 -->\n      <g transform=\"translate(334.568281 213.791875)scale(0.1 -0.1)\">\n       <use xlink:href=\"#DejaVuSans-49\"/>\n       <use x=\"63.623047\" xlink:href=\"#DejaVuSans-50\"/>\n       <use x=\"127.246094\" xlink:href=\"#DejaVuSans-48\"/>\n       <use x=\"190.869141\" xlink:href=\"#DejaVuSans-48\"/>\n      </g>\n     </g>\n    </g>\n   </g>\n   <g id=\"matplotlib.axis_2\">\n    <g id=\"ytick_1\">\n     <g id=\"line2d_8\">\n      <defs>\n       <path d=\"M 0 0 \nL -3.5 0 \n\" id=\"m3ae2fdb18d\" style=\"stroke:#000000;stroke-width:0.8;\"/>\n      </defs>\n      <g>\n       <use style=\"stroke:#000000;stroke-width:0.8;\" x=\"33.2875\" xlink:href=\"#m3ae2fdb18d\" y=\"10.999219\"/>\n      </g>\n     </g>\n     <g id=\"text_8\">\n      <!-- 0 -->\n      <g transform=\"translate(19.925 14.798438)scale(0.1 -0.1)\">\n       <use xlink:href=\"#DejaVuSans-48\"/>\n      </g>\n     </g>\n    </g>\n    <g id=\"ytick_2\">\n     <g id=\"line2d_9\">\n      <g>\n       <use style=\"stroke:#000000;stroke-width:0.8;\" x=\"33.2875\" xlink:href=\"#m3ae2fdb18d\" y=\"37.155469\"/>\n      </g>\n     </g>\n     <g id=\"text_9\">\n      <!-- 100 -->\n      <g transform=\"translate(7.2 40.954688)scale(0.1 -0.1)\">\n       <use xlink:href=\"#DejaVuSans-49\"/>\n       <use x=\"63.623047\" xlink:href=\"#DejaVuSans-48\"/>\n       <use x=\"127.246094\" xlink:href=\"#DejaVuSans-48\"/>\n      </g>\n     </g>\n    </g>\n    <g id=\"ytick_3\">\n     <g id=\"line2d_10\">\n      <g>\n       <use style=\"stroke:#000000;stroke-width:0.8;\" x=\"33.2875\" xlink:href=\"#m3ae2fdb18d\" y=\"63.311719\"/>\n      </g>\n     </g>\n     <g id=\"text_10\">\n      <!-- 200 -->\n      <g transform=\"translate(7.2 67.110938)scale(0.1 -0.1)\">\n       <use xlink:href=\"#DejaVuSans-50\"/>\n       <use x=\"63.623047\" xlink:href=\"#DejaVuSans-48\"/>\n       <use x=\"127.246094\" xlink:href=\"#DejaVuSans-48\"/>\n      </g>\n     </g>\n    </g>\n    <g id=\"ytick_4\">\n     <g id=\"line2d_11\">\n      <g>\n       <use style=\"stroke:#000000;stroke-width:0.8;\" x=\"33.2875\" xlink:href=\"#m3ae2fdb18d\" y=\"89.467969\"/>\n      </g>\n     </g>\n     <g id=\"text_11\">\n      <!-- 300 -->\n      <defs>\n       <path d=\"M 40.578125 39.3125 \nQ 47.65625 37.796875 51.625 33 \nQ 55.609375 28.21875 55.609375 21.1875 \nQ 55.609375 10.40625 48.1875 4.484375 \nQ 40.765625 -1.421875 27.09375 -1.421875 \nQ 22.515625 -1.421875 17.65625 -0.515625 \nQ 12.796875 0.390625 7.625 2.203125 \nL 7.625 11.71875 \nQ 11.71875 9.328125 16.59375 8.109375 \nQ 21.484375 6.890625 26.8125 6.890625 \nQ 36.078125 6.890625 40.9375 10.546875 \nQ 45.796875 14.203125 45.796875 21.1875 \nQ 45.796875 27.640625 41.28125 31.265625 \nQ 36.765625 34.90625 28.71875 34.90625 \nL 20.21875 34.90625 \nL 20.21875 43.015625 \nL 29.109375 43.015625 \nQ 36.375 43.015625 40.234375 45.921875 \nQ 44.09375 48.828125 44.09375 54.296875 \nQ 44.09375 59.90625 40.109375 62.90625 \nQ 36.140625 65.921875 28.71875 65.921875 \nQ 24.65625 65.921875 20.015625 65.03125 \nQ 15.375 64.15625 9.8125 62.3125 \nL 9.8125 71.09375 \nQ 15.4375 72.65625 20.34375 73.4375 \nQ 25.25 74.21875 29.59375 74.21875 \nQ 40.828125 74.21875 47.359375 69.109375 \nQ 53.90625 64.015625 53.90625 55.328125 \nQ 53.90625 49.265625 50.4375 45.09375 \nQ 46.96875 40.921875 40.578125 39.3125 \nz\n\" id=\"DejaVuSans-51\"/>\n      </defs>\n      <g transform=\"translate(7.2 93.267188)scale(0.1 -0.1)\">\n       <use xlink:href=\"#DejaVuSans-51\"/>\n       <use x=\"63.623047\" xlink:href=\"#DejaVuSans-48\"/>\n       <use x=\"127.246094\" xlink:href=\"#DejaVuSans-48\"/>\n      </g>\n     </g>\n    </g>\n    <g id=\"ytick_5\">\n     <g id=\"line2d_12\">\n      <g>\n       <use style=\"stroke:#000000;stroke-width:0.8;\" x=\"33.2875\" xlink:href=\"#m3ae2fdb18d\" y=\"115.624219\"/>\n      </g>\n     </g>\n     <g id=\"text_12\">\n      <!-- 400 -->\n      <g transform=\"translate(7.2 119.423438)scale(0.1 -0.1)\">\n       <use xlink:href=\"#DejaVuSans-52\"/>\n       <use x=\"63.623047\" xlink:href=\"#DejaVuSans-48\"/>\n       <use x=\"127.246094\" xlink:href=\"#DejaVuSans-48\"/>\n      </g>\n     </g>\n    </g>\n    <g id=\"ytick_6\">\n     <g id=\"line2d_13\">\n      <g>\n       <use style=\"stroke:#000000;stroke-width:0.8;\" x=\"33.2875\" xlink:href=\"#m3ae2fdb18d\" y=\"141.780469\"/>\n      </g>\n     </g>\n     <g id=\"text_13\">\n      <!-- 500 -->\n      <defs>\n       <path d=\"M 10.796875 72.90625 \nL 49.515625 72.90625 \nL 49.515625 64.59375 \nL 19.828125 64.59375 \nL 19.828125 46.734375 \nQ 21.96875 47.46875 24.109375 47.828125 \nQ 26.265625 48.1875 28.421875 48.1875 \nQ 40.625 48.1875 47.75 41.5 \nQ 54.890625 34.8125 54.890625 23.390625 \nQ 54.890625 11.625 47.5625 5.09375 \nQ 40.234375 -1.421875 26.90625 -1.421875 \nQ 22.3125 -1.421875 17.546875 -0.640625 \nQ 12.796875 0.140625 7.71875 1.703125 \nL 7.71875 11.625 \nQ 12.109375 9.234375 16.796875 8.0625 \nQ 21.484375 6.890625 26.703125 6.890625 \nQ 35.15625 6.890625 40.078125 11.328125 \nQ 45.015625 15.765625 45.015625 23.390625 \nQ 45.015625 31 40.078125 35.4375 \nQ 35.15625 39.890625 26.703125 39.890625 \nQ 22.75 39.890625 18.8125 39.015625 \nQ 14.890625 38.140625 10.796875 36.28125 \nz\n\" id=\"DejaVuSans-53\"/>\n      </defs>\n      <g transform=\"translate(7.2 145.579688)scale(0.1 -0.1)\">\n       <use xlink:href=\"#DejaVuSans-53\"/>\n       <use x=\"63.623047\" xlink:href=\"#DejaVuSans-48\"/>\n       <use x=\"127.246094\" xlink:href=\"#DejaVuSans-48\"/>\n      </g>\n     </g>\n    </g>\n    <g id=\"ytick_7\">\n     <g id=\"line2d_14\">\n      <g>\n       <use style=\"stroke:#000000;stroke-width:0.8;\" x=\"33.2875\" xlink:href=\"#m3ae2fdb18d\" y=\"167.936719\"/>\n      </g>\n     </g>\n     <g id=\"text_14\">\n      <!-- 600 -->\n      <g transform=\"translate(7.2 171.735938)scale(0.1 -0.1)\">\n       <use xlink:href=\"#DejaVuSans-54\"/>\n       <use x=\"63.623047\" xlink:href=\"#DejaVuSans-48\"/>\n       <use x=\"127.246094\" xlink:href=\"#DejaVuSans-48\"/>\n      </g>\n     </g>\n    </g>\n    <g id=\"ytick_8\">\n     <g id=\"line2d_15\">\n      <g>\n       <use style=\"stroke:#000000;stroke-width:0.8;\" x=\"33.2875\" xlink:href=\"#m3ae2fdb18d\" y=\"194.092969\"/>\n      </g>\n     </g>\n     <g id=\"text_15\">\n      <!-- 700 -->\n      <defs>\n       <path d=\"M 8.203125 72.90625 \nL 55.078125 72.90625 \nL 55.078125 68.703125 \nL 28.609375 0 \nL 18.3125 0 \nL 43.21875 64.59375 \nL 8.203125 64.59375 \nz\n\" id=\"DejaVuSans-55\"/>\n      </defs>\n      <g transform=\"translate(7.2 197.892188)scale(0.1 -0.1)\">\n       <use xlink:href=\"#DejaVuSans-55\"/>\n       <use x=\"63.623047\" xlink:href=\"#DejaVuSans-48\"/>\n       <use x=\"127.246094\" xlink:href=\"#DejaVuSans-48\"/>\n      </g>\n     </g>\n    </g>\n   </g>\n   <g id=\"patch_3\">\n    <path d=\"M 33.2875 199.193438 \nL 33.2875 10.868438 \n\" style=\"fill:none;stroke:#000000;stroke-linecap:square;stroke-linejoin:miter;stroke-width:0.8;\"/>\n   </g>\n   <g id=\"patch_4\">\n    <path d=\"M 368.0875 199.193438 \nL 368.0875 10.868438 \n\" style=\"fill:none;stroke:#000000;stroke-linecap:square;stroke-linejoin:miter;stroke-width:0.8;\"/>\n   </g>\n   <g id=\"patch_5\">\n    <path d=\"M 33.2875 199.193438 \nL 368.0875 199.193438 \n\" style=\"fill:none;stroke:#000000;stroke-linecap:square;stroke-linejoin:miter;stroke-width:0.8;\"/>\n   </g>\n   <g id=\"patch_6\">\n    <path d=\"M 33.2875 10.868437 \nL 368.0875 10.868437 \n\" style=\"fill:none;stroke:#000000;stroke-linecap:square;stroke-linejoin:miter;stroke-width:0.8;\"/>\n   </g>\n  </g>\n </g>\n <defs>\n  <clipPath id=\"pf402584292\">\n   <rect height=\"188.325\" width=\"334.8\" x=\"33.2875\" y=\"10.868437\"/>\n  </clipPath>\n </defs>\n</svg>\n",
      "image/png": "[encoded data removed]"
     },
     "metadata": {
      "needs_background": "light"
     }
    }
   ],
   "source": [
    "plt.imshow((panoptic_seg[10] == 2)) #[2,4,5,8,11]"
   ]
  },
  {
   "cell_type": "markdown",
   "metadata": {},
   "source": [
    "## Draw Most Salient Objects based on bottom-up saliency in GazeCom Videos"
   ]
  },
  {
   "cell_type": "code",
   "execution_count": 66,
   "metadata": {
    "tags": []
   },
   "outputs": [
    {
     "output_type": "display_data",
     "data": {
      "text/plain": "HBox(children=(FloatProgress(value=0.0, description='videos', max=17.0, style=ProgressStyle(description_width=…",
      "application/vnd.jupyter.widget-view+json": {
       "version_major": 2,
       "version_minor": 0,
       "model_id": "e7b1953d532549958ef90813556066f1"
      }
     },
     "metadata": {}
    },
    {
     "output_type": "stream",
     "name": "stdout",
     "text": "/Users/timschroder/Documents/Uni/Bachelorarbeit/project_results.nosync/panoptic-seg/beach_data.npy\n/Users/timschroder/Documents/Uni/Bachelorarbeit/project_results.nosync/panoptic-seg/breite_strasse_data.npy\n/Users/timschroder/Documents/Uni/Bachelorarbeit/project_results.nosync/panoptic-seg/bridge_1_data.npy\n/Users/timschroder/Documents/Uni/Bachelorarbeit/project_results.nosync/panoptic-seg/bridge_2_data.npy\n/Users/timschroder/Documents/Uni/Bachelorarbeit/project_results.nosync/panoptic-seg/bumblebee_data.npy\n/Users/timschroder/Documents/Uni/Bachelorarbeit/project_results.nosync/panoptic-seg/doves_data.npy\n/Users/timschroder/Documents/Uni/Bachelorarbeit/project_results.nosync/panoptic-seg/ducks_boat_data.npy\n/Users/timschroder/Documents/Uni/Bachelorarbeit/project_results.nosync/panoptic-seg/ducks_children_data.npy\n/Users/timschroder/Documents/Uni/Bachelorarbeit/project_results.nosync/panoptic-seg/golf_data.npy\n/Users/timschroder/Documents/Uni/Bachelorarbeit/project_results.nosync/panoptic-seg/holsten_gate_data.npy\n/Users/timschroder/Documents/Uni/Bachelorarbeit/project_results.nosync/panoptic-seg/koenigstrasse_data.npy\n/Users/timschroder/Documents/Uni/Bachelorarbeit/project_results.nosync/panoptic-seg/puppies_data.npy\n/Users/timschroder/Documents/Uni/Bachelorarbeit/project_results.nosync/panoptic-seg/roundabout_data.npy\n/Users/timschroder/Documents/Uni/Bachelorarbeit/project_results.nosync/panoptic-seg/sea_data.npy\n/Users/timschroder/Documents/Uni/Bachelorarbeit/project_results.nosync/panoptic-seg/st_petri_gate_data.npy\n/Users/timschroder/Documents/Uni/Bachelorarbeit/project_results.nosync/panoptic-seg/st_petri_market_data.npy\n/Users/timschroder/Documents/Uni/Bachelorarbeit/project_results.nosync/panoptic-seg/st_petri_mcdonalds_data.npy\n\n"
    }
   ],
   "source": [
    "\n",
    "videos_run =[s for s in range(0,17)]\n",
    "num_frames = 595\n",
    "for v in tqdm(videos_run, desc=\"videos\"):#len(video_path_list)\n",
    "    videoloc = data_path_list[v] #video_path_list[v]\n",
    "    print(videoloc)\n",
    "    video_name = os.path.splitext(os.path.basename(videoloc))[0][:-5]\n",
    "\n",
    "    most_salient_objects_path = '/Users/timschroder/Documents/Uni/Bachelorarbeit/project_results.nosync/lowlevel-salient-objects/'\n",
    "    mask_path = most_salient_objects_path + video_name + '_lowlevel-salient-objects.npy'\n",
    "    salient_object_ids = np.load(mask_path,allow_pickle=True)\n",
    "    panoptic_seg = np.load(data_path_list[v], allow_pickle=True)\n",
    "    fourcc = cv2.VideoWriter_fourcc(*'XVID')\n",
    "    in_file = '/Users/timschroder/Documents/Uni/Bachelorarbeit/project_data.nosync/LUEBECK/' + video_name + '.mpg'\n",
    "    out_file = most_salient_objects_path + video_name + '.avi'\n",
    "\n",
    "    video_in = cv2.VideoCapture(in_file)\n",
    "    video_out = cv2.VideoWriter(out_file, fourcc, 30, (1280,720))\n",
    "    success,img = video_in.read()\n",
    "    count = 0\n",
    "    while (success and count < 595):\n",
    "        #resized = cv2.resize(salient_object_mask[count,:,:], (1280,720), interpolation = cv2.INTER_AREA)\n",
    "        for i in range(len(salient_object_ids[count])):\n",
    "            segment_id = salient_object_ids[count][i]\n",
    "            mask = (panoptic_seg[count].numpy()==segment_id).astype(np.uint8)\n",
    "            if (np.count_nonzero(mask)!=0):\n",
    "                contours, hierarchy = cv2.findContours(mask, cv2.RETR_EXTERNAL, cv2.CHAIN_APPROX_NONE)\n",
    "                cv2.drawContours(img, contours, -1, (255, 0, 0), 3) \n",
    "                # compute the center of the contour\n",
    "                for c in contours:\n",
    "                    M = cv2.moments(c)\n",
    "                    if M['m00']!=0:\n",
    "                    \n",
    "                        cX = int(M[\"m10\"] / M[\"m00\"])\n",
    "                        cY = int(M[\"m01\"] / M[\"m00\"])\n",
    "                        # draw the contour and center of the shape on the image\n",
    "                        cv2.putText(img, str(i), (cX, cY),\n",
    "                        cv2.FONT_HERSHEY_SIMPLEX, 0.7, (255, 0, 0), 2)\n",
    "\n",
    "        count += 1\n",
    "        video_out.write(img)\n",
    "        success,img = video_in.read()\n",
    "    video_out.release()\n",
    "    video_in.release()\n"
   ]
  },
  {
   "cell_type": "code",
   "execution_count": 172,
   "metadata": {},
   "outputs": [
    {
     "output_type": "execute_result",
     "data": {
      "text/plain": "0.0"
     },
     "metadata": {},
     "execution_count": 172
    }
   ],
   "source": [
    "M['m00']"
   ]
  },
  {
   "cell_type": "markdown",
   "metadata": {},
   "source": [
    "## Most Salient Objects based on Hierachical Motion Segmentation"
   ]
  },
  {
   "cell_type": "code",
   "execution_count": null,
   "metadata": {},
   "outputs": [],
   "source": []
  }
 ],
 "metadata": {
  "language_info": {
   "codemirror_mode": {
    "name": "ipython",
    "version": 3
   },
   "file_extension": ".py",
   "mimetype": "text/x-python",
   "name": "python",
   "nbconvert_exporter": "python",
   "pygments_lexer": "ipython3",
   "version": "3.6.10-final"
  },
  "orig_nbformat": 2,
  "kernelspec": {
   "name": "python_defaultSpec_1598962286269",
   "display_name": "Python 3.6.10 64-bit"
  }
 },
 "nbformat": 4,
 "nbformat_minor": 2
}