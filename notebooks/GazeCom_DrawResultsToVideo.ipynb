{
 "metadata": {
  "language_info": {
   "codemirror_mode": {
    "name": "ipython",
    "version": 3
   },
   "file_extension": ".py",
   "mimetype": "text/x-python",
   "name": "python",
   "nbconvert_exporter": "python",
   "pygments_lexer": "ipython3",
   "version": 3
  },
  "orig_nbformat": 2
 },
 "nbformat": 4,
 "nbformat_minor": 2,
 "cells": [
  {
   "source": [
    "## Draw Most Salient Objects based on bottom-up saliency in GazeCom Videos"
   ],
   "cell_type": "markdown",
   "metadata": {}
  },
  {
   "cell_type": "code",
   "execution_count": null,
   "metadata": {},
   "outputs": [],
   "source": [
    "\n",
    "videos_run =[s for s in range(0,17)]\n",
    "num_frames = 595\n",
    "for v in tqdm(videos_run, desc=\"videos\"):#len(video_path_list)\n",
    "    videoloc = data_path_list[v] #video_path_list[v]\n",
    "    print(videoloc)\n",
    "    video_name = os.path.splitext(os.path.basename(videoloc))[0][:-5]\n",
    "\n",
    "    most_salient_objects_path = '/Users/timschroder/Documents/Uni/Bachelorarbeit/project_results.nosync/lowlevel-salient-objects/'\n",
    "    mask_path = most_salient_objects_path + video_name + '_lowlevel-salient-objects.npy'\n",
    "    salient_object_ids = np.load(mask_path,allow_pickle=True)\n",
    "    panoptic_seg = np.load(data_path_list[v], allow_pickle=True)\n",
    "    fourcc = cv2.VideoWriter_fourcc(*'XVID')\n",
    "    in_file = '/Users/timschroder/Documents/Uni/Bachelorarbeit/project_data.nosync/LUEBECK/' + video_name + '.mpg'\n",
    "    out_file = most_salient_objects_path + video_name + '.avi'\n",
    "\n",
    "    video_in = cv2.VideoCapture(in_file)\n",
    "    video_out = cv2.VideoWriter(out_file, fourcc, 30, (1280,720))\n",
    "    success,img = video_in.read()\n",
    "    count = 0\n",
    "    while (success and count < 595):\n",
    "        #resized = cv2.resize(salient_object_mask[count,:,:], (1280,720), interpolation = cv2.INTER_AREA)\n",
    "        for i in range(len(salient_object_ids[count])):\n",
    "            segment_id = salient_object_ids[count][i]\n",
    "            mask = (panoptic_seg[count].numpy()==segment_id).astype(np.uint8)\n",
    "            if (np.count_nonzero(mask)!=0):\n",
    "                contours, hierarchy = cv2.findContours(mask, cv2.RETR_EXTERNAL, cv2.CHAIN_APPROX_NONE)\n",
    "                cv2.drawContours(img, contours, -1, (255, 0, 0), 3) \n",
    "                # compute the center of the contour\n",
    "                for c in contours:\n",
    "                    M = cv2.moments(c)\n",
    "                    if M['m00']!=0:\n",
    "                    \n",
    "                        cX = int(M[\"m10\"] / M[\"m00\"])\n",
    "                        cY = int(M[\"m01\"] / M[\"m00\"])\n",
    "                        # draw the contour and center of the shape on the image\n",
    "                        cv2.putText(img, str(i), (cX, cY),\n",
    "                        cv2.FONT_HERSHEY_SIMPLEX, 0.7, (255, 0, 0), 2)\n",
    "\n",
    "        count += 1\n",
    "        video_out.write(img)\n",
    "        success,img = video_in.read()\n",
    "    video_out.release()\n",
    "    video_in.release()\n"
   ]
  }
 ]
}