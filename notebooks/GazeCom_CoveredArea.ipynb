{
 "metadata": {
  "language_info": {
   "codemirror_mode": {
    "name": "ipython",
    "version": 3
   },
   "file_extension": ".py",
   "mimetype": "text/x-python",
   "name": "python",
   "nbconvert_exporter": "python",
   "pygments_lexer": "ipython3",
   "version": "3.6.10-final"
  },
  "orig_nbformat": 2,
  "kernelspec": {
   "name": "Python 3.6.10 64-bit ('torchenv': conda)",
   "display_name": "Python 3.6.10 64-bit ('torchenv': conda)",
   "metadata": {
    "interpreter": {
     "hash": "19edbda77699678c0797723261327800934f0e968508a27d39865779823a29b2"
    }
   }
  }
 },
 "nbformat": 4,
 "nbformat_minor": 2,
 "cells": [
  {
   "cell_type": "code",
   "execution_count": 28,
   "metadata": {},
   "outputs": [],
   "source": [
    "import numpy as np\n",
    "import pandas as pd\n",
    "from tqdm.notebook import tqdm\n",
    "import matplotlib.pyplot as plt\n",
    "import glob\n",
    "import cv2\n",
    "\n",
    "from utils.graphic_utils import *\n",
    "from utils.detectron_utils import *\n",
    "from utils.dataframe_utils import *\n",
    "from utils.matlab_utils import *"
   ]
  },
  {
   "source": [
    "## Area covered by Object Representation"
   ],
   "cell_type": "markdown",
   "metadata": {}
  },
  {
   "cell_type": "code",
   "execution_count": 29,
   "metadata": {},
   "outputs": [],
   "source": [
    "################## SET PATHS ##################\n",
    "PANOPTIC_DATA_DIR = '/Users/timschroder/Documents/Uni/Bachelorarbeit/project_results.nosync/panoptic-seg/'\n",
    "PANOPTIC_VIDEO_DIR = '/Users/timschroder/Documents/Uni/Bachelorarbeit/project_results.nosync/'\n",
    "GAZE_COM_GAZE_DIR = '/Users/timschroder/Documents/Uni/Bachelorarbeit/project_data.nosync/LUEBECK_GAZE/GazeCom_ground_truth/'\n",
    "GAZE_COM_VIDEO_DIR = '/Users/timschroder/Documents/Uni/Bachelorarbeit/project_data.nosync/LUEBECK/'\n",
    "PROTO_OBJECT_DIR = '/Users/timschroder/Documents/Uni/Bachelorarbeit/project_code/proto-objects/'\n",
    "\n",
    "data_path_list = [video for video in glob.glob(PANOPTIC_DATA_DIR + '*_data.npy')]\n",
    "data_path_list.sort()\n",
    "\n",
    "info_path_list = [video for video in glob.glob(PANOPTIC_DATA_DIR + '*_deepsort.npy')]\n",
    "info_path_list.sort()\n",
    "\n",
    "video_path_list = [video for video in glob.glob(GAZE_COM_VIDEO_DIR + '/*')]\n",
    "video_path_list.sort()\n",
    "\n",
    "gaze_folder_list = [video for video in glob.glob(GAZE_COM_GAZE_DIR + '/*')]\n",
    "gaze_folder_list.sort()"
   ]
  },
  {
   "cell_type": "code",
   "execution_count": 14,
   "metadata": {
    "tags": []
   },
   "outputs": [
    {
     "output_type": "display_data",
     "data": {
      "text/plain": "HBox(children=(FloatProgress(value=0.0, max=18.0), HTML(value='')))",
      "application/vnd.jupyter.widget-view+json": {
       "version_major": 2,
       "version_minor": 0,
       "model_id": "d7c822ce1ff44bfaad32bddd19b728b2"
      }
     },
     "metadata": {}
    },
    {
     "output_type": "stream",
     "name": "stdout",
     "text": "\n"
    }
   ],
   "source": [
    "#Area Proto Objects\n",
    "area_covered_by_thing = []\n",
    "for v in tqdm(range(0,18)):\n",
    "    panoptic_seg = np.load(data_path_list[v], allow_pickle=True) # change storage.py line 134 for this\n",
    "    segments_info = np.load(info_path_list[v],allow_pickle=True) \n",
    "    thing_area = []\n",
    "    for frame in (range(len(panoptic_seg))):\n",
    "        area = 0\n",
    "        for segment in segments_info[frame]:\n",
    "            if segment['isthing']:\n",
    "                area = area + segment['area']\n",
    "        thing_area.append(area)\n",
    "    area_covered_by_thing.append(np.mean(thing_area)/(1280*720))"
   ]
  },
  {
   "cell_type": "code",
   "execution_count": 30,
   "metadata": {
    "tags": []
   },
   "outputs": [
    {
     "output_type": "display_data",
     "data": {
      "text/plain": "HBox(children=(FloatProgress(value=0.0, max=18.0), HTML(value='')))",
      "application/vnd.jupyter.widget-view+json": {
       "version_major": 2,
       "version_minor": 0,
       "model_id": "aceddcbee3dc457a9a9a2d99a682b269"
      }
     },
     "metadata": {}
    },
    {
     "output_type": "stream",
     "name": "stdout",
     "text": "\n"
    }
   ],
   "source": [
    "#Area Proto Objects\n",
    "area_covered_by_proto = []\n",
    "for v,path in tqdm(enumerate(video_path_list), total = len(video_path_list)):\n",
    "    video_name = os.path.splitext(os.path.basename(path))[0]\n",
    "    gaze_dir = gaze_folder_list[v] \n",
    "    gaze_path_list = [video for video in glob.glob(gaze_dir + '/*')]\n",
    "    gaze_path_list.sort()\n",
    "    ##### Load Proto Object from .mat file #####\n",
    "    waltherProto, motionProto = load_proto_objects(PROTO_OBJECT_DIR, video_name)\n",
    "    proto_area = []\n",
    "    for f in range(len(motionProto)):\n",
    "        resized = np.zeros((720,1280))\n",
    "        for n in range(0,5):\n",
    "            resized += cv2.resize(motionProto[f,:,:,n], (1280,720), interpolation = cv2.INTER_AREA)\n",
    "        proto_area.append(sum(sum(resized)))\n",
    "    area_covered_by_proto.append(np.mean(proto_area)/(1280*720))\n"
   ]
  },
  {
   "cell_type": "code",
   "execution_count": 31,
   "metadata": {
    "tags": []
   },
   "outputs": [
    {
     "output_type": "display_data",
     "data": {
      "text/plain": "HBox(children=(FloatProgress(value=0.0, max=18.0), HTML(value='')))",
      "application/vnd.jupyter.widget-view+json": {
       "version_major": 2,
       "version_minor": 0,
       "model_id": "f1d55636403140dbabee316dd1bd9b0f"
      }
     },
     "metadata": {}
    },
    {
     "output_type": "stream",
     "name": "stdout",
     "text": "\n"
    }
   ],
   "source": [
    "#Area Low Level Most Salient Objects\n",
    "lowlevel_salient_objects_path = '/Users/timschroder/Documents/Uni/Bachelorarbeit/project_results.nosync/lowlevel-salient-objects/'\n",
    "area_covered_by_salient_object = []\n",
    "for v in tqdm(range(0,18)):\n",
    "    video_name = os.path.splitext(os.path.basename(video_path_list[v]))[0]\n",
    "    lowlevel_mask_path = lowlevel_salient_objects_path + video_name + '_lowlevel-salient-objects.npy'\n",
    "    lowlevel_salient_object_ids = np.load(lowlevel_mask_path,allow_pickle=True) # Includes the segment_id of the 5 motion_salient objects per frame\n",
    "    panoptic_seg = np.load(data_path_list[v], allow_pickle=True) # change storage.py line 134 for this\n",
    "    segments_info = np.load(info_path_list[v],allow_pickle=True) \n",
    "    salient_object_area = []\n",
    "    for frame in range(min(len(panoptic_seg),len(lowlevel_salient_object_ids))):\n",
    "        area = 0\n",
    "        for segment in segments_info[frame]:\n",
    "            if segment['id'] in lowlevel_salient_object_ids[frame]:\n",
    "                area = area + segment['area']\n",
    "        salient_object_area.append(area)\n",
    "    area_covered_by_salient_object.append(np.mean(salient_object_area)/(1280*720))"
   ]
  },
  {
   "cell_type": "code",
   "execution_count": 32,
   "metadata": {
    "tags": []
   },
   "outputs": [
    {
     "output_type": "display_data",
     "data": {
      "text/plain": "HBox(children=(FloatProgress(value=0.0, max=18.0), HTML(value='')))",
      "application/vnd.jupyter.widget-view+json": {
       "version_major": 2,
       "version_minor": 0,
       "model_id": "0feb0c7db45d49309ecf2ae165d4b594"
      }
     },
     "metadata": {}
    },
    {
     "output_type": "stream",
     "name": "stdout",
     "text": "\n"
    }
   ],
   "source": [
    "#Area Motion Most Salient Objects\n",
    "lowlevel_salient_objects_path = '/Users/timschroder/Documents/Uni/Bachelorarbeit/project_results.nosync/motion-salient-objects/'\n",
    "area_covered_by_salient_object_motion = []\n",
    "for v in tqdm(range(0,18)):\n",
    "    video_name = os.path.splitext(os.path.basename(video_path_list[v]))[0]\n",
    "    lowlevel_mask_path = lowlevel_salient_objects_path + video_name + '_motion-salient-objects.npy'\n",
    "    if os.path.isfile(lowlevel_mask_path):\n",
    "            \n",
    "        lowlevel_salient_object_ids = np.load(lowlevel_mask_path,allow_pickle=True) # Includes the segment_id of the 5 motion_salient objects per frame\n",
    "        panoptic_seg = np.load(data_path_list[v], allow_pickle=True) # change storage.py line 134 for this\n",
    "        segments_info = np.load(info_path_list[v],allow_pickle=True) \n",
    "        salient_object_area = []\n",
    "        for frame in range(min(len(panoptic_seg),len(lowlevel_salient_object_ids))):\n",
    "            area = 0\n",
    "            for segment in segments_info[frame]:\n",
    "                if segment['id'] in lowlevel_salient_object_ids[frame]:\n",
    "                    area = area + segment['area']\n",
    "            salient_object_area.append(area)\n",
    "        area_covered_by_salient_object_motion.append(np.mean(salient_object_area)/(1280*720))\n",
    "    else:\n",
    "        area_covered_by_salient_object_motion.append(0)"
   ]
  },
  {
   "cell_type": "code",
   "execution_count": 33,
   "metadata": {},
   "outputs": [],
   "source": [
    "path = 'data/df_foveation'\n",
    "df_foveation = pd.read_pickle(path)"
   ]
  },
  {
   "cell_type": "code",
   "execution_count": 34,
   "metadata": {},
   "outputs": [
    {
     "output_type": "error",
     "ename": "NameError",
     "evalue": "name 'df_correlation' is not defined",
     "traceback": [
      "\u001b[0;31m---------------------------------------------------------------------------\u001b[0m",
      "\u001b[0;31mNameError\u001b[0m                                 Traceback (most recent call last)",
      "\u001b[0;32m<ipython-input-34-9634be9225e6>\u001b[0m in \u001b[0;36m<module>\u001b[0;34m\u001b[0m\n\u001b[0;32m----> 1\u001b[0;31m \u001b[0mvideo_names\u001b[0m \u001b[0;34m=\u001b[0m \u001b[0mdf_correlation\u001b[0m\u001b[0;34m.\u001b[0m\u001b[0mvideo\u001b[0m\u001b[0;34m.\u001b[0m\u001b[0munique\u001b[0m\u001b[0;34m(\u001b[0m\u001b[0;34m)\u001b[0m\u001b[0;34m\u001b[0m\u001b[0;34m\u001b[0m\u001b[0m\n\u001b[0m\u001b[1;32m      2\u001b[0m \u001b[0mdf_area_things\u001b[0m \u001b[0;34m=\u001b[0m \u001b[0mpd\u001b[0m\u001b[0;34m.\u001b[0m\u001b[0mDataFrame\u001b[0m\u001b[0;34m(\u001b[0m\u001b[0mnp\u001b[0m\u001b[0;34m.\u001b[0m\u001b[0marray\u001b[0m\u001b[0;34m(\u001b[0m\u001b[0;34m[\u001b[0m\u001b[0;34m(\u001b[0m\u001b[0mthing_area\u001b[0m\u001b[0;34m[\u001b[0m\u001b[0mv\u001b[0m\u001b[0;34m]\u001b[0m\u001b[0;34m)\u001b[0m \u001b[0;32mfor\u001b[0m \u001b[0mv\u001b[0m \u001b[0;32min\u001b[0m \u001b[0mrange\u001b[0m\u001b[0;34m(\u001b[0m\u001b[0;36m0\u001b[0m\u001b[0;34m,\u001b[0m\u001b[0;36m18\u001b[0m\u001b[0;34m)\u001b[0m\u001b[0;34m]\u001b[0m\u001b[0;34m)\u001b[0m\u001b[0;34m.\u001b[0m\u001b[0mtranspose\u001b[0m\u001b[0;34m(\u001b[0m\u001b[0;34m)\u001b[0m\u001b[0;34m,\u001b[0m \u001b[0mindex\u001b[0m\u001b[0;34m=\u001b[0m\u001b[0mthing_classes\u001b[0m\u001b[0;34m,\u001b[0m \u001b[0mcolumns\u001b[0m\u001b[0;34m=\u001b[0m\u001b[0mvideo_names\u001b[0m\u001b[0;34m)\u001b[0m\u001b[0;34m\u001b[0m\u001b[0;34m\u001b[0m\u001b[0m\n\u001b[1;32m      3\u001b[0m \u001b[0mdf_area_stuff\u001b[0m\u001b[0;34m.\u001b[0m\u001b[0mto_pickle\u001b[0m\u001b[0;34m(\u001b[0m\u001b[0;34m'gazecom_area_things_df'\u001b[0m\u001b[0;34m)\u001b[0m\u001b[0;34m\u001b[0m\u001b[0;34m\u001b[0m\u001b[0m\n\u001b[1;32m      4\u001b[0m \u001b[0mdf_area_stuff\u001b[0m \u001b[0;34m=\u001b[0m \u001b[0mpd\u001b[0m\u001b[0;34m.\u001b[0m\u001b[0mDataFrame\u001b[0m\u001b[0;34m(\u001b[0m\u001b[0mnp\u001b[0m\u001b[0;34m.\u001b[0m\u001b[0marray\u001b[0m\u001b[0;34m(\u001b[0m\u001b[0;34m[\u001b[0m\u001b[0;34m(\u001b[0m\u001b[0mstuff_area\u001b[0m\u001b[0;34m[\u001b[0m\u001b[0mv\u001b[0m\u001b[0;34m]\u001b[0m\u001b[0;34m)\u001b[0m \u001b[0;32mfor\u001b[0m \u001b[0mv\u001b[0m \u001b[0;32min\u001b[0m \u001b[0mrange\u001b[0m\u001b[0;34m(\u001b[0m\u001b[0;36m0\u001b[0m\u001b[0;34m,\u001b[0m\u001b[0;36m18\u001b[0m\u001b[0;34m)\u001b[0m\u001b[0;34m]\u001b[0m\u001b[0;34m)\u001b[0m\u001b[0;34m.\u001b[0m\u001b[0mtranspose\u001b[0m\u001b[0;34m(\u001b[0m\u001b[0;34m)\u001b[0m\u001b[0;34m,\u001b[0m \u001b[0mindex\u001b[0m\u001b[0;34m=\u001b[0m\u001b[0mstuff_classes\u001b[0m\u001b[0;34m,\u001b[0m \u001b[0mcolumns\u001b[0m\u001b[0;34m=\u001b[0m\u001b[0mvideo_names\u001b[0m\u001b[0;34m)\u001b[0m\u001b[0;34m\u001b[0m\u001b[0;34m\u001b[0m\u001b[0m\n\u001b[1;32m      5\u001b[0m \u001b[0mdf_area_stuff\u001b[0m\u001b[0;34m.\u001b[0m\u001b[0mto_pickle\u001b[0m\u001b[0;34m(\u001b[0m\u001b[0;34m'gazecom_area_stuff_df'\u001b[0m\u001b[0;34m)\u001b[0m\u001b[0;34m\u001b[0m\u001b[0;34m\u001b[0m\u001b[0m\n",
      "\u001b[0;31mNameError\u001b[0m: name 'df_correlation' is not defined"
     ]
    }
   ],
   "source": [
    "video_names = df_correlation.video.unique()\n",
    "df_area_things = pd.DataFrame(np.array([(thing_area[v]) for v in range(0,18)]).transpose(), index=thing_classes, columns=video_names)\n",
    "df_area_stuff.to_pickle('gazecom_area_things_df')\n",
    "df_area_stuff = pd.DataFrame(np.array([(stuff_area[v]) for v in range(0,18)]).transpose(), index=stuff_classes, columns=video_names)\n",
    "df_area_stuff.to_pickle('gazecom_area_stuff_df')"
   ]
  },
  {
   "cell_type": "code",
   "execution_count": null,
   "metadata": {},
   "outputs": [],
   "source": [
    "covered_by_thing = np.array([sorted(thing_area[v], reverse=True)[:3] for v in range(0,18)]).transpose()\n",
    "covered_by_stuff = np.array([sorted(stuff_area[v], reverse=True)[:3] for v in range(0,18)]).transpose()\n",
    "thing_others = [sum(sorted(thing_area[v], reverse=True)[3:]) for v in range(0,18)]\n",
    "stuff_others = [sum(sorted(stuff_area[v], reverse=True)[3:]) for v in range(0,18)]\n",
    "thing_label = np.array([np.array(thing_classes)[(-thing_area[v]).argsort()[:3]] for v in range(0,18)]).transpose()\n",
    "stuff_label = np.array([np.array(stuff_classes)[(-stuff_area[v]).argsort()[:3]] for v in range(0,18)]).transpose()"
   ]
  },
  {
   "cell_type": "code",
   "execution_count": null,
   "metadata": {},
   "outputs": [],
   "source": [
    "video_names = df_foveation.video.unique()\n",
    "df_bar = pd.DataFrame({'Top 1 Thing': covered_by_thing[0]/vid_area*100,\n",
    "                        'Top 2 Thing': covered_by_thing[1]/vid_area*100,\n",
    "                        'Top 3 Thing': covered_by_thing[2]/vid_area*100,\n",
    "                        'Other Things': np.array(thing_others)/vid_area*100,\n",
    "                        #'stuff1': covered_by_stuff[0],\n",
    "                        #'stuff2': covered_by_stuff[1],\n",
    "                       # 'stuff3': covered_by_stuff[2],\n",
    "                       # 'stuff_others': stuff_others,\n",
    "                        }\n",
    "                        ,index = video_names)\n",
    "df_bar = df_bar.sort_index(ascending=False)\n",
    "\n",
    "ax = df_bar.plot(kind='barh', label='Correlation of Gaze with Proto Obejcts', stacked=True, color={\"#1B4F72\" : \"Top 1 Thing\", \"#21618C\" : \"Top 2 Thing\",\"#2E86C1\" : \"Top 3 Thing\",\"#3498DB\" : \"Other Things\"},rot=0, fontsize=12, figsize=(12,8), edgecolor = \"white\", width=0.7)\n",
    "plt.legend(loc=1, facecolor='white', framealpha=1, fontsize=14)\n",
    "vals = plt.xticks()\n",
    "for tick in vals[0]:\n",
    "    plt.axvline(x=tick, linestyle='dashed', alpha=0.4, color='#eeeeee', zorder=1)\n",
    "\n",
    "plt.xlabel(\"Area covered by panoptic 'thing' [%]\",labelpad=10, weight='bold', size=14)\n",
    "plt.tight_layout()\n",
    "plt.tick_params(axis=\"both\", which=\"both\", bottom=\"off\", top=\"off\", labelbottom=\"on\", left=\"off\", right=\"off\", labelleft=\"on\")\n"
   ]
  },
  {
   "cell_type": "code",
   "execution_count": null,
   "metadata": {},
   "outputs": [],
   "source": [
    "video_names = df_foveation.video.unique()\n",
    "df_bar = pd.DataFrame({'Top 1 Stuff': covered_by_stuff[0]/vid_area*100,\n",
    "                        'Top 2 Stuff': covered_by_stuff[1]/vid_area*100,\n",
    "                        'Top 3 Stuff': covered_by_stuff[2]/vid_area*100,\n",
    "                        'Other Stuff': np.array(stuff_others)/vid_area*100,\n",
    "                        #'stuff1': covered_by_stuff[0],\n",
    "                        #'stuff2': covered_by_stuff[1],\n",
    "                       # 'stuff3': covered_by_stuff[2],\n",
    "                       # 'stuff_others': stuff_others,\n",
    "                        }\n",
    "                        ,index = video_names)\n",
    "df_bar = df_bar.sort_index(ascending=False)\n",
    "ax = df_bar.plot(kind='barh', label='Correlation of Gaze with Proto Obejcts', stacked=True, color={\"#943126\" : \"Top 1 Thing\", \"#B03A2E\" : \"Top 2 Thing\",\"#E74C3C\" : \"Top 3 Thing\",\"#EC7063\" : \"Other Things\"},rot=0, fontsize=12, figsize=(12,8), edgecolor = \"white\", width=0.7)\n",
    "plt.legend(loc=2, facecolor='white', framealpha=1, fontsize=14)\n",
    "vals = plt.xticks()\n",
    "for tick in vals[0]:\n",
    "    plt.axvline(x=tick, linestyle='dashed', alpha=0.4, color='#eeeeee', zorder=1)\n",
    "plt.xlim(0, 100)\n",
    "plt.xlabel(\"Area covered by panoptic 'stuff' [%]\",labelpad=10, weight='bold', size=14)\n",
    "plt.tight_layout()\n",
    "plt.tick_params(axis=\"both\", which=\"both\", bottom=\"off\", top=\"off\", labelbottom=\"on\", left=\"off\", right=\"off\", labelleft=\"on\")\n"
   ]
  },
  {
   "cell_type": "code",
   "execution_count": null,
   "metadata": {},
   "outputs": [],
   "source": [
    "video_names = df_foveation.video.unique()\n",
    "df_bar = pd.DataFrame({'Proto Objects': np.array(area_covered_by_proto)*100,\n",
    "                        'Panoptic Things': np.array(area_covered_by_thing)*100,\n",
    "                        }\n",
    "                        ,index = video_names)\n",
    "df_bar = df_bar.sort_index(ascending=False)\n",
    "ax = df_bar.plot(kind='barh',rot=0, fontsize=12, figsize=(12,8), width=0.7)\n",
    "plt.legend(loc=1, facecolor='white', framealpha=1, fontsize=14)\n",
    "\n",
    "vals = plt.xticks()\n",
    "for tick in vals[0]:\n",
    "    plt.axvline(x=tick, linestyle='dashed', alpha=0.4, color='#eeeeee', zorder=1)\n",
    "plt.xlabel(\"Area covered by Object Representations [%]\",labelpad=10, weight='bold', size=14)\n",
    "plt.tight_layout()\n",
    "plt.xlim(0,25)\n",
    "plt.tick_params(axis=\"both\", which=\"both\", bottom=\"off\", top=\"off\", labelbottom=\"on\", left=\"off\", right=\"off\", labelleft=\"on\")\n"
   ]
  },
  {
   "cell_type": "code",
   "execution_count": null,
   "metadata": {},
   "outputs": [],
   "source": [
    "video_names = df_foveation.video.unique()\n",
    "df_bar = pd.DataFrame({'Proto Objects': df_foveation.groupby(['video']).mean().proto_object.values*100,\n",
    "                        'Panoptic Things': df_foveation.groupby(['video']).mean().isThing.values*100\n",
    "                        }\n",
    "                        ,index = video_names)\n",
    "df_bar = df_bar.sort_index(ascending=False)\n",
    "ax = df_bar.plot(kind='barh',rot=0, fontsize=12, figsize=(12,8), width=0.7)\n",
    "plt.legend(loc=1, facecolor='white', framealpha=1, fontsize=14)\n",
    "\n",
    "vals = plt.xticks()\n",
    "for tick in vals[0]:\n",
    "    plt.axvline(x=tick, linestyle='dashed', alpha=0.4, color='#eeeeee', zorder=1)\n",
    "plt.xlabel(\"Correlation of Foveation to Object Representation [%]\",labelpad=10, weight='bold', size=14)\n",
    "plt.tight_layout()\n",
    "plt.xlim(0,100)\n",
    "plt.tick_params(axis=\"both\", which=\"both\", bottom=\"off\", top=\"off\", labelbottom=\"on\", left=\"off\", right=\"off\", labelleft=\"on\")"
   ]
  },
  {
   "cell_type": "code",
   "execution_count": null,
   "metadata": {},
   "outputs": [],
   "source": [
    "path = 'df_foveation'\n",
    "df_foveation = pd.read_pickle(path)\n",
    "\n",
    "video_names = df_foveation.video.unique()\n",
    "df_bar = pd.DataFrame({'Proto Objects': df_foveation.groupby(['video']).mean().proto_object.values/np.array(area_covered_by_proto),\n",
    "                        'Panoptic Things': df_foveation.groupby(['video']).mean().isThing.values/np.array(area_covered_by_thing)\n",
    "                        }\n",
    "                        ,index = video_names)\n",
    "df_bar = df_bar.sort_index(ascending=False)\n",
    "ax = df_bar.plot(kind='barh',rot=0, fontsize=12, figsize=(12,8), width=0.7)\n",
    "plt.legend(loc=1, facecolor='white', framealpha=1, fontsize=14)\n",
    "\n",
    "vals = plt.xticks()\n",
    "for tick in vals[0]:\n",
    "    plt.axvline(x=tick, linestyle='dashed', alpha=0.4, color='#eeeeee', zorder=1)\n",
    "plt.xlabel(\"Correlation of Foveation to Object Representation relative to covered area\",labelpad=10, weight='bold', size=14)\n",
    "plt.tight_layout()\n",
    "#plt.xlim(0,100)\n",
    "plt.tick_params(axis=\"both\", which=\"both\", bottom=\"off\", top=\"off\", labelbottom=\"on\", left=\"off\", right=\"off\", labelleft=\"on\")"
   ]
  },
  {
   "source": [
    "## Most Salient Objects"
   ],
   "cell_type": "markdown",
   "metadata": {}
  },
  {
   "cell_type": "code",
   "execution_count": null,
   "metadata": {},
   "outputs": [],
   "source": [
    "df_foveation['lowlevel_salient_object_bool'] = np.where(df_foveation['lowlevel_salient_object'].isna(),0,1)\n",
    "df_foveation['motion_salient_object_bool'] = np.where(df_foveation['motion_salient_object'].isna(),0,1)\n",
    "video_names = df_foveation.video.unique()\n",
    "df_bar = pd.DataFrame({\n",
    "                        'Proto Objects': df_foveation.groupby(['video']).mean().proto_object.values*100,\n",
    "                        'Low Level Most Salient Objects': df_foveation.groupby(['video']).mean().lowlevel_salient_object_bool.values*100,\n",
    "                        'Motion Most Salient Objects (only for 3 videos)': df_foveation.groupby(['video']).mean().motion_salient_object_bool.values*100\n",
    "                        }\n",
    "                        ,index = video_names)\n",
    "df_bar = df_bar.sort_index(ascending=False)\n",
    "ax = df_bar.plot(kind='barh',rot=0, fontsize=12, figsize=(12,8), width=0.7)\n",
    "plt.legend(loc=1, facecolor='white', framealpha=1, fontsize=14)\n",
    "\n",
    "vals = plt.xticks()\n",
    "for tick in vals[0]:\n",
    "    plt.axvline(x=tick, linestyle='dashed', alpha=0.4, color='#eeeeee', zorder=1)\n",
    "plt.xlabel(\"Correlation of Foveation to Most Salient Objects [%]\",labelpad=10, weight='bold', size=14)\n",
    "plt.tight_layout()\n",
    "plt.xlim(0,100)\n",
    "plt.tick_params(axis=\"both\", which=\"both\", bottom=\"off\", top=\"off\", labelbottom=\"on\", left=\"off\", right=\"off\", labelleft=\"on\")"
   ]
  },
  {
   "cell_type": "code",
   "execution_count": null,
   "metadata": {},
   "outputs": [],
   "source": [
    "df_foveation['lowlevel_salient_object_bool'] = np.where(df_foveation['lowlevel_salient_object'].isna(),0,1)\n",
    "df_foveation['motion_salient_object_bool'] = np.where(df_foveation['motion_salient_object'].isna(),0,1)\n",
    "video_names = df_foveation.video.unique()\n",
    "df_bar = pd.DataFrame({\n",
    "                        'Proto Objects': df_foveation.groupby(['video']).mean().proto_object.values/area_covered_by_proto,\n",
    "                        'Low Level Most Salient Objects': df_foveation.groupby(['video']).mean().lowlevel_salient_object_bool.values/area_covered_by_salient_object,\n",
    "                        'Motion Most Salient Objects (only for 3 videos)': df_foveation.groupby(['video']).mean().motion_salient_object_bool.values/area_covered_by_salient_object_motion\n",
    "                        }\n",
    "                        ,index = video_names)\n",
    "df_bar = df_bar.sort_index(ascending=False)\n",
    "ax = df_bar.plot(kind='barh',rot=0, fontsize=12, figsize=(12,8), width=0.7)\n",
    "plt.legend(loc=4, facecolor='white', framealpha=1, fontsize=14)\n",
    "\n",
    "vals = plt.xticks()\n",
    "for tick in vals[0]:\n",
    "    plt.axvline(x=tick, linestyle='dashed', alpha=0.4, color='#eeeeee', zorder=1)\n",
    "plt.xlabel(\"Correlation of Foveation to Most Salient Objects relative to covered area\",labelpad=10, weight='bold', size=14)\n",
    "plt.tight_layout()\n",
    "#plt.xlim(0,100)\n",
    "plt.tick_params(axis=\"both\", which=\"both\", bottom=\"off\", top=\"off\", labelbottom=\"on\", left=\"off\", right=\"off\", labelleft=\"on\")"
   ]
  },
  {
   "source": [
    "## Post Saccadic Behaviour"
   ],
   "cell_type": "markdown",
   "metadata": {}
  },
  {
   "cell_type": "code",
   "execution_count": null,
   "metadata": {},
   "outputs": [],
   "source": [
    "path = 'data/df_foveation'\n",
    "df_foveation = pd.read_pickle(path)"
   ]
  },
  {
   "cell_type": "code",
   "execution_count": null,
   "metadata": {},
   "outputs": [],
   "source": [
    "df_post_saccade = df_foveation[df_foveation.event_id == 0].head(10)\n",
    "unique_event_ids = (np.unique(df_foveation[pd.notna(df_foveation.event_id)].event_id)).astype(int)\n",
    "for i in tqdm(unique_event_ids):\n",
    "    df_post_saccade = pd.concat([df_post_saccade, df_foveation[df_foveation.event_id == i].head(10)], ignore_index=True)"
   ]
  },
  {
   "cell_type": "code",
   "execution_count": null,
   "metadata": {},
   "outputs": [],
   "source": [
    "video_names = df_post_saccade.video.unique()\n",
    "df_bar = pd.DataFrame({'Proto Objects (40ms)': df_post_saccade.groupby(['video']).mean().proto_object.values*100,\n",
    "                        'Proto Objects': df_foveation.groupby(['video']).mean().proto_object.values*100,\n",
    "                        'Panoptic Things (40ms)': df_post_saccade.groupby(['video']).mean().isThing.values*100,\n",
    "                        'Panoptic Things': df_foveation.groupby(['video']).mean().isThing.values*100\n",
    "                        }\n",
    "                        ,index = video_names)\n",
    "df_bar = df_bar.sort_index(ascending=False)\n",
    "ax = df_bar.plot(kind='barh',rot=0, fontsize=12, figsize=(12,8), width=0.7)\n",
    "plt.legend(loc=4, facecolor='white', framealpha=1, fontsize=14)\n",
    "\n",
    "vals = plt.xticks()\n",
    "for tick in vals[0]:\n",
    "    plt.axvline(x=tick, linestyle='dashed', alpha=0.4, color='#eeeeee', zorder=1)\n",
    "plt.xlabel(\"Correlation of Foveation 40ms after Saccade to Object Representation [%]\",labelpad=10, weight='bold', size=14)\n",
    "plt.tight_layout()\n",
    "plt.xlim(0,100)\n",
    "plt.tick_params(axis=\"both\", which=\"both\", bottom=\"off\", top=\"off\", labelbottom=\"on\", left=\"off\", right=\"off\", labelleft=\"on\")\n",
    "plt.savefig('/Users/timschroder/Documents/Uni/Bachelorarbeit/thesis/images/corr_both_object_rep_40ms.png', dpi=500)"
   ]
  },
  {
   "cell_type": "code",
   "execution_count": null,
   "metadata": {},
   "outputs": [],
   "source": [
    "df_post_saccade.isThing.value_counts(normalize=True) # Correlation of Panoptic Things (40ms)"
   ]
  },
  {
   "cell_type": "code",
   "execution_count": null,
   "metadata": {},
   "outputs": [],
   "source": [
    "df_foveation.isThing.value_counts(normalize=True) # Correlation of Panoptic Things (entire foveation)"
   ]
  },
  {
   "source": [
    "## Saccades within Objects"
   ],
   "cell_type": "markdown",
   "metadata": {}
  },
  {
   "cell_type": "code",
   "execution_count": null,
   "metadata": {},
   "outputs": [],
   "source": [
    "gazecom_gt_event_df = pd.read_pickle('data/gazecom_gt_event_df')\n",
    "df_events_foveation = pd.read_pickle('data/df_events_foveation')"
   ]
  },
  {
   "cell_type": "code",
   "execution_count": null,
   "metadata": {},
   "outputs": [],
   "source": [
    "num_vid_saccades = np.zeros(18)\n",
    "num_vid_saccades_per_sub = np.zeros(18)\n",
    "v = 0\n",
    "for video in gazecom_gt_event_df.video.unique():\n",
    "    dtemp = gazecom_gt_event_df[(gazecom_gt_event_df.event == 2) & (gazecom_gt_event_df.video == video)]\n",
    "    num_vid_saccades[v] = len(dtemp)\n",
    "    num_vid_saccades_per_sub[v] = len(dtemp)/len(dtemp.subject.unique())\n",
    "    v += 1"
   ]
  },
  {
   "cell_type": "code",
   "execution_count": null,
   "metadata": {},
   "outputs": [],
   "source": [
    "track_return = []\n",
    "for video in tqdm(df_events_foveation.video.unique()):\n",
    "    single_track_return = []\n",
    "    for subject in df_events_foveation.subject.unique(): \n",
    "        dtemp = df_events_foveation[(df_events_foveation['video']==video)&(df_events_foveation['subject']==subject)]  \n",
    "        non_unique_tracks = dtemp.panoptic_track.value_counts()[(dtemp.panoptic_track.value_counts().values > 1)].index\n",
    "        for track_id in non_unique_tracks:\n",
    "            single_track_return.append(dtemp.event_id[dtemp.panoptic_track == track_id].diff(periods=1).values[1:])\n",
    "            #track_return.append(single_track_return[1:])\n",
    "    if (len(single_track_return) != 0):\n",
    "        track_return.append(np.hstack(single_track_return))\n",
    "    else: \n",
    "        track_return.append(np.nan)\n"
   ]
  },
  {
   "cell_type": "code",
   "execution_count": null,
   "metadata": {},
   "outputs": [],
   "source": [
    "saccades_within_object = [(np.sum(track_return[i] == 2)/num_vid_saccades[i]) for i in range(0,18)]\n",
    "saccades_return = [(np.sum(track_return[i] != 2)/num_vid_saccades[i]) for i in range(0,18)]\n",
    "\n",
    "video_names = df_post_saccade.video.unique()\n",
    "df_bar = pd.DataFrame({'Saccades within Objects': np.array(saccades_within_object)*100,\n",
    "                        'Saccades returning to know Objects': np.array(saccades_return)*100\n",
    "                        }\n",
    "                        ,index = video_names)\n",
    "df_bar = df_bar.sort_index(ascending=False)\n",
    "ax = df_bar.plot(kind='barh',rot=0, fontsize=12, figsize=(12,8), width=0.7)\n",
    "plt.legend(loc=1, facecolor='white', framealpha=1, fontsize=14)\n",
    "\n",
    "vals = plt.xticks()\n",
    "for tick in vals[0]:\n",
    "    plt.axvline(x=tick, linestyle='dashed', alpha=0.4, color='#eeeeee', zorder=1)\n",
    "plt.xlabel(\"Saccades exploring know Objects [%]\",labelpad=10, weight='bold', size=14)\n",
    "plt.tight_layout()\n",
    "#plt.xlim(0,100)\n",
    "plt.tick_params(axis=\"both\", which=\"both\", bottom=\"off\", top=\"off\", labelbottom=\"on\", left=\"off\", right=\"off\", labelleft=\"on\")\n",
    "plt.savefig('/Users/timschroder/Documents/Uni/Bachelorarbeit/thesis/images/saccades_within_objects.png', dpi=500)"
   ]
  },
  {
   "cell_type": "code",
   "execution_count": null,
   "metadata": {},
   "outputs": [],
   "source": [
    "print('Saccades made within Objects: ', np.mean(saccades_within_object))\n",
    "print('Saccades returning to know Objects: ', np.mean(saccades_return))"
   ]
  },
  {
   "cell_type": "code",
   "execution_count": null,
   "metadata": {},
   "outputs": [],
   "source": []
  }
 ]
}