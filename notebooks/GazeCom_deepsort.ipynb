{
 "cells": [
  {
   "cell_type": "code",
   "execution_count": 1,
   "metadata": {},
   "outputs": [],
   "source": [
    "from pathlib import Path\n",
    "import glob\n",
    "import numpy as np\n",
    "import tables \n",
    "import matplotlib.pyplot as plt\n",
    "from scipy.spatial.distance import euclidean\n",
    "from scipy.ndimage.measurements import center_of_mass\n",
    "from tqdm.notebook import tqdm"
   ]
  },
  {
   "cell_type": "code",
   "execution_count": 2,
   "metadata": {},
   "outputs": [
    {
     "output_type": "execute_result",
     "data": {
      "text/plain": "['/Users/timschroder/Documents/Uni/Bachelorarbeit/project_results.nosync/mrcnn/beach_out.h5',\n '/Users/timschroder/Documents/Uni/Bachelorarbeit/project_results.nosync/mrcnn/breite_strasse_out.h5',\n '/Users/timschroder/Documents/Uni/Bachelorarbeit/project_results.nosync/mrcnn/bridge_1_out.h5',\n '/Users/timschroder/Documents/Uni/Bachelorarbeit/project_results.nosync/mrcnn/bridge_2_out.h5',\n '/Users/timschroder/Documents/Uni/Bachelorarbeit/project_results.nosync/mrcnn/bumblebee_out.h5',\n '/Users/timschroder/Documents/Uni/Bachelorarbeit/project_results.nosync/mrcnn/doves_out.h5',\n '/Users/timschroder/Documents/Uni/Bachelorarbeit/project_results.nosync/mrcnn/ducks_boat_out.h5',\n '/Users/timschroder/Documents/Uni/Bachelorarbeit/project_results.nosync/mrcnn/ducks_children_out.h5',\n '/Users/timschroder/Documents/Uni/Bachelorarbeit/project_results.nosync/mrcnn/golf_out.h5',\n '/Users/timschroder/Documents/Uni/Bachelorarbeit/project_results.nosync/mrcnn/holsten_gate_out.h5',\n '/Users/timschroder/Documents/Uni/Bachelorarbeit/project_results.nosync/mrcnn/koenigstrasse_out.h5',\n '/Users/timschroder/Documents/Uni/Bachelorarbeit/project_results.nosync/mrcnn/puppies_out.h5',\n '/Users/timschroder/Documents/Uni/Bachelorarbeit/project_results.nosync/mrcnn/roundabout_out.h5',\n '/Users/timschroder/Documents/Uni/Bachelorarbeit/project_results.nosync/mrcnn/sea_out.h5',\n '/Users/timschroder/Documents/Uni/Bachelorarbeit/project_results.nosync/mrcnn/st_petri_gate_out.h5',\n '/Users/timschroder/Documents/Uni/Bachelorarbeit/project_results.nosync/mrcnn/st_petri_market_out.h5',\n '/Users/timschroder/Documents/Uni/Bachelorarbeit/project_results.nosync/mrcnn/st_petri_mcdonalds_out.h5',\n '/Users/timschroder/Documents/Uni/Bachelorarbeit/project_results.nosync/mrcnn/street_out.h5']"
     },
     "metadata": {},
     "execution_count": 2
    }
   ],
   "source": [
    "RESULTS_DIR = '/Users/timschroder/Documents/Uni/Bachelorarbeit/project_results.nosync/mrcnn'\n",
    "WORKING_DIR = os.getcwd()\n",
    "CODE_DIR = os.path.abspath(os.path.join(WORKING_DIR, os.pardir))\n",
    "h5py_path_list = [h5py for h5py in glob.glob(RESULTS_DIR + '/*h5')]\n",
    "h5py_path_list.sort()\n",
    "h5py_path_list"
   ]
  },
  {
   "cell_type": "code",
   "execution_count": 4,
   "metadata": {
    "tags": []
   },
   "outputs": [
    {
     "output_type": "stream",
     "name": "stdout",
     "text": "CODE_DIR:  /Users/timschroder/Documents/Uni/Bachelorarbeit/project_code/final_code\nPROJECT_DIR:  /Users/timschroder/Documents/Uni/Bachelorarbeit/project_code\nDATA_DIR:  /Users/timschroder/Documents/Uni/Bachelorarbeit/project_code/project_data.nosync/LUEBECK/\nRESULTS_DIR:  /Users/timschroder/Documents/Uni/Bachelorarbeit/project_code/project_results.nosync/LUEBECK/\nDEEPSORT_DIR:  /Users/timschroder/Documents/Uni/Bachelorarbeit/project_code/final_code/deep_sort/\n"
    },
    {
     "output_type": "execute_result",
     "data": {
      "text/plain": "[]"
     },
     "metadata": {},
     "execution_count": 4
    }
   ],
   "source": [
    "DATASET = 'LUEBECK/'\n",
    "hpc = False\n",
    "\n",
    "DIR = Path(os.path.dirname(os.path.realpath('__file__')))#.parent\n",
    "if (DIR== Path('/beegfs/home/users/t/tim.schroeder/')):\n",
    "    CODE_DIR = os.path.join(DIR, 'object_rep/project_code/') \n",
    "    hpc = True\n",
    "else: \n",
    "    CODE_DIR = DIR\n",
    "\n",
    "print('CODE_DIR: ', CODE_DIR)\n",
    "PROJECT_DIR = Path(CODE_DIR).parent\n",
    "print('PROJECT_DIR: ', PROJECT_DIR)\n",
    "DATA_DIR = os.path.join(PROJECT_DIR, 'project_data.nosync/', DATASET)\n",
    "print('DATA_DIR: ', DATA_DIR)\n",
    "RESULTS_DIR = os.path.join(PROJECT_DIR, 'project_results.nosync/',DATASET)\n",
    "D_DIR = os.path.join(PROJECT_DIR, 'project_results.nosync/',DATASET,'panoptic-seg/')\n",
    "print('RESULTS_DIR: ', RESULTS_DIR)\n",
    "\n",
    "DEEPSORT_DIR = os.path.join(CODE_DIR, \"deep_sort/\")\n",
    "print('DEEPSORT_DIR: ', DEEPSORT_DIR)\n",
    "\n",
    "sys.path.append(DEEPSORT_DIR)\n",
    "\n",
    "video_path_list = [video for video in glob.glob(DATA_DIR + '/*')]\n",
    "video_path_list.sort()\n",
    "\n",
    "h5py_path_list = [video for video in glob.glob(RESULTS_DIR + 'mrcnn/*.h5')]\n",
    "h5py_path_list.sort()\n",
    "h5py_path_list"
   ]
  },
  {
   "cell_type": "markdown",
   "metadata": {},
   "source": [
    "## Save single frames from videos for DEEP Sort"
   ]
  },
  {
   "cell_type": "code",
   "execution_count": 86,
   "metadata": {
    "tags": []
   },
   "outputs": [
    {
     "output_type": "stream",
     "name": "stdout",
     "text": "st_petri_mcdonalds\nstreet\n"
    }
   ],
   "source": [
    "import cv2\n",
    "for video_path in video_path_list:\n",
    "    \n",
    "    video_name = os.path.splitext(os.path.basename(video_path))[0]\n",
    "    print(video_name)\n",
    "    VID_DIR = DEEPSORT_DIR+'LUEBECK.nosync/'+ video_name\n",
    "    if os.path.exists(VID_DIR) == False:\n",
    "        os.mkdir(VID_DIR)   \n",
    "    \n",
    "    vidcap = cv2.VideoCapture(video_path)\n",
    "    success,image = vidcap.read()\n",
    "    \n",
    "    IMG_DIR = VID_DIR + '/img1/'\n",
    "    if os.path.exists(IMG_DIR) == False:\n",
    "        os.mkdir(IMG_DIR) \n",
    "    count = 0\n",
    "    while success:\n",
    "        cv2.imwrite(IMG_DIR+'%06d.jpg' % count, image)     # save frame as JPEG file      \n",
    "        success,image = vidcap.read()\n",
    "        count += 1\n",
    "    \n",
    "    vidcap.release(); del vidcap"
   ]
  },
  {
   "cell_type": "markdown",
   "metadata": {},
   "source": [
    "## Convert .h5py (from MRCNN) --> .txt (for DEEP SORT)"
   ]
  },
  {
   "cell_type": "code",
   "execution_count": 5,
   "metadata": {
    "tags": []
   },
   "outputs": [
    {
     "output_type": "error",
     "ename": "IndexError",
     "evalue": "list index out of range",
     "traceback": [
      "\u001b[0;31m---------------------------------------------------------------------------\u001b[0m",
      "\u001b[0;31mIndexError\u001b[0m                                Traceback (most recent call last)",
      "\u001b[0;32m<ipython-input-5-88d5d856129b>\u001b[0m in \u001b[0;36m<module>\u001b[0;34m\u001b[0m\n\u001b[0;32m----> 1\u001b[0;31m \u001b[0;32mfor\u001b[0m \u001b[0mfilename\u001b[0m \u001b[0;32min\u001b[0m \u001b[0mh5py_path_list\u001b[0m\u001b[0;34m[\u001b[0m\u001b[0;36m12\u001b[0m\u001b[0;34m]\u001b[0m\u001b[0;34m:\u001b[0m\u001b[0;34m\u001b[0m\u001b[0;34m\u001b[0m\u001b[0m\n\u001b[0m\u001b[1;32m      2\u001b[0m     \u001b[0mvideo_name\u001b[0m \u001b[0;34m=\u001b[0m \u001b[0mos\u001b[0m\u001b[0;34m.\u001b[0m\u001b[0mpath\u001b[0m\u001b[0;34m.\u001b[0m\u001b[0msplitext\u001b[0m\u001b[0;34m(\u001b[0m\u001b[0mos\u001b[0m\u001b[0;34m.\u001b[0m\u001b[0mpath\u001b[0m\u001b[0;34m.\u001b[0m\u001b[0mbasename\u001b[0m\u001b[0;34m(\u001b[0m\u001b[0mfilename\u001b[0m\u001b[0;34m)\u001b[0m\u001b[0;34m)\u001b[0m\u001b[0;34m[\u001b[0m\u001b[0;36m0\u001b[0m\u001b[0;34m]\u001b[0m\u001b[0;34m\u001b[0m\u001b[0;34m\u001b[0m\u001b[0m\n\u001b[1;32m      3\u001b[0m     \u001b[0mvideo_name\u001b[0m \u001b[0;34m=\u001b[0m \u001b[0mvideo_name\u001b[0m\u001b[0;34m[\u001b[0m\u001b[0;34m:\u001b[0m\u001b[0;34m-\u001b[0m\u001b[0;36m4\u001b[0m\u001b[0;34m]\u001b[0m\u001b[0;34m\u001b[0m\u001b[0;34m\u001b[0m\u001b[0m\n\u001b[1;32m      4\u001b[0m     \u001b[0mprint\u001b[0m\u001b[0;34m(\u001b[0m\u001b[0mvideo_name\u001b[0m\u001b[0;34m)\u001b[0m\u001b[0;34m\u001b[0m\u001b[0;34m\u001b[0m\u001b[0m\n\u001b[1;32m      5\u001b[0m     \u001b[0mVID_DIR\u001b[0m \u001b[0;34m=\u001b[0m \u001b[0mDEEPSORT_DIR\u001b[0m\u001b[0;34m+\u001b[0m\u001b[0;34m'LUEBECK.nosync/'\u001b[0m\u001b[0;34m+\u001b[0m \u001b[0mvideo_name\u001b[0m\u001b[0;34m\u001b[0m\u001b[0;34m\u001b[0m\u001b[0m\n",
      "\u001b[0;31mIndexError\u001b[0m: list index out of range"
     ]
    }
   ],
   "source": [
    "for filename in h5py_path_list:\n",
    "    video_name = os.path.splitext(os.path.basename(filename))[0]\n",
    "    video_name = video_name[:-4]\n",
    "    print(video_name)\n",
    "    VID_DIR = DEEPSORT_DIR+'LUEBECK.nosync/'+ video_name\n",
    "    OUT_DIR = VID_DIR + '/det/'\n",
    "    if os.path.exists(OUT_DIR) == False:\n",
    "        os.mkdir(OUT_DIR) \n",
    "\n",
    "    f = tables.open_file(filename, mode='r')\n",
    "    pred_boxes = f.root.pred_boxes[:]\n",
    "    scores = f.root.scores[:]\n",
    "    f.close()\n",
    "\n",
    "    frame_id = range(0,int(scores.shape[0]/100))\n",
    "    frame_nr = np.repeat(frame_id,100).reshape(len(frame_id)*100,1)\n",
    "    \n",
    "    for i in range(len(pred_boxes)):\n",
    "        box = pred_boxes[i]\n",
    "        x_min = min(box[0],box[2])\n",
    "        x_max = max(box[0],box[2])\n",
    "        y_min = min(box[1],box[3])\n",
    "        y_max = max(box[1],box[3])\n",
    "        w = x_max - x_min\n",
    "        h = y_max - y_min\n",
    "        pred_boxes[i] = [x_min,y_min,w,h]\n",
    "\n",
    "    results = np.concatenate((frame_nr,pred_boxes, scores), axis=1)\n",
    "    results = results[~np.isnan(results).any(axis=1)]\n",
    "    output_file = OUT_DIR + 'det.txt'\n",
    "    print(output_file)\n",
    "    f = open(output_file, 'w')\n",
    "    for row in results:\n",
    "        print('%d,-1,%.2f,%.2f,%.2f,%.2f,%.2f,-1,-1,-1' % (row[0], row[1], row[2], row[3], row[4], row[5]),file=f)\n",
    "  "
   ]
  },
  {
   "cell_type": "markdown",
   "metadata": {},
   "source": [
    "## Generate DEEP Sort Detections (.npy) from det.txt"
   ]
  },
  {
   "cell_type": "code",
   "execution_count": 97,
   "metadata": {
    "tags": [
     "outputPrepend"
    ]
   },
   "outputs": [
    {
     "output_type": "stream",
     "name": "stdout",
     "text": "5\nFrame 00082/00595\nFrame 00083/00595\nFrame 00084/00595\nFrame 00085/00595\nFrame 00086/00595\nFrame 00087/00595\nFrame 00088/00595\nFrame 00089/00595\nFrame 00090/00595\nFrame 00091/00595\nFrame 00092/00595\nFrame 00093/00595\nFrame 00094/00595\nFrame 00095/00595\nFrame 00096/00595\nFrame 00097/00595\nFrame 00098/00595\nFrame 00099/00595\nFrame 00100/00595\nFrame 00101/00595\nFrame 00102/00595\nFrame 00103/00595\nFrame 00104/00595\nFrame 00105/00595\nFrame 00106/00595\nFrame 00107/00595\nFrame 00108/00595\nFrame 00109/00595\nFrame 00110/00595\nFrame 00111/00595\nFrame 00112/00595\nFrame 00113/00595\nFrame 00114/00595\nFrame 00115/00595\nFrame 00116/00595\nFrame 00117/00595\nFrame 00118/00595\nFrame 00119/00595\nFrame 00120/00595\nFrame 00121/00595\nFrame 00122/00595\nFrame 00123/00595\nFrame 00124/00595\nFrame 00125/00595\nFrame 00126/00595\nFrame 00127/00595\nFrame 00128/00595\nFrame 00129/00595\nFrame 00130/00595\nFrame 00131/00595\nFrame 00132/00595\nFrame 00133/00595\nFrame 00134/00595\nFrame 00135/00595\nFrame 00136/00595\nFrame 00137/00595\nFrame 00138/00595\nFrame 00139/00595\nFrame 00140/00595\nFrame 00141/00595\nFrame 00142/00595\nFrame 00143/00595\nFrame 00144/00595\nFrame 00145/00595\nFrame 00146/00595\nFrame 00147/00595\nFrame 00148/00595\nFrame 00149/00595\nFrame 00150/00595\nFrame 00151/00595\nFrame 00152/00595\nFrame 00153/00595\nFrame 00154/00595\nFrame 00155/00595\nFrame 00156/00595\nFrame 00157/00595\nFrame 00158/00595\nFrame 00159/00595\nFrame 00160/00595\nFrame 00161/00595\nFrame 00162/00595\nFrame 00163/00595\nFrame 00164/00595\nFrame 00165/00595\nFrame 00166/00595\nFrame 00167/00595\nFrame 00168/00595\nFrame 00169/00595\nFrame 00170/00595\nFrame 00171/00595\nFrame 00172/00595\nFrame 00173/00595\nFrame 00174/00595\nFrame 00175/00595\nFrame 00176/00595\nFrame 00177/00595\nFrame 00178/00595\nFrame 00179/00595\nFrame 00180/00595\nFrame 00181/00595\nFrame 00182/00595\nFrame 00183/00595\nFrame 00184/00595\nFrame 00185/00595\nFrame 00186/00595\nFrame 00187/00595\nFrame 00188/00595\nFrame 00189/00595\nFrame 00190/00595\nFrame 00191/00595\nFrame 00192/00595\nFrame 00193/00595\nFrame 00194/00595\nFrame 00195/00595\nFrame 00196/00595\nFrame 00197/00595\nFrame 00198/00595\nFrame 00199/00595\nFrame 00200/00595\nFrame 00201/00595\nFrame 00202/00595\nFrame 00203/00595\nFrame 00204/00595\nFrame 00205/00595\nFrame 00206/00595\nFrame 00207/00595\nFrame 00208/00595\nFrame 00209/00595\nFrame 00210/00595\nFrame 00211/00595\nFrame 00212/00595\nFrame 00213/00595\nFrame 00214/00595\nFrame 00215/00595\nFrame 00216/00595\nFrame 00217/00595\nFrame 00218/00595\nFrame 00219/00595\nFrame 00220/00595\nFrame 00221/00595\nFrame 00222/00595\nFrame 00223/00595\nFrame 00224/00595\nFrame 00225/00595\nFrame 00226/00595\nFrame 00227/00595\nFrame 00228/00595\nFrame 00229/00595\nFrame 00230/00595\nFrame 00231/00595\nFrame 00232/00595\nFrame 00233/00595\nFrame 00234/00595\nFrame 00235/00595\nFrame 00236/00595\nFrame 00237/00595\nFrame 00238/00595\nFrame 00239/00595\nFrame 00240/00595\nFrame 00241/00595\nFrame 00242/00595\nFrame 00243/00595\nFrame 00244/00595\nFrame 00245/00595\nFrame 00246/00595\nFrame 00247/00595\nFrame 00248/00595\nFrame 00249/00595\nFrame 00250/00595\nFrame 00251/00595\nFrame 00252/00595\nFrame 00253/00595\nFrame 00254/00595\nFrame 00255/00595\nFrame 00256/00595\nFrame 00257/00595\nFrame 00258/00595\nFrame 00259/00595\nFrame 00260/00595\nFrame 00261/00595\nFrame 00262/00595\nFrame 00263/00595\nFrame 00264/00595\nFrame 00265/00595\nFrame 00266/00595\nFrame 00267/00595\nFrame 00268/00595\nFrame 00269/00595\nFrame 00270/00595\nFrame 00271/00595\nFrame 00272/00595\nFrame 00273/00595\nFrame 00274/00595\nFrame 00275/00595\nFrame 00276/00595\nFrame 00277/00595\nFrame 00278/00595\nFrame 00279/00595\nFrame 00280/00595\nFrame 00281/00595\nFrame 00282/00595\nFrame 00283/00595\nFrame 00284/00595\nFrame 00285/00595\nFrame 00286/00595\nFrame 00287/00595\nFrame 00288/00595\nFrame 00289/00595\nFrame 00290/00595\nFrame 00291/00595\nFrame 00292/00595\nFrame 00293/00595\nFrame 00294/00595\nFrame 00295/00595\nFrame 00296/00595\nFrame 00297/00595\nFrame 00298/00595\nFrame 00299/00595\nFrame 00300/00595\nFrame 00301/00595\nFrame 00302/00595\nFrame 00303/00595\nFrame 00304/00595\nFrame 00305/00595\nFrame 00306/00595\nFrame 00307/00595\nFrame 00308/00595\nFrame 00309/00595\nFrame 00310/00595\nFrame 00311/00595\nFrame 00312/00595\nFrame 00313/00595\nFrame 00314/00595\nFrame 00315/00595\nFrame 00316/00595\nFrame 00317/00595\nFrame 00318/00595\nFrame 00319/00595\nFrame 00320/00595\nFrame 00321/00595\nFrame 00322/00595\nFrame 00323/00595\nFrame 00324/00595\nFrame 00325/00595\nFrame 00326/00595\nFrame 00327/00595\nFrame 00328/00595\nFrame 00329/00595\nFrame 00330/00595\nFrame 00331/00595\nFrame 00332/00595\nFrame 00333/00595\nFrame 00334/00595\nFrame 00335/00595\nFrame 00336/00595\nFrame 00337/00595\nFrame 00338/00595\nFrame 00339/00595\nFrame 00340/00595\nFrame 00341/00595\nFrame 00342/00595\nFrame 00343/00595\nFrame 00344/00595\nFrame 00345/00595\nFrame 00346/00595\nFrame 00347/00595\nFrame 00348/00595\nFrame 00349/00595\nFrame 00350/00595\nFrame 00351/00595\nFrame 00352/00595\nFrame 00353/00595\nFrame 00354/00595\nFrame 00355/00595\nFrame 00356/00595\nFrame 00357/00595\nFrame 00358/00595\nFrame 00359/00595\nFrame 00360/00595\nFrame 00361/00595\nFrame 00362/00595\nFrame 00363/00595\nFrame 00364/00595\nFrame 00365/00595\nFrame 00366/00595\nFrame 00367/00595\nFrame 00368/00595\nFrame 00369/00595\nFrame 00370/00595\nFrame 00371/00595\nFrame 00372/00595\nFrame 00373/00595\nFrame 00374/00595\nFrame 00375/00595\nFrame 00376/00595\nFrame 00377/00595\nFrame 00378/00595\nFrame 00379/00595\nFrame 00380/00595\nFrame 00381/00595\nFrame 00382/00595\nFrame 00383/00595\nFrame 00384/00595\nFrame 00385/00595\nFrame 00386/00595\nFrame 00387/00595\nFrame 00388/00595\nFrame 00389/00595\nFrame 00390/00595\nFrame 00391/00595\nFrame 00392/00595\nFrame 00393/00595\nFrame 00394/00595\nFrame 00395/00595\nFrame 00396/00595\nFrame 00397/00595\nFrame 00398/00595\nFrame 00399/00595\nFrame 00400/00595\nFrame 00401/00595\nFrame 00402/00595\nFrame 00403/00595\nFrame 00404/00595\nFrame 00405/00595\nFrame 00406/00595\nFrame 00407/00595\nFrame 00408/00595\nFrame 00409/00595\nFrame 00410/00595\nFrame 00411/00595\nFrame 00412/00595\nFrame 00413/00595\nFrame 00414/00595\nFrame 00415/00595\nFrame 00416/00595\nFrame 00417/00595\nFrame 00418/00595\nFrame 00419/00595\nFrame 00420/00595\nFrame 00421/00595\nFrame 00422/00595\nFrame 00423/00595\nFrame 00424/00595\nFrame 00425/00595\nFrame 00426/00595\nFrame 00427/00595\nFrame 00428/00595\nFrame 00429/00595\nFrame 00430/00595\nFrame 00431/00595\nFrame 00432/00595\nFrame 00433/00595\nFrame 00434/00595\nFrame 00435/00595\nFrame 00436/00595\nFrame 00437/00595\nFrame 00438/00595\nFrame 00439/00595\nFrame 00440/00595\nFrame 00441/00595\nFrame 00442/00595\nFrame 00443/00595\nFrame 00444/00595\nFrame 00445/00595\nFrame 00446/00595\nFrame 00447/00595\nFrame 00448/00595\nFrame 00449/00595\nFrame 00450/00595\nFrame 00451/00595\nFrame 00452/00595\nFrame 00453/00595\nFrame 00454/00595\nFrame 00455/00595\nFrame 00456/00595\nFrame 00457/00595\nFrame 00458/00595\nFrame 00459/00595\nFrame 00460/00595\nFrame 00461/00595\nFrame 00462/00595\nFrame 00463/00595\nFrame 00464/00595\nFrame 00465/00595\nFrame 00466/00595\nFrame 00467/00595\nFrame 00468/00595\nFrame 00469/00595\nFrame 00470/00595\nFrame 00471/00595\nFrame 00472/00595\nFrame 00473/00595\nFrame 00474/00595\nFrame 00475/00595\nFrame 00476/00595\nFrame 00477/00595\nFrame 00478/00595\nFrame 00479/00595\nFrame 00480/00595\nFrame 00481/00595\nFrame 00482/00595\nFrame 00483/00595\nFrame 00484/00595\nFrame 00485/00595\nFrame 00486/00595\nFrame 00487/00595\nFrame 00488/00595\nFrame 00489/00595\nFrame 00490/00595\nFrame 00491/00595\nFrame 00492/00595\nFrame 00493/00595\nFrame 00494/00595\nFrame 00495/00595\nFrame 00496/00595\nFrame 00497/00595\nFrame 00498/00595\nFrame 00499/00595\nFrame 00500/00595\nFrame 00501/00595\nFrame 00502/00595\nFrame 00503/00595\nFrame 00504/00595\nFrame 00505/00595\nFrame 00506/00595\nFrame 00507/00595\nFrame 00508/00595\nFrame 00509/00595\nFrame 00510/00595\nFrame 00511/00595\nFrame 00512/00595\nFrame 00513/00595\nFrame 00514/00595\nFrame 00515/00595\nFrame 00516/00595\nFrame 00517/00595\nFrame 00518/00595\nFrame 00519/00595\nFrame 00520/00595\nFrame 00521/00595\nFrame 00522/00595\nFrame 00523/00595\nFrame 00524/00595\nFrame 00525/00595\nFrame 00526/00595\nFrame 00527/00595\nFrame 00528/00595\nFrame 00529/00595\nFrame 00530/00595\nFrame 00531/00595\nFrame 00532/00595\nFrame 00533/00595\nFrame 00534/00595\nFrame 00535/00595\nFrame 00536/00595\nFrame 00537/00595\nFrame 00538/00595\nFrame 00539/00595\nFrame 00540/00595\nFrame 00541/00595\nFrame 00542/00595\nFrame 00543/00595\nFrame 00544/00595\nFrame 00545/00595\nFrame 00546/00595\nFrame 00547/00595\nFrame 00548/00595\nFrame 00549/00595\nFrame 00550/00595\nFrame 00551/00595\nFrame 00552/00595\nFrame 00553/00595\nFrame 00554/00595\nFrame 00555/00595\nFrame 00556/00595\nFrame 00557/00595\nFrame 00558/00595\nFrame 00559/00595\nFrame 00560/00595\nFrame 00561/00595\nFrame 00562/00595\nFrame 00563/00595\nFrame 00564/00595\nFrame 00565/00595\nFrame 00566/00595\nFrame 00567/00595\nFrame 00568/00595\nFrame 00569/00595\nFrame 00570/00595\nFrame 00571/00595\nFrame 00572/00595\nFrame 00573/00595\nFrame 00574/00595\nFrame 00575/00595\nFrame 00576/00595\nFrame 00577/00595\nFrame 00578/00595\nFrame 00579/00595\nFrame 00580/00595\nFrame 00581/00595\nFrame 00582/00595\nFrame 00583/00595\nFrame 00584/00595\nFrame 00585/00595\nFrame 00586/00595\nFrame 00587/00595\nFrame 00588/00595\nFrame 00589/00595\nFrame 00590/00595\nFrame 00591/00595\nFrame 00592/00595\nFrame 00593/00595\nFrame 00594/00595\nFrame 00595/00595\nProcessing street\nFrame 00000/00595\nFrame 00001/00595\nFrame 00002/00595\nFrame 00003/00595\nFrame 00004/00595\nFrame 00005/00595\nFrame 00006/00595\nFrame 00007/00595\nFrame 00008/00595\nFrame 00009/00595\nFrame 00010/00595\nFrame 00011/00595\nFrame 00012/00595\nFrame 00013/00595\nFrame 00014/00595\nFrame 00015/00595\nFrame 00016/00595\nFrame 00017/00595\nFrame 00018/00595\nFrame 00019/00595\nFrame 00020/00595\nFrame 00021/00595\nFrame 00022/00595\nFrame 00023/00595\nFrame 00024/00595\nFrame 00025/00595\nFrame 00026/00595\nFrame 00027/00595\nFrame 00028/00595\nFrame 00029/00595\nFrame 00030/00595\nFrame 00031/00595\nFrame 00032/00595\nFrame 00033/00595\nFrame 00034/00595\nFrame 00035/00595\nFrame 00036/00595\nFrame 00037/00595\nFrame 00038/00595\nFrame 00039/00595\nFrame 00040/00595\nFrame 00041/00595\nFrame 00042/00595\nFrame 00043/00595\nFrame 00044/00595\nFrame 00045/00595\nFrame 00046/00595\nFrame 00047/00595\nFrame 00048/00595\nFrame 00049/00595\nFrame 00050/00595\nFrame 00051/00595\nFrame 00052/00595\nFrame 00053/00595\nFrame 00054/00595\nFrame 00055/00595\nFrame 00056/00595\nFrame 00057/00595\nFrame 00058/00595\nFrame 00059/00595\nFrame 00060/00595\nFrame 00061/00595\nFrame 00062/00595\nFrame 00063/00595\nFrame 00064/00595\nFrame 00065/00595\nFrame 00066/00595\nFrame 00067/00595\nFrame 00068/00595\nFrame 00069/00595\nFrame 00070/00595\nFrame 00071/00595\nFrame 00072/00595\nFrame 00073/00595\nFrame 00074/00595\nFrame 00075/00595\nFrame 00076/00595\nFrame 00077/00595\nFrame 00078/00595\nFrame 00079/00595\nFrame 00080/00595\nFrame 00081/00595\nFrame 00082/00595\nFrame 00083/00595\nFrame 00084/00595\nFrame 00085/00595\nFrame 00086/00595\nFrame 00087/00595\nFrame 00088/00595\nFrame 00089/00595\nFrame 00090/00595\nFrame 00091/00595\nFrame 00092/00595\nFrame 00093/00595\nFrame 00094/00595\nFrame 00095/00595\nFrame 00096/00595\nFrame 00097/00595\nFrame 00098/00595\nFrame 00099/00595\nFrame 00100/00595\nFrame 00101/00595\nFrame 00102/00595\nFrame 00103/00595\nFrame 00104/00595\nFrame 00105/00595\nFrame 00106/00595\nFrame 00107/00595\nFrame 00108/00595\nFrame 00109/00595\nFrame 00110/00595\nFrame 00111/00595\nFrame 00112/00595\nFrame 00113/00595\nFrame 00114/00595\nFrame 00115/00595\nFrame 00116/00595\nFrame 00117/00595\nFrame 00118/00595\nFrame 00119/00595\nFrame 00120/00595\nFrame 00121/00595\nFrame 00122/00595\nFrame 00123/00595\nFrame 00124/00595\nFrame 00125/00595\nFrame 00126/00595\nFrame 00127/00595\nFrame 00128/00595\nFrame 00129/00595\nFrame 00130/00595\nFrame 00131/00595\nFrame 00132/00595\nFrame 00133/00595\nFrame 00134/00595\nFrame 00135/00595\nFrame 00136/00595\nFrame 00137/00595\nFrame 00138/00595\nFrame 00139/00595\nFrame 00140/00595\nFrame 00141/00595\nFrame 00142/00595\nFrame 00143/00595\nFrame 00144/00595\nFrame 00145/00595\nFrame 00146/00595\nFrame 00147/00595\nFrame 00148/00595\nFrame 00149/00595\nFrame 00150/00595\nFrame 00151/00595\nFrame 00152/00595\nFrame 00153/00595\nFrame 00154/00595\nFrame 00155/00595\nFrame 00156/00595\nFrame 00157/00595\nFrame 00158/00595\nFrame 00159/00595\nFrame 00160/00595\nFrame 00161/00595\nFrame 00162/00595\nFrame 00163/00595\nFrame 00164/00595\nFrame 00165/00595\nFrame 00166/00595\nFrame 00167/00595\nFrame 00168/00595\nFrame 00169/00595\nFrame 00170/00595\nFrame 00171/00595\nFrame 00172/00595\nFrame 00173/00595\nFrame 00174/00595\nFrame 00175/00595\nFrame 00176/00595\nFrame 00177/00595\nFrame 00178/00595\nFrame 00179/00595\nFrame 00180/00595\nFrame 00181/00595\nFrame 00182/00595\nFrame 00183/00595\nFrame 00184/00595\nFrame 00185/00595\nFrame 00186/00595\nFrame 00187/00595\nFrame 00188/00595\nFrame 00189/00595\nFrame 00190/00595\nFrame 00191/00595\nFrame 00192/00595\nFrame 00193/00595\nFrame 00194/00595\nFrame 00195/00595\nFrame 00196/00595\nFrame 00197/00595\nFrame 00198/00595\nFrame 00199/00595\nFrame 00200/00595\nFrame 00201/00595\nFrame 00202/00595\nFrame 00203/00595\nFrame 00204/00595\nFrame 00205/00595\nFrame 00206/00595\nFrame 00207/00595\nFrame 00208/00595\nFrame 00209/00595\nFrame 00210/00595\nFrame 00211/00595\nFrame 00212/00595\nFrame 00213/00595\nFrame 00214/00595\nFrame 00215/00595\nFrame 00216/00595\nFrame 00217/00595\nFrame 00218/00595\nFrame 00219/00595\nFrame 00220/00595\nFrame 00221/00595\nFrame 00222/00595\nFrame 00223/00595\nFrame 00224/00595\nFrame 00225/00595\nFrame 00226/00595\nFrame 00227/00595\nFrame 00228/00595\nFrame 00229/00595\nFrame 00230/00595\nFrame 00231/00595\nFrame 00232/00595\nFrame 00233/00595\nFrame 00234/00595\nFrame 00235/00595\nFrame 00236/00595\nFrame 00237/00595\nFrame 00238/00595\nFrame 00239/00595\nFrame 00240/00595\nFrame 00241/00595\nFrame 00242/00595\nFrame 00243/00595\nFrame 00244/00595\nFrame 00245/00595\nFrame 00246/00595\nFrame 00247/00595\nFrame 00248/00595\nFrame 00249/00595\nFrame 00250/00595\nFrame 00251/00595\nFrame 00252/00595\nFrame 00253/00595\nFrame 00254/00595\nFrame 00255/00595\nFrame 00256/00595\nFrame 00257/00595\nFrame 00258/00595\nFrame 00259/00595\nFrame 00260/00595\nFrame 00261/00595\nFrame 00262/00595\nFrame 00263/00595\nFrame 00264/00595\nFrame 00265/00595\nFrame 00266/00595\nFrame 00267/00595\nFrame 00268/00595\nFrame 00269/00595\nFrame 00270/00595\nFrame 00271/00595\nFrame 00272/00595\nFrame 00273/00595\nFrame 00274/00595\nFrame 00275/00595\nFrame 00276/00595\nFrame 00277/00595\nFrame 00278/00595\nFrame 00279/00595\nFrame 00280/00595\nFrame 00281/00595\nFrame 00282/00595\nFrame 00283/00595\nFrame 00284/00595\nFrame 00285/00595\nFrame 00286/00595\nFrame 00287/00595\nFrame 00288/00595\nFrame 00289/00595\nFrame 00290/00595\nFrame 00291/00595\nFrame 00292/00595\nFrame 00293/00595\nFrame 00294/00595\nFrame 00295/00595\nFrame 00296/00595\nFrame 00297/00595\nFrame 00298/00595\nFrame 00299/00595\nFrame 00300/00595\nFrame 00301/00595\nFrame 00302/00595\nFrame 00303/00595\nFrame 00304/00595\nFrame 00305/00595\nFrame 00306/00595\nFrame 00307/00595\nFrame 00308/00595\nFrame 00309/00595\nFrame 00310/00595\nFrame 00311/00595\nFrame 00312/00595\nFrame 00313/00595\nFrame 00314/00595\nFrame 00315/00595\nFrame 00316/00595\nFrame 00317/00595\nFrame 00318/00595\nFrame 00319/00595\nFrame 00320/00595\nFrame 00321/00595\nFrame 00322/00595\nFrame 00323/00595\nFrame 00324/00595\nFrame 00325/00595\nFrame 00326/00595\nFrame 00327/00595\nFrame 00328/00595\nFrame 00329/00595\nFrame 00330/00595\nFrame 00331/00595\nFrame 00332/00595\nFrame 00333/00595\nFrame 00334/00595\nFrame 00335/00595\nFrame 00336/00595\nFrame 00337/00595\nFrame 00338/00595\nFrame 00339/00595\nFrame 00340/00595\nFrame 00341/00595\nFrame 00342/00595\nFrame 00343/00595\nFrame 00344/00595\nFrame 00345/00595\nFrame 00346/00595\nFrame 00347/00595\nFrame 00348/00595\nFrame 00349/00595\nFrame 00350/00595\nFrame 00351/00595\nFrame 00352/00595\nFrame 00353/00595\nFrame 00354/00595\nFrame 00355/00595\nFrame 00356/00595\nFrame 00357/00595\nFrame 00358/00595\nFrame 00359/00595\nFrame 00360/00595\nFrame 00361/00595\nFrame 00362/00595\nFrame 00363/00595\nFrame 00364/00595\nFrame 00365/00595\nFrame 00366/00595\nFrame 00367/00595\nFrame 00368/00595\nFrame 00369/00595\nFrame 00370/00595\nFrame 00371/00595\nFrame 00372/00595\nFrame 00373/00595\nFrame 00374/00595\nFrame 00375/00595\nFrame 00376/00595\nFrame 00377/00595\nFrame 00378/00595\nFrame 00379/00595\nFrame 00380/00595\nFrame 00381/00595\nFrame 00382/00595\nFrame 00383/00595\nFrame 00384/00595\nFrame 00385/00595\nFrame 00386/00595\nFrame 00387/00595\nFrame 00388/00595\nFrame 00389/00595\nFrame 00390/00595\nFrame 00391/00595\nFrame 00392/00595\nFrame 00393/00595\nFrame 00394/00595\nFrame 00395/00595\nFrame 00396/00595\nFrame 00397/00595\nFrame 00398/00595\nFrame 00399/00595\nFrame 00400/00595\nFrame 00401/00595\nFrame 00402/00595\nFrame 00403/00595\nFrame 00404/00595\nFrame 00405/00595\nFrame 00406/00595\nFrame 00407/00595\nFrame 00408/00595\nFrame 00409/00595\nFrame 00410/00595\nFrame 00411/00595\nFrame 00412/00595\nFrame 00413/00595\nFrame 00414/00595\nFrame 00415/00595\nFrame 00416/00595\nFrame 00417/00595\nFrame 00418/00595\nFrame 00419/00595\nFrame 00420/00595\nFrame 00421/00595\nFrame 00422/00595\nFrame 00423/00595\nFrame 00424/00595\nFrame 00425/00595\nFrame 00426/00595\nFrame 00427/00595\nFrame 00428/00595\nFrame 00429/00595\nFrame 00430/00595\nFrame 00431/00595\nFrame 00432/00595\nFrame 00433/00595\nFrame 00434/00595\nFrame 00435/00595\nFrame 00436/00595\nFrame 00437/00595\nFrame 00438/00595\nFrame 00439/00595\nFrame 00440/00595\nFrame 00441/00595\nFrame 00442/00595\nFrame 00443/00595\nFrame 00444/00595\nFrame 00445/00595\nFrame 00446/00595\nFrame 00447/00595\nFrame 00448/00595\nFrame 00449/00595\nFrame 00450/00595\nFrame 00451/00595\nFrame 00452/00595\nFrame 00453/00595\nFrame 00454/00595\nFrame 00455/00595\nFrame 00456/00595\nFrame 00457/00595\nFrame 00458/00595\nFrame 00459/00595\nFrame 00460/00595\nFrame 00461/00595\nFrame 00462/00595\nFrame 00463/00595\nFrame 00464/00595\nFrame 00465/00595\nFrame 00466/00595\nFrame 00467/00595\nFrame 00468/00595\nFrame 00469/00595\nFrame 00470/00595\nFrame 00471/00595\nFrame 00472/00595\nFrame 00473/00595\nFrame 00474/00595\nFrame 00475/00595\nFrame 00476/00595\nFrame 00477/00595\nFrame 00478/00595\nFrame 00479/00595\nFrame 00480/00595\nFrame 00481/00595\nFrame 00482/00595\nFrame 00483/00595\nFrame 00484/00595\nFrame 00485/00595\nFrame 00486/00595\nFrame 00487/00595\nFrame 00488/00595\nFrame 00489/00595\nFrame 00490/00595\nFrame 00491/00595\nFrame 00492/00595\nFrame 00493/00595\nFrame 00494/00595\nFrame 00495/00595\nFrame 00496/00595\nFrame 00497/00595\nFrame 00498/00595\nFrame 00499/00595\nFrame 00500/00595\nFrame 00501/00595\nFrame 00502/00595\nFrame 00503/00595\nFrame 00504/00595\nFrame 00505/00595\nFrame 00506/00595\nFrame 00507/00595\nFrame 00508/00595\nFrame 00509/00595\nFrame 00510/00595\nFrame 00511/00595\nFrame 00512/00595\nFrame 00513/00595\nFrame 00514/00595\nFrame 00515/00595\nFrame 00516/00595\nFrame 00517/00595\nFrame 00518/00595\nFrame 00519/00595\nFrame 00520/00595\nFrame 00521/00595\nFrame 00522/00595\nFrame 00523/00595\nFrame 00524/00595\nFrame 00525/00595\nFrame 00526/00595\nFrame 00527/00595\nFrame 00528/00595\nFrame 00529/00595\nFrame 00530/00595\nFrame 00531/00595\nFrame 00532/00595\nFrame 00533/00595\nFrame 00534/00595\nFrame 00535/00595\nFrame 00536/00595\nFrame 00537/00595\nFrame 00538/00595\nFrame 00539/00595\nFrame 00540/00595\nFrame 00541/00595\nFrame 00542/00595\nFrame 00543/00595\nFrame 00544/00595\nFrame 00545/00595\nFrame 00546/00595\nFrame 00547/00595\nFrame 00548/00595\nFrame 00549/00595\nFrame 00550/00595\nFrame 00551/00595\nFrame 00552/00595\nFrame 00553/00595\nFrame 00554/00595\nFrame 00555/00595\nFrame 00556/00595\nFrame 00557/00595\nFrame 00558/00595\nFrame 00559/00595\nFrame 00560/00595\nFrame 00561/00595\nFrame 00562/00595\nFrame 00563/00595\nFrame 00564/00595\nFrame 00565/00595\nFrame 00566/00595\nFrame 00567/00595\nFrame 00568/00595\nFrame 00569/00595\nFrame 00570/00595\nFrame 00571/00595\nFrame 00572/00595\nFrame 00573/00595\nFrame 00574/00595\nFrame 00575/00595\nFrame 00576/00595\nFrame 00577/00595\nFrame 00578/00595\nFrame 00579/00595\nFrame 00580/00595\nFrame 00581/00595\nFrame 00582/00595\nFrame 00583/00595\nFrame 00584/00595\nFrame 00585/00595\nFrame 00586/00595\nFrame 00587/00595\nFrame 00588/00595\nFrame 00589/00595\nFrame 00590/00595\nFrame 00591/00595\nFrame 00592/00595\nFrame 00593/00595\nFrame 00594/00595\nFrame 00595/00595\n"
    }
   ],
   "source": [
    "!python /Users/timschroder/Documents/Uni/Bachelorarbeit/project_code/deep_sort/tools/generate_detections.py --model=/Users/timschroder/Documents/Uni/Bachelorarbeit/project_code/deep_sort/resources/networks/mars-small128.pb --mot_dir=/Users/timschroder/Documents/Uni/Bachelorarbeit/project_code/deep_sort/Test --output_dir=/Users/timschroder/Documents/Uni/Bachelorarbeit/project_code/deep_sort/Test/"
   ]
  },
  {
   "cell_type": "markdown",
   "metadata": {},
   "source": [
    "## Run deep_sort_app.py on all videos"
   ]
  },
  {
   "cell_type": "code",
   "execution_count": 2,
   "metadata": {
    "tags": [
     "outputPrepend"
    ]
   },
   "outputs": [
    {
     "output_type": "stream",
     "name": "stdout",
     "text": "ackages/sklearn/utils/linear_assignment_.py:127: DeprecationWarning: The linear_assignment function is deprecated in 0.21 and will be removed from 0.23. Use scipy.optimize.linear_sum_assignment instead.\n  DeprecationWarning)\nProcessing frame 00536\n/Applications/anaconda3/envs/torchenv/lib/python3.6/site-packages/sklearn/utils/linear_assignment_.py:127: DeprecationWarning: The linear_assignment function is deprecated in 0.21 and will be removed from 0.23. Use scipy.optimize.linear_sum_assignment instead.\n  DeprecationWarning)\n/Applications/anaconda3/envs/torchenv/lib/python3.6/site-packages/sklearn/utils/linear_assignment_.py:127: DeprecationWarning: The linear_assignment function is deprecated in 0.21 and will be removed from 0.23. Use scipy.optimize.linear_sum_assignment instead.\n  DeprecationWarning)\nProcessing frame 00537\n/Applications/anaconda3/envs/torchenv/lib/python3.6/site-packages/sklearn/utils/linear_assignment_.py:127: DeprecationWarning: The linear_assignment function is deprecated in 0.21 and will be removed from 0.23. Use scipy.optimize.linear_sum_assignment instead.\n  DeprecationWarning)\nProcessing frame 00538\n/Applications/anaconda3/envs/torchenv/lib/python3.6/site-packages/sklearn/utils/linear_assignment_.py:127: DeprecationWarning: The linear_assignment function is deprecated in 0.21 and will be removed from 0.23. Use scipy.optimize.linear_sum_assignment instead.\n  DeprecationWarning)\n/Applications/anaconda3/envs/torchenv/lib/python3.6/site-packages/sklearn/utils/linear_assignment_.py:127: DeprecationWarning: The linear_assignment function is deprecated in 0.21 and will be removed from 0.23. Use scipy.optimize.linear_sum_assignment instead.\n  DeprecationWarning)\nProcessing frame 00539\n/Applications/anaconda3/envs/torchenv/lib/python3.6/site-packages/sklearn/utils/linear_assignment_.py:127: DeprecationWarning: The linear_assignment function is deprecated in 0.21 and will be removed from 0.23. Use scipy.optimize.linear_sum_assignment instead.\n  DeprecationWarning)\nProcessing frame 00540\n/Applications/anaconda3/envs/torchenv/lib/python3.6/site-packages/sklearn/utils/linear_assignment_.py:127: DeprecationWarning: The linear_assignment function is deprecated in 0.21 and will be removed from 0.23. Use scipy.optimize.linear_sum_assignment instead.\n  DeprecationWarning)\nProcessing frame 00541\n/Applications/anaconda3/envs/torchenv/lib/python3.6/site-packages/sklearn/utils/linear_assignment_.py:127: DeprecationWarning: The linear_assignment function is deprecated in 0.21 and will be removed from 0.23. Use scipy.optimize.linear_sum_assignment instead.\n  DeprecationWarning)\nProcessing frame 00542\n/Applications/anaconda3/envs/torchenv/lib/python3.6/site-packages/sklearn/utils/linear_assignment_.py:127: DeprecationWarning: The linear_assignment function is deprecated in 0.21 and will be removed from 0.23. Use scipy.optimize.linear_sum_assignment instead.\n  DeprecationWarning)\nProcessing frame 00543\n/Applications/anaconda3/envs/torchenv/lib/python3.6/site-packages/sklearn/utils/linear_assignment_.py:127: DeprecationWarning: The linear_assignment function is deprecated in 0.21 and will be removed from 0.23. Use scipy.optimize.linear_sum_assignment instead.\n  DeprecationWarning)\nProcessing frame 00544\n/Applications/anaconda3/envs/torchenv/lib/python3.6/site-packages/sklearn/utils/linear_assignment_.py:127: DeprecationWarning: The linear_assignment function is deprecated in 0.21 and will be removed from 0.23. Use scipy.optimize.linear_sum_assignment instead.\n  DeprecationWarning)\nProcessing frame 00545\n/Applications/anaconda3/envs/torchenv/lib/python3.6/site-packages/sklearn/utils/linear_assignment_.py:127: DeprecationWarning: The linear_assignment function is deprecated in 0.21 and will be removed from 0.23. Use scipy.optimize.linear_sum_assignment instead.\n  DeprecationWarning)\nProcessing frame 00546\n/Applications/anaconda3/envs/torchenv/lib/python3.6/site-packages/sklearn/utils/linear_assignment_.py:127: DeprecationWarning: The linear_assignment function is deprecated in 0.21 and will be removed from 0.23. Use scipy.optimize.linear_sum_assignment instead.\n  DeprecationWarning)\nProcessing frame 00547\n/Applications/anaconda3/envs/torchenv/lib/python3.6/site-packages/sklearn/utils/linear_assignment_.py:127: DeprecationWarning: The linear_assignment function is deprecated in 0.21 and will be removed from 0.23. Use scipy.optimize.linear_sum_assignment instead.\n  DeprecationWarning)\nProcessing frame 00548\n/Applications/anaconda3/envs/torchenv/lib/python3.6/site-packages/sklearn/utils/linear_assignment_.py:127: DeprecationWarning: The linear_assignment function is deprecated in 0.21 and will be removed from 0.23. Use scipy.optimize.linear_sum_assignment instead.\n  DeprecationWarning)\nProcessing frame 00549\n/Applications/anaconda3/envs/torchenv/lib/python3.6/site-packages/sklearn/utils/linear_assignment_.py:127: DeprecationWarning: The linear_assignment function is deprecated in 0.21 and will be removed from 0.23. Use scipy.optimize.linear_sum_assignment instead.\n  DeprecationWarning)\nProcessing frame 00550\n/Applications/anaconda3/envs/torchenv/lib/python3.6/site-packages/sklearn/utils/linear_assignment_.py:127: DeprecationWarning: The linear_assignment function is deprecated in 0.21 and will be removed from 0.23. Use scipy.optimize.linear_sum_assignment instead.\n  DeprecationWarning)\nProcessing frame 00551\n/Applications/anaconda3/envs/torchenv/lib/python3.6/site-packages/sklearn/utils/linear_assignment_.py:127: DeprecationWarning: The linear_assignment function is deprecated in 0.21 and will be removed from 0.23. Use scipy.optimize.linear_sum_assignment instead.\n  DeprecationWarning)\nProcessing frame 00552\n/Applications/anaconda3/envs/torchenv/lib/python3.6/site-packages/sklearn/utils/linear_assignment_.py:127: DeprecationWarning: The linear_assignment function is deprecated in 0.21 and will be removed from 0.23. Use scipy.optimize.linear_sum_assignment instead.\n  DeprecationWarning)\nProcessing frame 00553\n/Applications/anaconda3/envs/torchenv/lib/python3.6/site-packages/sklearn/utils/linear_assignment_.py:127: DeprecationWarning: The linear_assignment function is deprecated in 0.21 and will be removed from 0.23. Use scipy.optimize.linear_sum_assignment instead.\n  DeprecationWarning)\nProcessing frame 00554\n/Applications/anaconda3/envs/torchenv/lib/python3.6/site-packages/sklearn/utils/linear_assignment_.py:127: DeprecationWarning: The linear_assignment function is deprecated in 0.21 and will be removed from 0.23. Use scipy.optimize.linear_sum_assignment instead.\n  DeprecationWarning)\nProcessing frame 00555\n/Applications/anaconda3/envs/torchenv/lib/python3.6/site-packages/sklearn/utils/linear_assignment_.py:127: DeprecationWarning: The linear_assignment function is deprecated in 0.21 and will be removed from 0.23. Use scipy.optimize.linear_sum_assignment instead.\n  DeprecationWarning)\nProcessing frame 00556\n/Applications/anaconda3/envs/torchenv/lib/python3.6/site-packages/sklearn/utils/linear_assignment_.py:127: DeprecationWarning: The linear_assignment function is deprecated in 0.21 and will be removed from 0.23. Use scipy.optimize.linear_sum_assignment instead.\n  DeprecationWarning)\nProcessing frame 00557\n/Applications/anaconda3/envs/torchenv/lib/python3.6/site-packages/sklearn/utils/linear_assignment_.py:127: DeprecationWarning: The linear_assignment function is deprecated in 0.21 and will be removed from 0.23. Use scipy.optimize.linear_sum_assignment instead.\n  DeprecationWarning)\nProcessing frame 00558\n/Applications/anaconda3/envs/torchenv/lib/python3.6/site-packages/sklearn/utils/linear_assignment_.py:127: DeprecationWarning: The linear_assignment function is deprecated in 0.21 and will be removed from 0.23. Use scipy.optimize.linear_sum_assignment instead.\n  DeprecationWarning)\nProcessing frame 00559\n/Applications/anaconda3/envs/torchenv/lib/python3.6/site-packages/sklearn/utils/linear_assignment_.py:127: DeprecationWarning: The linear_assignment function is deprecated in 0.21 and will be removed from 0.23. Use scipy.optimize.linear_sum_assignment instead.\n  DeprecationWarning)\n/Applications/anaconda3/envs/torchenv/lib/python3.6/site-packages/sklearn/utils/linear_assignment_.py:127: DeprecationWarning: The linear_assignment function is deprecated in 0.21 and will be removed from 0.23. Use scipy.optimize.linear_sum_assignment instead.\n  DeprecationWarning)\nProcessing frame 00560\n/Applications/anaconda3/envs/torchenv/lib/python3.6/site-packages/sklearn/utils/linear_assignment_.py:127: DeprecationWarning: The linear_assignment function is deprecated in 0.21 and will be removed from 0.23. Use scipy.optimize.linear_sum_assignment instead.\n  DeprecationWarning)\nProcessing frame 00561\n/Applications/anaconda3/envs/torchenv/lib/python3.6/site-packages/sklearn/utils/linear_assignment_.py:127: DeprecationWarning: The linear_assignment function is deprecated in 0.21 and will be removed from 0.23. Use scipy.optimize.linear_sum_assignment instead.\n  DeprecationWarning)\nProcessing frame 00562\n/Applications/anaconda3/envs/torchenv/lib/python3.6/site-packages/sklearn/utils/linear_assignment_.py:127: DeprecationWarning: The linear_assignment function is deprecated in 0.21 and will be removed from 0.23. Use scipy.optimize.linear_sum_assignment instead.\n  DeprecationWarning)\n/Applications/anaconda3/envs/torchenv/lib/python3.6/site-packages/sklearn/utils/linear_assignment_.py:127: DeprecationWarning: The linear_assignment function is deprecated in 0.21 and will be removed from 0.23. Use scipy.optimize.linear_sum_assignment instead.\n  DeprecationWarning)\nProcessing frame 00563\n/Applications/anaconda3/envs/torchenv/lib/python3.6/site-packages/sklearn/utils/linear_assignment_.py:127: DeprecationWarning: The linear_assignment function is deprecated in 0.21 and will be removed from 0.23. Use scipy.optimize.linear_sum_assignment instead.\n  DeprecationWarning)\nProcessing frame 00564\n/Applications/anaconda3/envs/torchenv/lib/python3.6/site-packages/sklearn/utils/linear_assignment_.py:127: DeprecationWarning: The linear_assignment function is deprecated in 0.21 and will be removed from 0.23. Use scipy.optimize.linear_sum_assignment instead.\n  DeprecationWarning)\n/Applications/anaconda3/envs/torchenv/lib/python3.6/site-packages/sklearn/utils/linear_assignment_.py:127: DeprecationWarning: The linear_assignment function is deprecated in 0.21 and will be removed from 0.23. Use scipy.optimize.linear_sum_assignment instead.\n  DeprecationWarning)\nProcessing frame 00565\n/Applications/anaconda3/envs/torchenv/lib/python3.6/site-packages/sklearn/utils/linear_assignment_.py:127: DeprecationWarning: The linear_assignment function is deprecated in 0.21 and will be removed from 0.23. Use scipy.optimize.linear_sum_assignment instead.\n  DeprecationWarning)\nProcessing frame 00566\n/Applications/anaconda3/envs/torchenv/lib/python3.6/site-packages/sklearn/utils/linear_assignment_.py:127: DeprecationWarning: The linear_assignment function is deprecated in 0.21 and will be removed from 0.23. Use scipy.optimize.linear_sum_assignment instead.\n  DeprecationWarning)\nProcessing frame 00567\n/Applications/anaconda3/envs/torchenv/lib/python3.6/site-packages/sklearn/utils/linear_assignment_.py:127: DeprecationWarning: The linear_assignment function is deprecated in 0.21 and will be removed from 0.23. Use scipy.optimize.linear_sum_assignment instead.\n  DeprecationWarning)\nProcessing frame 00568\n/Applications/anaconda3/envs/torchenv/lib/python3.6/site-packages/sklearn/utils/linear_assignment_.py:127: DeprecationWarning: The linear_assignment function is deprecated in 0.21 and will be removed from 0.23. Use scipy.optimize.linear_sum_assignment instead.\n  DeprecationWarning)\nProcessing frame 00569\n/Applications/anaconda3/envs/torchenv/lib/python3.6/site-packages/sklearn/utils/linear_assignment_.py:127: DeprecationWarning: The linear_assignment function is deprecated in 0.21 and will be removed from 0.23. Use scipy.optimize.linear_sum_assignment instead.\n  DeprecationWarning)\nProcessing frame 00570\n/Applications/anaconda3/envs/torchenv/lib/python3.6/site-packages/sklearn/utils/linear_assignment_.py:127: DeprecationWarning: The linear_assignment function is deprecated in 0.21 and will be removed from 0.23. Use scipy.optimize.linear_sum_assignment instead.\n  DeprecationWarning)\nProcessing frame 00571\n/Applications/anaconda3/envs/torchenv/lib/python3.6/site-packages/sklearn/utils/linear_assignment_.py:127: DeprecationWarning: The linear_assignment function is deprecated in 0.21 and will be removed from 0.23. Use scipy.optimize.linear_sum_assignment instead.\n  DeprecationWarning)\nProcessing frame 00572\n/Applications/anaconda3/envs/torchenv/lib/python3.6/site-packages/sklearn/utils/linear_assignment_.py:127: DeprecationWarning: The linear_assignment function is deprecated in 0.21 and will be removed from 0.23. Use scipy.optimize.linear_sum_assignment instead.\n  DeprecationWarning)\nProcessing frame 00573\n/Applications/anaconda3/envs/torchenv/lib/python3.6/site-packages/sklearn/utils/linear_assignment_.py:127: DeprecationWarning: The linear_assignment function is deprecated in 0.21 and will be removed from 0.23. Use scipy.optimize.linear_sum_assignment instead.\n  DeprecationWarning)\nProcessing frame 00574\n/Applications/anaconda3/envs/torchenv/lib/python3.6/site-packages/sklearn/utils/linear_assignment_.py:127: DeprecationWarning: The linear_assignment function is deprecated in 0.21 and will be removed from 0.23. Use scipy.optimize.linear_sum_assignment instead.\n  DeprecationWarning)\nProcessing frame 00575\n/Applications/anaconda3/envs/torchenv/lib/python3.6/site-packages/sklearn/utils/linear_assignment_.py:127: DeprecationWarning: The linear_assignment function is deprecated in 0.21 and will be removed from 0.23. Use scipy.optimize.linear_sum_assignment instead.\n  DeprecationWarning)\nProcessing frame 00576\n/Applications/anaconda3/envs/torchenv/lib/python3.6/site-packages/sklearn/utils/linear_assignment_.py:127: DeprecationWarning: The linear_assignment function is deprecated in 0.21 and will be removed from 0.23. Use scipy.optimize.linear_sum_assignment instead.\n  DeprecationWarning)\nProcessing frame 00577\n/Applications/anaconda3/envs/torchenv/lib/python3.6/site-packages/sklearn/utils/linear_assignment_.py:127: DeprecationWarning: The linear_assignment function is deprecated in 0.21 and will be removed from 0.23. Use scipy.optimize.linear_sum_assignment instead.\n  DeprecationWarning)\nProcessing frame 00578\n/Applications/anaconda3/envs/torchenv/lib/python3.6/site-packages/sklearn/utils/linear_assignment_.py:127: DeprecationWarning: The linear_assignment function is deprecated in 0.21 and will be removed from 0.23. Use scipy.optimize.linear_sum_assignment instead.\n  DeprecationWarning)\nProcessing frame 00579\n/Applications/anaconda3/envs/torchenv/lib/python3.6/site-packages/sklearn/utils/linear_assignment_.py:127: DeprecationWarning: The linear_assignment function is deprecated in 0.21 and will be removed from 0.23. Use scipy.optimize.linear_sum_assignment instead.\n  DeprecationWarning)\nProcessing frame 00580\n/Applications/anaconda3/envs/torchenv/lib/python3.6/site-packages/sklearn/utils/linear_assignment_.py:127: DeprecationWarning: The linear_assignment function is deprecated in 0.21 and will be removed from 0.23. Use scipy.optimize.linear_sum_assignment instead.\n  DeprecationWarning)\nProcessing frame 00581\n/Applications/anaconda3/envs/torchenv/lib/python3.6/site-packages/sklearn/utils/linear_assignment_.py:127: DeprecationWarning: The linear_assignment function is deprecated in 0.21 and will be removed from 0.23. Use scipy.optimize.linear_sum_assignment instead.\n  DeprecationWarning)\nProcessing frame 00582\n/Applications/anaconda3/envs/torchenv/lib/python3.6/site-packages/sklearn/utils/linear_assignment_.py:127: DeprecationWarning: The linear_assignment function is deprecated in 0.21 and will be removed from 0.23. Use scipy.optimize.linear_sum_assignment instead.\n  DeprecationWarning)\nProcessing frame 00583\n/Applications/anaconda3/envs/torchenv/lib/python3.6/site-packages/sklearn/utils/linear_assignment_.py:127: DeprecationWarning: The linear_assignment function is deprecated in 0.21 and will be removed from 0.23. Use scipy.optimize.linear_sum_assignment instead.\n  DeprecationWarning)\nProcessing frame 00584\n/Applications/anaconda3/envs/torchenv/lib/python3.6/site-packages/sklearn/utils/linear_assignment_.py:127: DeprecationWarning: The linear_assignment function is deprecated in 0.21 and will be removed from 0.23. Use scipy.optimize.linear_sum_assignment instead.\n  DeprecationWarning)\nProcessing frame 00585\n/Applications/anaconda3/envs/torchenv/lib/python3.6/site-packages/sklearn/utils/linear_assignment_.py:127: DeprecationWarning: The linear_assignment function is deprecated in 0.21 and will be removed from 0.23. Use scipy.optimize.linear_sum_assignment instead.\n  DeprecationWarning)\nProcessing frame 00586\n/Applications/anaconda3/envs/torchenv/lib/python3.6/site-packages/sklearn/utils/linear_assignment_.py:127: DeprecationWarning: The linear_assignment function is deprecated in 0.21 and will be removed from 0.23. Use scipy.optimize.linear_sum_assignment instead.\n  DeprecationWarning)\nProcessing frame 00587\n/Applications/anaconda3/envs/torchenv/lib/python3.6/site-packages/sklearn/utils/linear_assignment_.py:127: DeprecationWarning: The linear_assignment function is deprecated in 0.21 and will be removed from 0.23. Use scipy.optimize.linear_sum_assignment instead.\n  DeprecationWarning)\nProcessing frame 00588\n/Applications/anaconda3/envs/torchenv/lib/python3.6/site-packages/sklearn/utils/linear_assignment_.py:127: DeprecationWarning: The linear_assignment function is deprecated in 0.21 and will be removed from 0.23. Use scipy.optimize.linear_sum_assignment instead.\n  DeprecationWarning)\nProcessing frame 00589\n/Applications/anaconda3/envs/torchenv/lib/python3.6/site-packages/sklearn/utils/linear_assignment_.py:127: DeprecationWarning: The linear_assignment function is deprecated in 0.21 and will be removed from 0.23. Use scipy.optimize.linear_sum_assignment instead.\n  DeprecationWarning)\nProcessing frame 00590\n/Applications/anaconda3/envs/torchenv/lib/python3.6/site-packages/sklearn/utils/linear_assignment_.py:127: DeprecationWarning: The linear_assignment function is deprecated in 0.21 and will be removed from 0.23. Use scipy.optimize.linear_sum_assignment instead.\n  DeprecationWarning)\nProcessing frame 00591\n/Applications/anaconda3/envs/torchenv/lib/python3.6/site-packages/sklearn/utils/linear_assignment_.py:127: DeprecationWarning: The linear_assignment function is deprecated in 0.21 and will be removed from 0.23. Use scipy.optimize.linear_sum_assignment instead.\n  DeprecationWarning)\nProcessing frame 00592\n/Applications/anaconda3/envs/torchenv/lib/python3.6/site-packages/sklearn/utils/linear_assignment_.py:127: DeprecationWarning: The linear_assignment function is deprecated in 0.21 and will be removed from 0.23. Use scipy.optimize.linear_sum_assignment instead.\n  DeprecationWarning)\nProcessing frame 00593\n/Applications/anaconda3/envs/torchenv/lib/python3.6/site-packages/sklearn/utils/linear_assignment_.py:127: DeprecationWarning: The linear_assignment function is deprecated in 0.21 and will be removed from 0.23. Use scipy.optimize.linear_sum_assignment instead.\n  DeprecationWarning)\nProcessing frame 00594\n/Applications/anaconda3/envs/torchenv/lib/python3.6/site-packages/sklearn/utils/linear_assignment_.py:127: DeprecationWarning: The linear_assignment function is deprecated in 0.21 and will be removed from 0.23. Use scipy.optimize.linear_sum_assignment instead.\n  DeprecationWarning)\nProcessing frame 00595\n/Applications/anaconda3/envs/torchenv/lib/python3.6/site-packages/sklearn/utils/linear_assignment_.py:127: DeprecationWarning: The linear_assignment function is deprecated in 0.21 and will be removed from 0.23. Use scipy.optimize.linear_sum_assignment instead.\n  DeprecationWarning)\n"
    }
   ],
   "source": [
    "!python /Users/timschroder/Documents/Uni/Bachelorarbeit/project_code/deep_sort/deep_sort_app.py     --sequence_dir=/Users/timschroder/Documents/Uni/Bachelorarbeit/project_code/deep_sort/LUEBECK.nosync/sea     --detection_file=/Users/timschroder/Documents/Uni/Bachelorarbeit/project_code/deep_sort/resources/detections/LUEBECK_mrcnn/sea.npy --output_file=/Users/timschroder/Documents/Uni/Bachelorarbeit/project_code/deep_sort/detections/sea.txt --min_confidence=0.7    --nn_budget=200 --max_cosine_distance=0.9   --nms_max_overlap=1 \t--display=False "
   ]
  },
  {
   "cell_type": "markdown",
   "metadata": {},
   "source": [
    "## Combine Deepsort bounding boxes with panoptic segmentation results"
   ]
  },
  {
   "cell_type": "code",
   "execution_count": 7,
   "metadata": {},
   "outputs": [],
   "source": [
    "# Load Deepsort bboxes\n",
    "DETECT_DIR = '/Users/timschroder/Documents/Uni/Bachelorarbeit/project_code/deep_sort/detections'\n",
    "detection_path_list = [video for video in glob.glob(DETECT_DIR + '/*.txt')]\n",
    "detection_path_list.sort()\n"
   ]
  },
  {
   "cell_type": "code",
   "execution_count": 8,
   "metadata": {},
   "outputs": [],
   "source": [
    "D_DIR = '/Users/timschroder/Documents/Uni/Bachelorarbeit/project_results.nosync/panoptic-seg/'\n",
    "data_path_list = [video for video in glob.glob(D_DIR + '*_data.npy')]\n",
    "data_path_list.sort()\n",
    "\n",
    "info_path_list = [video for video in glob.glob(D_DIR + '*_info.npy')]\n",
    "info_path_list.sort()\n"
   ]
  },
  {
   "cell_type": "code",
   "execution_count": 9,
   "metadata": {},
   "outputs": [
    {
     "output_type": "execute_result",
     "data": {
      "text/plain": "18"
     },
     "metadata": {},
     "execution_count": 9
    }
   ],
   "source": [
    "len(data_path_list)"
   ]
  },
  {
   "cell_type": "markdown",
   "metadata": {},
   "source": [
    "### Updating segmentation_info with track_id"
   ]
  },
  {
   "cell_type": "code",
   "execution_count": 10,
   "metadata": {},
   "outputs": [],
   "source": [
    "def box_to_tlbr(bbox):\n",
    "    bbox[2:] = bbox[:2] + bbox[2:]\n",
    "    return bbox"
   ]
  },
  {
   "cell_type": "code",
   "execution_count": 11,
   "metadata": {},
   "outputs": [],
   "source": [
    "def box_to_mask(bbox):\n",
    "    x_max = bbox[2]\n",
    "    x_min = bbox[0]\n",
    "    y_max = bbox[3]\n",
    "    y_min = bbox[1]\n",
    "    box_mask = np.fromfunction(lambda y, x: (x <= x_max) * (x >= x_min) * (y <= y_max) * (y >= y_min), (720,1280), dtype=int)\n",
    "    return box_mask"
   ]
  },
  {
   "cell_type": "code",
   "execution_count": 12,
   "metadata": {},
   "outputs": [],
   "source": [
    "def center_distance(box,pan_mask):\n",
    "    bbox = box_to_tlbr(box.copy())\n",
    "    box_mask = box_to_mask(bbox)    \n",
    "    center_pan_mask = center_of_mass(pan_mask)\n",
    "    center_box_mask = center_of_mass(box_mask)\n",
    "    dist = euclidean(center_pan_mask,center_box_mask)\n",
    "    return dist"
   ]
  },
  {
   "cell_type": "code",
   "execution_count": 13,
   "metadata": {
    "tags": []
   },
   "outputs": [
    {
     "output_type": "display_data",
     "data": {
      "text/plain": "HBox(children=(FloatProgress(value=0.0, max=1.0), HTML(value='')))",
      "application/vnd.jupyter.widget-view+json": {
       "version_major": 2,
       "version_minor": 0,
       "model_id": "5d0bbcdb53494d1b88ebf11320b8ec5c"
      }
     },
     "metadata": {}
    },
    {
     "output_type": "stream",
     "name": "stdout",
     "text": "/Users/timschroder/Documents/Uni/Bachelorarbeit/project_results.nosync/panoptic-seg/street_data.npy\n/Users/timschroder/Documents/Uni/Bachelorarbeit/project_results.nosync/panoptic-seg/street_info.npy\n/Users/timschroder/Documents/Uni/Bachelorarbeit/project_code/deep_sort/detections/street.txt\n"
    },
    {
     "output_type": "display_data",
     "data": {
      "text/plain": "HBox(children=(FloatProgress(value=0.0, max=590.0), HTML(value='')))",
      "application/vnd.jupyter.widget-view+json": {
       "version_major": 2,
       "version_minor": 0,
       "model_id": "6448935aaf554a80a383bea8ddea8e1a"
      }
     },
     "metadata": {}
    },
    {
     "output_type": "stream",
     "name": "stdout",
     "text": "\n/Users/timschroder/Documents/Uni/Bachelorarbeit/project_results.nosync/panoptic-seg/street_info_deepsort\n\n"
    }
   ],
   "source": [
    "\n",
    "for v in tqdm([17]):\n",
    "    print(data_path_list[v])\n",
    "    print(info_path_list[v])\n",
    "    print(detection_path_list[v])\n",
    "    panoptic_seg = np.load(data_path_list[v], allow_pickle=True) # change storage.py line 134 for this\n",
    "    segments_info = np.load(info_path_list[v],allow_pickle=True)\n",
    "    detection_file = detection_path_list[v]\n",
    "    detections_in = np.loadtxt(detection_file, delimiter=',')\n",
    "    if (len(detections_in) != 0):\n",
    "        frame_indices = detections_in[:, 0].astype(np.int)\n",
    "        min_frame_idx = frame_indices.astype(np.int).min()\n",
    "        max_frame_idx = frame_indices.astype(np.int).max()\n",
    "        for frame_idx in tqdm(range(min_frame_idx, max_frame_idx + 1)):\n",
    "            #print(\"Frame %05d/%05d\" % (frame_idx, max_frame_idx))\n",
    "            mask = frame_indices == frame_idx\n",
    "            rows = detections_in[mask]\n",
    "            pan_mask = panoptic_seg[frame_idx].numpy()\n",
    "            pan_ids = np.unique(pan_mask)[1:] #cut 0 in beginning\n",
    "            for row in rows:\n",
    "                track_id = row[1].astype(int)\n",
    "                box = row[2:6].astype(int)\n",
    "                distances = []#np.array(2,np.unique(pan_mask))\n",
    "                for pan_id in pan_ids:\n",
    "                    if segments_info[frame_idx][pan_id-1]['isthing']:\n",
    "                        pan_single_mask = pan_mask == pan_id\n",
    "                        dist = center_distance(box,pan_single_mask)\n",
    "                        distances.append(dist)\n",
    "                \n",
    "            #  print(min(distances))\n",
    "                if (len(distances) != 0):\n",
    "                    if min(distances) < 40: # distance small enough\n",
    "                        box_nr = pan_ids[distances.index(min(distances))]\n",
    "                        segments_info[frame_idx][box_nr-1].update( {'track_id' : track_id} )\n",
    "                # print(box_nr)\n",
    "                # print(track_id)\n",
    "\n",
    "    path = info_path_list[v][:-4]+'_deepsort' #Zurück ändern sobald roundabout da ist\n",
    "    print(path)\n",
    "    np.save(path,segments_info,allow_pickle=True)"
   ]
  },
  {
   "cell_type": "markdown",
   "metadata": {},
   "source": [
    "## Visualize Deepsort Video\n"
   ]
  }
 ],
 "metadata": {
  "language_info": {
   "codemirror_mode": {
    "name": "ipython",
    "version": 3
   },
   "file_extension": ".py",
   "mimetype": "text/x-python",
   "name": "python",
   "nbconvert_exporter": "python",
   "pygments_lexer": "ipython3",
   "version": "3.6.10-final"
  },
  "orig_nbformat": 2,
  "kernelspec": {
   "name": "python361064bittorchenvconda9e1e16987fc14f7ab8ba1e9367ed2215",
   "display_name": "Python 3.6.10 64-bit ('torchenv': conda)"
  }
 },
 "nbformat": 4,
 "nbformat_minor": 2
}